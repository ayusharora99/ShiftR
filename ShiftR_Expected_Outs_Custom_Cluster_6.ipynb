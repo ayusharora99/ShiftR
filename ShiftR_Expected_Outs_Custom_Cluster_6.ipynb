{
 "cells": [
  {
   "cell_type": "code",
   "execution_count": 1,
   "metadata": {},
   "outputs": [],
   "source": [
    "import pandas as pd\n",
    "from sklearn import preprocessing\n",
    "from sklearn.linear_model import LogisticRegression\n"
   ]
  },
  {
   "cell_type": "code",
   "execution_count": 2,
   "metadata": {},
   "outputs": [],
   "source": [
    "clusters = pd.read_csv('clusters.csv')\n",
    "college_trad_none = pd.read_csv('college_trad_none.csv')\n",
    "college_trad_1B = pd.read_csv('college_trad_1B.csv')\n",
    "college_trad_2B = pd.read_csv('college_trad_2B.csv')\n",
    "college_trad_3B = pd.read_csv('college_trad_3B.csv') \n",
    "college_trad_SS = pd.read_csv('college_trad_SS.csv') \n",
    "college_trad_LF = pd.read_csv('college_trad_LF.csv') \n",
    "college_trad_CF = pd.read_csv('college_trad_CF.csv') \n",
    "college_trad_RF = pd.read_csv('college_trad_RF.csv') "
   ]
  },
  {
   "cell_type": "code",
   "execution_count": 3,
   "metadata": {},
   "outputs": [],
   "source": [
    "clusters = clusters.drop(columns = ['Unnamed: 0'])"
   ]
  },
  {
   "cell_type": "code",
   "execution_count": 4,
   "metadata": {},
   "outputs": [
    {
     "data": {
      "text/plain": [
       "Unnamed: 0.1                 0.0\n",
       "batter_name                  0.0\n",
       "pitcher_handedness           0.0\n",
       "batter_handedness            0.0\n",
       "inning                       0.0\n",
       "outs                         0.0\n",
       "strikes                      0.0\n",
       "velocity                     0.0\n",
       "vertical_release_angle       0.0\n",
       "horizontal_release_angle     0.0\n",
       "spin_rate                    0.0\n",
       "release_height               0.0\n",
       "extension                    0.0\n",
       "vertical_break               0.0\n",
       "induced_vertical_break       0.0\n",
       "horizontal_break             0.0\n",
       "height_at_plate              0.0\n",
       "side_at_plate                0.0\n",
       "zone_speed                   0.0\n",
       "vertical_approach_angle      0.0\n",
       "horz_approach_angle          0.0\n",
       "zone_time                    0.0\n",
       "exit_velocity                0.0\n",
       "launch_angle                 0.0\n",
       "direction                    0.0\n",
       "hit_spin_rate               36.4\n",
       "position_at_110x            43.2\n",
       "position_at_110y            43.2\n",
       "position_at_110z            43.2\n",
       "distance                     0.0\n",
       "last_tracked_distance        0.0\n",
       "bearing                      0.0\n",
       "hang_time                    0.0\n",
       "pfxx                         0.0\n",
       "pfxz                         0.0\n",
       "vx0                          0.0\n",
       "vy0                          0.0\n",
       "vz0                          0.0\n",
       "ax                           0.0\n",
       "ay                           0.0\n",
       "play_result                  0.0\n",
       "traditional_cluster          0.0\n",
       "scikit_cluster               0.0\n",
       "custom_cluster               0.0\n",
       "dtype: float64"
      ]
     },
     "execution_count": 4,
     "metadata": {},
     "output_type": "execute_result"
    }
   ],
   "source": [
    "data_missing = clusters.isna()\n",
    "data_num_missing = data_missing.sum()\n",
    "data_num_missing/ len(clusters) * 100"
   ]
  },
  {
   "cell_type": "code",
   "execution_count": 5,
   "metadata": {},
   "outputs": [
    {
     "data": {
      "text/html": [
       "<div>\n",
       "<style scoped>\n",
       "    .dataframe tbody tr th:only-of-type {\n",
       "        vertical-align: middle;\n",
       "    }\n",
       "\n",
       "    .dataframe tbody tr th {\n",
       "        vertical-align: top;\n",
       "    }\n",
       "\n",
       "    .dataframe thead th {\n",
       "        text-align: right;\n",
       "    }\n",
       "</style>\n",
       "<table border=\"1\" class=\"dataframe\">\n",
       "  <thead>\n",
       "    <tr style=\"text-align: right;\">\n",
       "      <th></th>\n",
       "      <th>Unnamed: 0.1</th>\n",
       "      <th>batter_name</th>\n",
       "      <th>pitcher_handedness</th>\n",
       "      <th>batter_handedness</th>\n",
       "      <th>inning</th>\n",
       "      <th>outs</th>\n",
       "      <th>strikes</th>\n",
       "      <th>velocity</th>\n",
       "      <th>vertical_release_angle</th>\n",
       "      <th>horizontal_release_angle</th>\n",
       "      <th>...</th>\n",
       "      <th>pfxz</th>\n",
       "      <th>vx0</th>\n",
       "      <th>vy0</th>\n",
       "      <th>vz0</th>\n",
       "      <th>ax</th>\n",
       "      <th>ay</th>\n",
       "      <th>play_result</th>\n",
       "      <th>traditional_cluster</th>\n",
       "      <th>scikit_cluster</th>\n",
       "      <th>custom_cluster</th>\n",
       "    </tr>\n",
       "  </thead>\n",
       "  <tbody>\n",
       "    <tr>\n",
       "      <th>0</th>\n",
       "      <td>300</td>\n",
       "      <td>Seymour, Bobby</td>\n",
       "      <td>1</td>\n",
       "      <td>1</td>\n",
       "      <td>1.0</td>\n",
       "      <td>1.0</td>\n",
       "      <td>2.0</td>\n",
       "      <td>92.463621</td>\n",
       "      <td>-1.293371</td>\n",
       "      <td>-2.147161</td>\n",
       "      <td>...</td>\n",
       "      <td>8.469302</td>\n",
       "      <td>4.810461</td>\n",
       "      <td>-134.517425</td>\n",
       "      <td>-3.564723</td>\n",
       "      <td>-8.995066</td>\n",
       "      <td>32.286544</td>\n",
       "      <td>1</td>\n",
       "      <td>0.0</td>\n",
       "      <td>4</td>\n",
       "      <td>4.0</td>\n",
       "    </tr>\n",
       "    <tr>\n",
       "      <th>1</th>\n",
       "      <td>302</td>\n",
       "      <td>Seymour, Bobby</td>\n",
       "      <td>1</td>\n",
       "      <td>1</td>\n",
       "      <td>1.0</td>\n",
       "      <td>0.0</td>\n",
       "      <td>1.0</td>\n",
       "      <td>85.221137</td>\n",
       "      <td>0.254052</td>\n",
       "      <td>-3.889359</td>\n",
       "      <td>...</td>\n",
       "      <td>2.617599</td>\n",
       "      <td>8.093095</td>\n",
       "      <td>-123.967974</td>\n",
       "      <td>-0.164367</td>\n",
       "      <td>-15.091854</td>\n",
       "      <td>28.772808</td>\n",
       "      <td>0</td>\n",
       "      <td>4.0</td>\n",
       "      <td>5</td>\n",
       "      <td>1.0</td>\n",
       "    </tr>\n",
       "    <tr>\n",
       "      <th>2</th>\n",
       "      <td>424</td>\n",
       "      <td>Seymour, Bobby</td>\n",
       "      <td>1</td>\n",
       "      <td>1</td>\n",
       "      <td>9.0</td>\n",
       "      <td>0.0</td>\n",
       "      <td>0.0</td>\n",
       "      <td>73.479312</td>\n",
       "      <td>0.594389</td>\n",
       "      <td>-1.295192</td>\n",
       "      <td>...</td>\n",
       "      <td>-1.108555</td>\n",
       "      <td>2.692137</td>\n",
       "      <td>-106.850350</td>\n",
       "      <td>-0.351201</td>\n",
       "      <td>5.834135</td>\n",
       "      <td>20.167107</td>\n",
       "      <td>0</td>\n",
       "      <td>4.0</td>\n",
       "      <td>5</td>\n",
       "      <td>1.0</td>\n",
       "    </tr>\n",
       "    <tr>\n",
       "      <th>3</th>\n",
       "      <td>457</td>\n",
       "      <td>Seymour, Bobby</td>\n",
       "      <td>1</td>\n",
       "      <td>1</td>\n",
       "      <td>3.0</td>\n",
       "      <td>1.0</td>\n",
       "      <td>1.0</td>\n",
       "      <td>75.800159</td>\n",
       "      <td>2.194475</td>\n",
       "      <td>0.608890</td>\n",
       "      <td>...</td>\n",
       "      <td>-7.211672</td>\n",
       "      <td>-0.681799</td>\n",
       "      <td>-110.278789</td>\n",
       "      <td>2.527870</td>\n",
       "      <td>11.848525</td>\n",
       "      <td>19.170036</td>\n",
       "      <td>1</td>\n",
       "      <td>8.0</td>\n",
       "      <td>3</td>\n",
       "      <td>3.0</td>\n",
       "    </tr>\n",
       "    <tr>\n",
       "      <th>4</th>\n",
       "      <td>462</td>\n",
       "      <td>Seymour, Bobby</td>\n",
       "      <td>1</td>\n",
       "      <td>1</td>\n",
       "      <td>3.0</td>\n",
       "      <td>2.0</td>\n",
       "      <td>2.0</td>\n",
       "      <td>89.006952</td>\n",
       "      <td>-1.225558</td>\n",
       "      <td>-4.024021</td>\n",
       "      <td>...</td>\n",
       "      <td>10.753557</td>\n",
       "      <td>8.712936</td>\n",
       "      <td>-129.127566</td>\n",
       "      <td>-3.272390</td>\n",
       "      <td>-13.346503</td>\n",
       "      <td>31.863196</td>\n",
       "      <td>0</td>\n",
       "      <td>8.0</td>\n",
       "      <td>4</td>\n",
       "      <td>4.0</td>\n",
       "    </tr>\n",
       "  </tbody>\n",
       "</table>\n",
       "<p>5 rows × 44 columns</p>\n",
       "</div>"
      ],
      "text/plain": [
       "   Unnamed: 0.1     batter_name  pitcher_handedness  batter_handedness  \\\n",
       "0           300  Seymour, Bobby                   1                  1   \n",
       "1           302  Seymour, Bobby                   1                  1   \n",
       "2           424  Seymour, Bobby                   1                  1   \n",
       "3           457  Seymour, Bobby                   1                  1   \n",
       "4           462  Seymour, Bobby                   1                  1   \n",
       "\n",
       "   inning  outs  strikes   velocity  vertical_release_angle  \\\n",
       "0     1.0   1.0      2.0  92.463621               -1.293371   \n",
       "1     1.0   0.0      1.0  85.221137                0.254052   \n",
       "2     9.0   0.0      0.0  73.479312                0.594389   \n",
       "3     3.0   1.0      1.0  75.800159                2.194475   \n",
       "4     3.0   2.0      2.0  89.006952               -1.225558   \n",
       "\n",
       "   horizontal_release_angle  ...       pfxz       vx0         vy0       vz0  \\\n",
       "0                 -2.147161  ...   8.469302  4.810461 -134.517425 -3.564723   \n",
       "1                 -3.889359  ...   2.617599  8.093095 -123.967974 -0.164367   \n",
       "2                 -1.295192  ...  -1.108555  2.692137 -106.850350 -0.351201   \n",
       "3                  0.608890  ...  -7.211672 -0.681799 -110.278789  2.527870   \n",
       "4                 -4.024021  ...  10.753557  8.712936 -129.127566 -3.272390   \n",
       "\n",
       "          ax         ay  play_result  traditional_cluster  scikit_cluster  \\\n",
       "0  -8.995066  32.286544            1                  0.0               4   \n",
       "1 -15.091854  28.772808            0                  4.0               5   \n",
       "2   5.834135  20.167107            0                  4.0               5   \n",
       "3  11.848525  19.170036            1                  8.0               3   \n",
       "4 -13.346503  31.863196            0                  8.0               4   \n",
       "\n",
       "   custom_cluster  \n",
       "0             4.0  \n",
       "1             1.0  \n",
       "2             1.0  \n",
       "3             3.0  \n",
       "4             4.0  \n",
       "\n",
       "[5 rows x 44 columns]"
      ]
     },
     "execution_count": 5,
     "metadata": {},
     "output_type": "execute_result"
    }
   ],
   "source": [
    "clusters.head()"
   ]
  },
  {
   "cell_type": "code",
   "execution_count": 6,
   "metadata": {},
   "outputs": [
    {
     "data": {
      "text/plain": [
       "4.0    30.0\n",
       "0.0    26.0\n",
       "8.0    19.2\n",
       "6.0    13.2\n",
       "9.0     5.6\n",
       "7.0     3.6\n",
       "5.0     2.4\n",
       "Name: traditional_cluster, dtype: float64"
      ]
     },
     "execution_count": 6,
     "metadata": {},
     "output_type": "execute_result"
    }
   ],
   "source": [
    "clusters['traditional_cluster'].value_counts(normalize=True)*100"
   ]
  },
  {
   "cell_type": "code",
   "execution_count": 7,
   "metadata": {},
   "outputs": [],
   "source": [
    "#clusters['scikit_cluster'].value_counts(normalize=True)*100"
   ]
  },
  {
   "cell_type": "code",
   "execution_count": 8,
   "metadata": {},
   "outputs": [
    {
     "data": {
      "text/plain": [
       "2.0    24.0\n",
       "5.0    18.0\n",
       "3.0    17.2\n",
       "1.0    16.8\n",
       "4.0    13.2\n",
       "0.0    10.8\n",
       "Name: custom_cluster, dtype: float64"
      ]
     },
     "execution_count": 8,
     "metadata": {},
     "output_type": "execute_result"
    }
   ],
   "source": [
    "clusters['custom_cluster'].value_counts(normalize=True)*100"
   ]
  },
  {
   "cell_type": "code",
   "execution_count": 9,
   "metadata": {},
   "outputs": [],
   "source": [
    "college_trad_none_lr = college_trad_none[['exit_velocity','hang_time','play_result']]\n",
    "college_trad_1B_lr = college_trad_1B[['exit_velocity','hang_time','play_result']]\n",
    "college_trad_2B_lr = college_trad_2B[['exit_velocity','hang_time','play_result']]\n",
    "college_trad_3B_lr = college_trad_3B[['exit_velocity','hang_time','play_result']]\n",
    "college_trad_SS_lr = college_trad_SS[['exit_velocity','hang_time','play_result']]\n",
    "college_trad_LF_lr = college_trad_LF[['exit_velocity','hang_time','play_result']]\n",
    "college_trad_CF_lr = college_trad_CF[['exit_velocity','hang_time','play_result']]\n",
    "college_trad_RF_lr = college_trad_RF[['exit_velocity','hang_time','play_result']]"
   ]
  },
  {
   "cell_type": "code",
   "execution_count": 10,
   "metadata": {},
   "outputs": [],
   "source": [
    "traditional_none = clusters.loc[clusters['traditional_cluster'] == 0]\n",
    "traditional_1B = pd.read_csv('Seymour_Bobby_1B.csv')\n",
    "traditional_2B = clusters.loc[clusters['traditional_cluster'] == 4]\n",
    "traditional_3B = clusters.loc[clusters['traditional_cluster'] == 5]\n",
    "traditional_SS = clusters.loc[clusters['traditional_cluster'] == 6]\n",
    "traditional_LF = clusters.loc[clusters['traditional_cluster'] == 7]\n",
    "traditional_CF = clusters.loc[clusters['traditional_cluster'] == 8]\n",
    "traditional_RF = clusters.loc[clusters['traditional_cluster'] == 9]"
   ]
  },
  {
   "cell_type": "code",
   "execution_count": 11,
   "metadata": {},
   "outputs": [],
   "source": [
    "traditional_none_lr = traditional_none[['exit_velocity','hang_time','play_result']]\n",
    "traditional_1B_lr = traditional_1B[['exit_velocity','hang_time','play_result']]\n",
    "traditional_2B_lr = traditional_2B[['exit_velocity','hang_time','play_result']]\n",
    "traditional_3B_lr = traditional_3B[['exit_velocity','hang_time','play_result']]\n",
    "traditional_SS_lr = traditional_SS[['exit_velocity','hang_time','play_result']]\n",
    "traditional_LF_lr = traditional_LF[['exit_velocity','hang_time','play_result']]\n",
    "traditional_CF_lr = traditional_CF[['exit_velocity','hang_time','play_result']]\n",
    "traditional_RF_lr = traditional_RF[['exit_velocity','hang_time','play_result']]"
   ]
  },
  {
   "cell_type": "code",
   "execution_count": 12,
   "metadata": {},
   "outputs": [],
   "source": [
    "shift_1B = clusters.loc[clusters['custom_cluster'] == 3]\n",
    "shift_RF = clusters.loc[clusters['custom_cluster'] == 0]\n",
    "shift_LF = clusters.loc[clusters['custom_cluster'] == 4]\n",
    "shift_2B = clusters.loc[clusters['custom_cluster'] == 1]\n",
    "shift_SS = clusters.loc[clusters['custom_cluster'] == 2]\n",
    "shift_3B = clusters.loc[clusters['custom_cluster'] == 5]\n",
    "shift_CF = pd.read_csv('Seymour_Bobby_1B.csv')"
   ]
  },
  {
   "cell_type": "code",
   "execution_count": 13,
   "metadata": {},
   "outputs": [],
   "source": [
    "shift_1B_lr = shift_1B[['exit_velocity','hang_time','play_result']]\n",
    "shift_2B_lr = shift_2B[['exit_velocity','hang_time','play_result']]\n",
    "shift_3B_lr = shift_3B[['exit_velocity','hang_time','play_result']]\n",
    "shift_SS_lr = shift_SS[['exit_velocity','hang_time','play_result']]\n",
    "shift_LF_lr = shift_LF[['exit_velocity','hang_time','play_result']]\n",
    "shift_CF_lr = shift_CF[['exit_velocity','hang_time','play_result']]\n",
    "shift_RF_lr = shift_RF[['exit_velocity','hang_time','play_result']]"
   ]
  },
  {
   "cell_type": "code",
   "execution_count": 14,
   "metadata": {},
   "outputs": [
    {
     "data": {
      "text/html": [
       "<div>\n",
       "<style scoped>\n",
       "    .dataframe tbody tr th:only-of-type {\n",
       "        vertical-align: middle;\n",
       "    }\n",
       "\n",
       "    .dataframe tbody tr th {\n",
       "        vertical-align: top;\n",
       "    }\n",
       "\n",
       "    .dataframe thead th {\n",
       "        text-align: right;\n",
       "    }\n",
       "</style>\n",
       "<table border=\"1\" class=\"dataframe\">\n",
       "  <thead>\n",
       "    <tr style=\"text-align: right;\">\n",
       "      <th></th>\n",
       "      <th>exit_velocity</th>\n",
       "      <th>hang_time</th>\n",
       "      <th>play_result</th>\n",
       "    </tr>\n",
       "  </thead>\n",
       "  <tbody>\n",
       "    <tr>\n",
       "      <th>0</th>\n",
       "      <td>94.181973</td>\n",
       "      <td>4.077540</td>\n",
       "      <td>1</td>\n",
       "    </tr>\n",
       "    <tr>\n",
       "      <th>1</th>\n",
       "      <td>64.663460</td>\n",
       "      <td>5.007125</td>\n",
       "      <td>0</td>\n",
       "    </tr>\n",
       "    <tr>\n",
       "      <th>2</th>\n",
       "      <td>65.859338</td>\n",
       "      <td>0.256734</td>\n",
       "      <td>0</td>\n",
       "    </tr>\n",
       "    <tr>\n",
       "      <th>3</th>\n",
       "      <td>71.959298</td>\n",
       "      <td>4.831517</td>\n",
       "      <td>0</td>\n",
       "    </tr>\n",
       "    <tr>\n",
       "      <th>4</th>\n",
       "      <td>104.816863</td>\n",
       "      <td>4.055240</td>\n",
       "      <td>0</td>\n",
       "    </tr>\n",
       "  </tbody>\n",
       "</table>\n",
       "</div>"
      ],
      "text/plain": [
       "   exit_velocity  hang_time  play_result\n",
       "0      94.181973   4.077540            1\n",
       "1      64.663460   5.007125            0\n",
       "2      65.859338   0.256734            0\n",
       "3      71.959298   4.831517            0\n",
       "4     104.816863   4.055240            0"
      ]
     },
     "execution_count": 14,
     "metadata": {},
     "output_type": "execute_result"
    }
   ],
   "source": [
    "college_trad_none_lr.head()"
   ]
  },
  {
   "cell_type": "code",
   "execution_count": 15,
   "metadata": {},
   "outputs": [
    {
     "name": "stdout",
     "output_type": "stream",
     "text": [
      "BIP: 65, Traditional Outs: 35,  Expected Outs: 35.40399941089817,  Traditional Out Probability: 54.4676914013818%\n"
     ]
    }
   ],
   "source": [
    "# No mans land Traditional\n",
    "bip = len(traditional_none_lr)\n",
    "X = preprocessing.scale(college_trad_none_lr[['exit_velocity','hang_time']])\n",
    "y = college_trad_none_lr['play_result']\n",
    "clf_none = LogisticRegression(random_state=42).fit(X, y)\n",
    "batter_X = preprocessing.scale(traditional_none_lr[['exit_velocity','hang_time']])\n",
    "traditional_none = clf_none.predict_proba(batter_X)\n",
    "out_probs = []\n",
    "for probs in traditional_none:\n",
    "    out_probs.append(probs[0])\n",
    "traditional_none_lr['traditional_out_prob'] = out_probs\n",
    "expected_outs = sum(traditional_none_lr['traditional_out_prob'])\n",
    "trad_none_outs = bip - sum(traditional_none_lr['play_result'])\n",
    "expected_out_prob = expected_outs / bip\n",
    "\n",
    "print(\"BIP: \" + str(bip) + ', '+ 'Traditional Outs: ' + str(trad_none_outs) + ', ' +\" Expected Outs: \" + str(expected_outs) + ', ' + \" Traditional Out Probability: \" + str(expected_out_prob*100) + '%')"
   ]
  },
  {
   "cell_type": "code",
   "execution_count": 16,
   "metadata": {},
   "outputs": [
    {
     "name": "stdout",
     "output_type": "stream",
     "text": [
      "BIP: 48, Traditional Outs: 35,  Expected Outs: 31.361298889518814,  Traditional Out Probability: 65.3360393531642%\n"
     ]
    }
   ],
   "source": [
    "# 1B Traditional\n",
    "bip = len(traditional_1B_lr)\n",
    "X = preprocessing.scale(college_trad_1B_lr[['exit_velocity','hang_time']])\n",
    "y = college_trad_1B_lr['play_result']\n",
    "clf_1B = LogisticRegression(random_state=42).fit(X, y)\n",
    "batter_X = preprocessing.scale(traditional_1B_lr[['exit_velocity','hang_time']])\n",
    "traditional_1B = clf_1B.predict_proba(batter_X)\n",
    "out_probs = []\n",
    "for probs in traditional_1B:\n",
    "    out_probs.append(probs[0])\n",
    "traditional_1B_lr['traditional_out_prob'] = out_probs\n",
    "expected_outs = sum(traditional_1B_lr['traditional_out_prob'])\n",
    "trad_1B_outs = bip - sum(traditional_1B_lr['play_result'])\n",
    "expected_out_prob = expected_outs / bip\n",
    "\n",
    "print(\"BIP: \" + str(bip) + ', '+ 'Traditional Outs: ' + str(trad_1B_outs) + ', ' +\" Expected Outs: \" + str(expected_outs) + ', ' + \" Traditional Out Probability: \" + str(expected_out_prob*100) + '%')"
   ]
  },
  {
   "cell_type": "code",
   "execution_count": 17,
   "metadata": {},
   "outputs": [
    {
     "name": "stdout",
     "output_type": "stream",
     "text": [
      "BIP: 75, Traditional Outs: 51,  Expected Outs: 53.333407242741025,  Traditional Out Probability: 71.11120965698802%\n"
     ]
    }
   ],
   "source": [
    "# 2B Traditional\n",
    "bip = len(traditional_2B_lr)\n",
    "X = preprocessing.scale(college_trad_2B_lr[['exit_velocity','hang_time']])\n",
    "y = college_trad_2B_lr['play_result']\n",
    "clf_2B = LogisticRegression(random_state=42).fit(X, y)\n",
    "batter_X = preprocessing.scale(traditional_2B_lr[['exit_velocity','hang_time']])\n",
    "traditional_2B = clf_2B.predict_proba(batter_X)\n",
    "out_probs = []\n",
    "for probs in traditional_2B:\n",
    "    out_probs.append(probs[0])\n",
    "traditional_2B_lr['traditional_out_prob'] = out_probs\n",
    "expected_outs = sum(traditional_2B_lr['traditional_out_prob'])\n",
    "trad_2B_outs = bip - sum(traditional_2B_lr['play_result'])\n",
    "expected_out_prob = expected_outs / bip\n",
    "\n",
    "print(\"BIP: \" + str(bip) + ', '+ 'Traditional Outs: ' + str(trad_2B_outs) + ', ' + \" Expected Outs: \" + str(expected_outs) + ', ' + \" Traditional Out Probability: \" + str(expected_out_prob*100) + '%')"
   ]
  },
  {
   "cell_type": "code",
   "execution_count": 18,
   "metadata": {},
   "outputs": [
    {
     "name": "stdout",
     "output_type": "stream",
     "text": [
      "BIP: 6, Traditional Outs: 2,  Expected Outs: 3.579320034663543,  Traditional Out Probability: 59.65533391105905%\n"
     ]
    }
   ],
   "source": [
    "# 3B Traditional \n",
    "bip = len(traditional_3B_lr)\n",
    "X = preprocessing.scale(college_trad_3B_lr[['exit_velocity','hang_time']])\n",
    "y = college_trad_3B_lr['play_result']\n",
    "clf_3B = LogisticRegression(random_state=42).fit(X, y)\n",
    "batter_X = preprocessing.scale(traditional_3B_lr[['exit_velocity','hang_time']])\n",
    "traditional_3B = clf_3B.predict_proba(batter_X)\n",
    "out_probs = []\n",
    "for probs in traditional_3B:\n",
    "    out_probs.append(probs[0])\n",
    "traditional_3B_lr['traditional_out_prob'] = out_probs\n",
    "expected_outs = sum(traditional_3B_lr['traditional_out_prob'])\n",
    "trad_3B_outs = bip - sum(traditional_3B_lr['play_result'])\n",
    "expected_out_prob = expected_outs / bip\n",
    "\n",
    "print(\"BIP: \" + str(bip) + ', '+ 'Traditional Outs: ' + str(trad_3B_outs) + ', ' + \" Expected Outs: \" + str(expected_outs) + ', ' + \" Traditional Out Probability: \" + str(expected_out_prob*100) + '%')"
   ]
  },
  {
   "cell_type": "code",
   "execution_count": 19,
   "metadata": {},
   "outputs": [
    {
     "name": "stdout",
     "output_type": "stream",
     "text": [
      "BIP: 33, Traditional Outs: 18,  Expected Outs: 22.063255458879176,  Traditional Out Probability: 66.85834987539144%\n"
     ]
    }
   ],
   "source": [
    "# SS Traditional\n",
    "bip = len(traditional_SS_lr)\n",
    "X = preprocessing.scale(college_trad_SS_lr[['exit_velocity','hang_time']])\n",
    "y = college_trad_SS_lr['play_result']\n",
    "clf_SS = LogisticRegression(random_state=42).fit(X, y)\n",
    "batter_X = preprocessing.scale(traditional_SS_lr[['exit_velocity','hang_time']])\n",
    "traditional_SS = clf_SS.predict_proba(batter_X)\n",
    "out_probs = []\n",
    "for probs in traditional_SS:\n",
    "    out_probs.append(probs[0])\n",
    "traditional_SS_lr['traditional_out_prob'] = out_probs\n",
    "expected_outs = sum(traditional_SS_lr['traditional_out_prob'])\n",
    "trad_SS_outs = bip - sum(traditional_SS_lr['play_result'])\n",
    "expected_out_prob = expected_outs / bip\n",
    "\n",
    "print(\"BIP: \" + str(bip) + ', '+ 'Traditional Outs: ' + str(trad_SS_outs) + ', ' + \" Expected Outs: \" + str(expected_outs) + ', ' + \" Traditional Out Probability: \" + str(expected_out_prob*100) + '%')"
   ]
  },
  {
   "cell_type": "code",
   "execution_count": 20,
   "metadata": {},
   "outputs": [
    {
     "name": "stdout",
     "output_type": "stream",
     "text": [
      "BIP: 9, Traditional Outs: 3,  Expected Outs: 5.354549917988117,  Traditional Out Probability: 59.49499908875686%\n"
     ]
    }
   ],
   "source": [
    "# LF Traditional \n",
    "bip = len(traditional_LF_lr)\n",
    "X = preprocessing.scale(college_trad_LF_lr[['exit_velocity','hang_time']])\n",
    "y = college_trad_LF_lr['play_result']\n",
    "clf_LF = LogisticRegression(random_state=42).fit(X, y)\n",
    "batter_X = preprocessing.scale(traditional_LF_lr[['exit_velocity','hang_time']])\n",
    "traditional_LF = clf_LF.predict_proba(batter_X)\n",
    "out_probs = []\n",
    "for probs in traditional_LF:\n",
    "    out_probs.append(probs[0])\n",
    "traditional_LF_lr['traditional_out_prob'] = out_probs\n",
    "expected_outs = sum(traditional_LF_lr['traditional_out_prob'])\n",
    "trad_LF_outs = bip - sum(traditional_LF_lr['play_result'])\n",
    "expected_out_prob = expected_outs / bip\n",
    "\n",
    "print(\"BIP: \" + str(bip) + ', '+ 'Traditional Outs: ' + str(trad_LF_outs) + ', ' + \" Expected Outs: \" + str(expected_outs) + ', ' + \" Traditional Out Probability: \" + str(expected_out_prob*100) + '%')"
   ]
  },
  {
   "cell_type": "code",
   "execution_count": 21,
   "metadata": {},
   "outputs": [
    {
     "name": "stdout",
     "output_type": "stream",
     "text": [
      "BIP: 48, Traditional Outs: 31,  Expected Outs: 35.16852312984278,  Traditional Out Probability: 73.2677565205058%\n"
     ]
    }
   ],
   "source": [
    "# CF Traditional\n",
    "bip = len(traditional_CF_lr)\n",
    "X = preprocessing.scale(college_trad_CF_lr[['exit_velocity','hang_time']])\n",
    "y = college_trad_CF_lr['play_result']\n",
    "clf_CF = LogisticRegression(random_state=42).fit(X, y)\n",
    "batter_X = preprocessing.scale(traditional_CF_lr[['exit_velocity','hang_time']])\n",
    "traditional_CF = clf_CF.predict_proba(batter_X)\n",
    "out_probs = []\n",
    "for probs in traditional_CF:\n",
    "    out_probs.append(probs[0])\n",
    "traditional_CF_lr['traditional_out_prob'] = out_probs\n",
    "expected_outs = sum(traditional_CF_lr['traditional_out_prob'])\n",
    "trad_CF_outs = bip - sum(traditional_CF_lr['play_result'])\n",
    "expected_out_prob = expected_outs / bip\n",
    "\n",
    "print(\"BIP: \" + str(bip) + ', '+ 'Traditional Outs: ' + str(trad_CF_outs) + ', ' + \" Expected Outs: \" + str(expected_outs) + ', ' + \" Traditional Out Probability: \" + str(expected_out_prob*100) + '%')"
   ]
  },
  {
   "cell_type": "code",
   "execution_count": 22,
   "metadata": {},
   "outputs": [
    {
     "name": "stdout",
     "output_type": "stream",
     "text": [
      "BIP: 14, Traditional Outs: 2,  Expected Outs: 8.071525885340817,  Traditional Out Probability: 57.65375632386298%\n"
     ]
    }
   ],
   "source": [
    "# RF Traditional\n",
    "bip = len(traditional_RF_lr)\n",
    "X = preprocessing.scale(college_trad_RF_lr[['exit_velocity','hang_time']])\n",
    "y = college_trad_RF_lr['play_result']\n",
    "clf_RF = LogisticRegression(random_state=42).fit(X, y)\n",
    "batter_X = preprocessing.scale(traditional_RF_lr[['exit_velocity','hang_time']])\n",
    "traditional_RF = clf_RF.predict_proba(batter_X)\n",
    "out_probs = []\n",
    "for probs in traditional_RF:\n",
    "    out_probs.append(probs[0])\n",
    "traditional_RF_lr['traditional_out_prob'] = out_probs\n",
    "expected_outs = sum(traditional_RF_lr['traditional_out_prob'])\n",
    "trad_RF_outs = bip - sum(traditional_RF_lr['play_result'])\n",
    "expected_out_prob = expected_outs / bip\n",
    "\n",
    "print(\"BIP: \" + str(bip) + ', '+ 'Traditional Outs: ' + str(trad_RF_outs) + ', ' + \" Expected Outs: \" + str(expected_outs) + ', ' + \" Traditional Out Probability: \" + str(expected_out_prob*100) + '%')"
   ]
  },
  {
   "cell_type": "code",
   "execution_count": 23,
   "metadata": {},
   "outputs": [
    {
     "name": "stdout",
     "output_type": "stream",
     "text": [
      "Total BIP: 298\n",
      "Traditional Outs: 177\n",
      "Traditional Out Probability: 59.395973154362416%\n"
     ]
    }
   ],
   "source": [
    "bip = len(clusters) + len(traditional_1B)\n",
    "print(\"Total BIP: \" + str(bip))\n",
    "trad_outs = trad_1B_outs + trad_2B_outs + trad_3B_outs + trad_SS_outs + trad_LF_outs + trad_CF_outs + trad_RF_outs + trad_none_outs\n",
    "\n",
    "print(\"Traditional Outs: \" + str(trad_outs))\n",
    "print(\"Traditional Out Probability: \" + str((trad_outs/bip)*100) + \"%\")"
   ]
  },
  {
   "cell_type": "code",
   "execution_count": 24,
   "metadata": {},
   "outputs": [
    {
     "name": "stdout",
     "output_type": "stream",
     "text": [
      "BIP: 43\n",
      "Traditional Outs: 26, Traditional Out Probability: 60.46511627906976 %\n",
      "Shifted Outs: 28.25737758289182,  Shifted Out Probability: 65.71483158812052 %\n"
     ]
    }
   ],
   "source": [
    "# 1B Shift\n",
    "bip = len(shift_1B_lr)\n",
    "X = preprocessing.scale(shift_1B_lr[['exit_velocity','hang_time']])\n",
    "shift_1B = clf_1B.predict_proba(X)\n",
    "out_probs = []\n",
    "for probs in shift_1B:\n",
    "    out_probs.append(probs[0])\n",
    "shift_1B_lr['shift_out_prob'] = out_probs\n",
    "shift_1B_outs = sum(shift_1B_lr['shift_out_prob'])\n",
    "trad_1B_outs = bip - sum(shift_1B_lr['play_result'])\n",
    "trad_1B_out_prob = trad_1B_outs / bip\n",
    "shifted_1B_out_prob = shift_1B_outs / bip\n",
    "\n",
    "print(\"BIP: \" + str(bip))\n",
    "print('Traditional Outs: ' + str(trad_1B_outs) + ', ' + 'Traditional Out Probability: ' + str(trad_1B_out_prob*100) + \" %\")\n",
    "print( \"Shifted Outs: \" + str(shift_1B_outs) + ', ' + \" Shifted Out Probability: \" + str(shifted_1B_out_prob*100) + ' %')"
   ]
  },
  {
   "cell_type": "code",
   "execution_count": 25,
   "metadata": {},
   "outputs": [
    {
     "name": "stdout",
     "output_type": "stream",
     "text": [
      "BIP: 42\n",
      "Traditional Outs: 36, Traditional Out Probability: 85.71428571428571 %\n",
      "Shifted Outs: 29.8510010229895,  Shifted Out Probability: 71.07381195949881 %\n"
     ]
    }
   ],
   "source": [
    "# 2B Shift\n",
    "bip = len(shift_2B_lr)\n",
    "X = preprocessing.scale(shift_2B_lr[['exit_velocity','hang_time']])\n",
    "shift_2B = clf_2B.predict_proba(X)\n",
    "out_probs = []\n",
    "for probs in shift_2B:\n",
    "    out_probs.append(probs[0])\n",
    "shift_2B_lr['shift_out_prob'] = out_probs\n",
    "shift_2B_outs = sum(shift_2B_lr['shift_out_prob'])\n",
    "trad_2B_outs = bip - sum(shift_2B_lr['play_result'])\n",
    "trad_2B_out_prob = trad_2B_outs / bip\n",
    "shifted_2B_out_prob = shift_2B_outs / bip\n",
    "\n",
    "print(\"BIP: \" + str(bip))\n",
    "print('Traditional Outs: ' + str(trad_2B_outs) + ', ' + 'Traditional Out Probability: ' + str(trad_2B_out_prob*100) + \" %\")\n",
    "print( \"Shifted Outs: \" + str(shift_2B_outs) + ', ' + \" Shifted Out Probability: \" + str(shifted_2B_out_prob*100) + ' %')"
   ]
  },
  {
   "cell_type": "code",
   "execution_count": 26,
   "metadata": {},
   "outputs": [
    {
     "name": "stdout",
     "output_type": "stream",
     "text": [
      "BIP: 45\n",
      "Traditional Outs: 11, Traditional Out Probability: 24.444444444444443 %\n",
      "Shifted Outs: 26.749736243281482,  Shifted Out Probability: 59.4438583184033 %\n"
     ]
    }
   ],
   "source": [
    "# 3B Shift\n",
    "bip = len(shift_3B_lr)\n",
    "X = preprocessing.scale(shift_3B_lr[['exit_velocity','hang_time']])\n",
    "shift_3B = clf_3B.predict_proba(X)\n",
    "out_probs = []\n",
    "for probs in shift_3B:\n",
    "    out_probs.append(probs[0])\n",
    "shift_3B_lr['shift_out_prob'] = out_probs\n",
    "shift_3B_outs = sum(shift_3B_lr['shift_out_prob'])\n",
    "trad_3B_outs = bip - sum(shift_3B_lr['play_result'])\n",
    "trad_3B_out_prob = trad_3B_outs / bip\n",
    "shifted_3B_out_prob = shift_3B_outs / bip\n",
    "\n",
    "print(\"BIP: \" + str(bip))\n",
    "print('Traditional Outs: ' + str(trad_3B_outs) + ', ' + 'Traditional Out Probability: ' + str(trad_3B_out_prob*100) + \" %\")\n",
    "print( \"Shifted Outs: \" + str(shift_3B_outs) + ', ' + \" Shifted Out Probability: \" + str(shifted_3B_out_prob*100) + ' %')"
   ]
  },
  {
   "cell_type": "code",
   "execution_count": 27,
   "metadata": {},
   "outputs": [
    {
     "name": "stdout",
     "output_type": "stream",
     "text": [
      "BIP: 60\n",
      "Traditional Outs: 40, Traditional Out Probability: 66.66666666666666 %\n",
      "Shifted Outs: 40.04566087513036,  Shifted Out Probability: 66.74276812521727 %\n"
     ]
    }
   ],
   "source": [
    "# SS Shift\n",
    "bip = len(shift_SS_lr)\n",
    "X = preprocessing.scale(shift_SS_lr[['exit_velocity','hang_time']])\n",
    "shift_SS = clf_SS.predict_proba(X)\n",
    "out_probs = []\n",
    "for probs in shift_SS:\n",
    "    out_probs.append(probs[0])\n",
    "shift_SS_lr['shift_out_prob'] = out_probs\n",
    "shift_SS_outs = sum(shift_SS_lr['shift_out_prob'])\n",
    "trad_SS_outs = bip - sum(shift_SS_lr['play_result'])\n",
    "trad_SS_out_prob = trad_SS_outs / bip\n",
    "shifted_SS_out_prob = shift_SS_outs / bip\n",
    "\n",
    "print(\"BIP: \" + str(bip))\n",
    "print('Traditional Outs: ' + str(trad_SS_outs) + ', ' + 'Traditional Out Probability: ' + str(trad_SS_out_prob*100) + \" %\")\n",
    "print( \"Shifted Outs: \" + str(shift_SS_outs) + ', ' + \" Shifted Out Probability: \" + str(shifted_SS_out_prob*100) + ' %')"
   ]
  },
  {
   "cell_type": "code",
   "execution_count": 28,
   "metadata": {},
   "outputs": [
    {
     "name": "stdout",
     "output_type": "stream",
     "text": [
      "BIP: 33\n",
      "Traditional Outs: 14, Traditional Out Probability: 42.42424242424242 %\n",
      "Shifted Outs: 18.383990604857797,  Shifted Out Probability: 55.70906243896302 %\n"
     ]
    }
   ],
   "source": [
    "# LF Shift\n",
    "bip = len(shift_LF_lr)\n",
    "X = preprocessing.scale(shift_LF_lr[['exit_velocity','hang_time']])\n",
    "shift_LF = clf_LF.predict_proba(X)\n",
    "out_probs = []\n",
    "for probs in shift_LF:\n",
    "    out_probs.append(probs[0])\n",
    "shift_LF_lr['shift_out_prob'] = out_probs\n",
    "shift_LF_outs = sum(shift_LF_lr['shift_out_prob'])\n",
    "trad_LF_outs = bip - sum(shift_LF_lr['play_result'])\n",
    "trad_LF_out_prob = trad_LF_outs / bip\n",
    "shifted_LF_out_prob = shift_LF_outs / bip\n",
    "\n",
    "print(\"BIP: \" + str(bip))\n",
    "print('Traditional Outs: ' + str(trad_LF_outs) + ', ' + 'Traditional Out Probability: ' + str(trad_LF_out_prob*100) + \" %\")\n",
    "print( \"Shifted Outs: \" + str(shift_LF_outs) + ', ' + \" Shifted Out Probability: \" + str(shifted_LF_out_prob*100) + ' %')"
   ]
  },
  {
   "cell_type": "code",
   "execution_count": 29,
   "metadata": {},
   "outputs": [
    {
     "name": "stdout",
     "output_type": "stream",
     "text": [
      "BIP: 48\n",
      "Traditional Outs: 35, Traditional Out Probability: 72.91666666666666 %\n",
      "Shifted Outs: 38.080869295289894,  Shifted Out Probability: 79.33514436518728 %\n"
     ]
    }
   ],
   "source": [
    "# CF Shift\n",
    "bip = len(shift_CF_lr)\n",
    "X = preprocessing.scale(shift_CF_lr[['exit_velocity','hang_time']])\n",
    "shift_CF = clf_CF.predict_proba(X)\n",
    "out_probs = []\n",
    "for probs in shift_CF:\n",
    "    out_probs.append(probs[0])\n",
    "shift_CF_lr['shift_out_prob'] = out_probs\n",
    "shift_CF_outs = sum(shift_CF_lr['shift_out_prob'])\n",
    "trad_CF_outs = bip - sum(shift_CF_lr['play_result'])\n",
    "trad_CF_out_prob = trad_CF_outs / bip\n",
    "shifted_CF_out_prob = shift_CF_outs / bip\n",
    "\n",
    "print(\"BIP: \" + str(bip))\n",
    "print('Traditional Outs: ' + str(trad_CF_outs) + ', ' + 'Traditional Out Probability: ' + str(trad_CF_out_prob*100) + \" %\")\n",
    "print( \"Shifted Outs: \" + str(shift_CF_outs) + ', ' + \" Shifted Out Probability: \" + str(shifted_CF_out_prob*100) + ' %')"
   ]
  },
  {
   "cell_type": "code",
   "execution_count": 30,
   "metadata": {},
   "outputs": [
    {
     "name": "stdout",
     "output_type": "stream",
     "text": [
      "BIP: 27\n",
      "Traditional Outs: 15, Traditional Out Probability: 55.55555555555556 %\n",
      "Shifted Outs: 16.08613550891429,  Shifted Out Probability: 59.578279662645514 %\n"
     ]
    }
   ],
   "source": [
    "# RF Shift\n",
    "bip = len(shift_RF_lr)\n",
    "X = preprocessing.scale(shift_RF_lr[['exit_velocity','hang_time']])\n",
    "shift_RF = clf_RF.predict_proba(X)\n",
    "out_probs = []\n",
    "for probs in shift_RF:\n",
    "    out_probs.append(probs[0])\n",
    "shift_RF_lr['shift_out_prob'] = out_probs\n",
    "shift_RF_outs = sum(shift_RF_lr['shift_out_prob'])\n",
    "trad_RF_outs = bip - sum(shift_RF_lr['play_result'])\n",
    "trad_RF_out_prob = trad_RF_outs / bip\n",
    "shifted_RF_out_prob = shift_RF_outs / bip\n",
    "\n",
    "print(\"BIP: \" + str(bip))\n",
    "print('Traditional Outs: ' + str(trad_RF_outs) + ', ' + 'Traditional Out Probability: ' + str(trad_RF_out_prob*100) + \" %\")\n",
    "print( \"Shifted Outs: \" + str(shift_RF_outs) + ', ' + \" Shifted Out Probability: \" + str(shifted_RF_out_prob*100) + ' %')"
   ]
  },
  {
   "cell_type": "code",
   "execution_count": 33,
   "metadata": {},
   "outputs": [
    {
     "name": "stdout",
     "output_type": "stream",
     "text": [
      "Total BIP: 298\n",
      "Shifted Outs: 197.4547711333551\n",
      "Shifted Out Probability: 66.2599903132064%\n"
     ]
    }
   ],
   "source": [
    "bip = len(clusters) + len(traditional_1B)\n",
    "print(\"Total BIP: \" + str(bip))\n",
    "shift_outs =  shift_1B_outs + shift_2B_outs + shift_3B_outs + shift_SS_outs + shift_LF_outs + shift_CF_outs + shift_RF_outs\n",
    "print(\"Shifted Outs: \" + str(shift_outs))\n",
    "print(\"Shifted Out Probability: \" + str((shift_outs/bip)*100) + \"%\")"
   ]
  },
  {
   "cell_type": "code",
   "execution_count": null,
   "metadata": {},
   "outputs": [],
   "source": []
  }
 ],
 "metadata": {
  "kernelspec": {
   "display_name": "Python 3",
   "language": "python",
   "name": "python3"
  },
  "language_info": {
   "codemirror_mode": {
    "name": "ipython",
    "version": 3
   },
   "file_extension": ".py",
   "mimetype": "text/x-python",
   "name": "python",
   "nbconvert_exporter": "python",
   "pygments_lexer": "ipython3",
   "version": "3.8.3"
  }
 },
 "nbformat": 4,
 "nbformat_minor": 4
}
