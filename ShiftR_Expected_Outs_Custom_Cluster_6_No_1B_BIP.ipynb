{
 "cells": [
  {
   "cell_type": "code",
   "execution_count": 1,
   "metadata": {},
   "outputs": [],
   "source": [
    "import pandas as pd\n",
    "from sklearn import preprocessing\n",
    "from sklearn.linear_model import LogisticRegression\n",
    "import math\n",
    "import numpy as np"
   ]
  },
  {
   "cell_type": "code",
   "execution_count": 2,
   "metadata": {},
   "outputs": [],
   "source": [
    "traditional_positions = pd.read_csv('traditional_field_no_1B.csv')\n",
    "traditional_positions = traditional_positions.drop(columns = ['Unnamed: 0'])\n",
    "shifted_positions = pd.read_csv('custom_cluster_means.csv')\n"
   ]
  },
  {
   "cell_type": "code",
   "execution_count": 3,
   "metadata": {},
   "outputs": [],
   "source": [
    "shifted_positions = shifted_positions.iloc[0:6]"
   ]
  },
  {
   "cell_type": "code",
   "execution_count": 4,
   "metadata": {},
   "outputs": [
    {
     "data": {
      "text/html": [
       "<div>\n",
       "<style scoped>\n",
       "    .dataframe tbody tr th:only-of-type {\n",
       "        vertical-align: middle;\n",
       "    }\n",
       "\n",
       "    .dataframe tbody tr th {\n",
       "        vertical-align: top;\n",
       "    }\n",
       "\n",
       "    .dataframe thead th {\n",
       "        text-align: right;\n",
       "    }\n",
       "</style>\n",
       "<table border=\"1\" class=\"dataframe\">\n",
       "  <thead>\n",
       "    <tr style=\"text-align: right;\">\n",
       "      <th></th>\n",
       "      <th>Unnamed: 0</th>\n",
       "      <th>custom_cluster</th>\n",
       "      <th>distance</th>\n",
       "      <th>direction</th>\n",
       "    </tr>\n",
       "  </thead>\n",
       "  <tbody>\n",
       "    <tr>\n",
       "      <th>0</th>\n",
       "      <td>0</td>\n",
       "      <td>0</td>\n",
       "      <td>236.993666</td>\n",
       "      <td>-18.142650</td>\n",
       "    </tr>\n",
       "    <tr>\n",
       "      <th>1</th>\n",
       "      <td>1</td>\n",
       "      <td>1</td>\n",
       "      <td>45.727988</td>\n",
       "      <td>-1.298957</td>\n",
       "    </tr>\n",
       "    <tr>\n",
       "      <th>2</th>\n",
       "      <td>2</td>\n",
       "      <td>2</td>\n",
       "      <td>40.916589</td>\n",
       "      <td>-41.752771</td>\n",
       "    </tr>\n",
       "    <tr>\n",
       "      <th>3</th>\n",
       "      <td>3</td>\n",
       "      <td>3</td>\n",
       "      <td>290.703877</td>\n",
       "      <td>25.509993</td>\n",
       "    </tr>\n",
       "    <tr>\n",
       "      <th>4</th>\n",
       "      <td>4</td>\n",
       "      <td>4</td>\n",
       "      <td>38.450000</td>\n",
       "      <td>-22.786669</td>\n",
       "    </tr>\n",
       "    <tr>\n",
       "      <th>5</th>\n",
       "      <td>5</td>\n",
       "      <td>5</td>\n",
       "      <td>314.576176</td>\n",
       "      <td>3.967718</td>\n",
       "    </tr>\n",
       "  </tbody>\n",
       "</table>\n",
       "</div>"
      ],
      "text/plain": [
       "   Unnamed: 0  custom_cluster    distance  direction\n",
       "0           0               0  236.993666 -18.142650\n",
       "1           1               1   45.727988  -1.298957\n",
       "2           2               2   40.916589 -41.752771\n",
       "3           3               3  290.703877  25.509993\n",
       "4           4               4   38.450000 -22.786669\n",
       "5           5               5  314.576176   3.967718"
      ]
     },
     "execution_count": 4,
     "metadata": {},
     "output_type": "execute_result"
    }
   ],
   "source": [
    "shifted_positions"
   ]
  },
  {
   "cell_type": "code",
   "execution_count": 5,
   "metadata": {},
   "outputs": [],
   "source": [
    "shifted_positions = shifted_positions.drop(columns = ['Unnamed: 0'])"
   ]
  },
  {
   "cell_type": "code",
   "execution_count": 6,
   "metadata": {},
   "outputs": [
    {
     "data": {
      "text/html": [
       "<div>\n",
       "<style scoped>\n",
       "    .dataframe tbody tr th:only-of-type {\n",
       "        vertical-align: middle;\n",
       "    }\n",
       "\n",
       "    .dataframe tbody tr th {\n",
       "        vertical-align: top;\n",
       "    }\n",
       "\n",
       "    .dataframe thead th {\n",
       "        text-align: right;\n",
       "    }\n",
       "</style>\n",
       "<table border=\"1\" class=\"dataframe\">\n",
       "  <thead>\n",
       "    <tr style=\"text-align: right;\">\n",
       "      <th></th>\n",
       "      <th>distance</th>\n",
       "      <th>direction</th>\n",
       "    </tr>\n",
       "  </thead>\n",
       "  <tbody>\n",
       "    <tr>\n",
       "      <th>0</th>\n",
       "      <td>150</td>\n",
       "      <td>13</td>\n",
       "    </tr>\n",
       "    <tr>\n",
       "      <th>1</th>\n",
       "      <td>116</td>\n",
       "      <td>-30</td>\n",
       "    </tr>\n",
       "    <tr>\n",
       "      <th>2</th>\n",
       "      <td>146</td>\n",
       "      <td>-12</td>\n",
       "    </tr>\n",
       "    <tr>\n",
       "      <th>3</th>\n",
       "      <td>297</td>\n",
       "      <td>-27</td>\n",
       "    </tr>\n",
       "    <tr>\n",
       "      <th>4</th>\n",
       "      <td>321</td>\n",
       "      <td>1</td>\n",
       "    </tr>\n",
       "    <tr>\n",
       "      <th>5</th>\n",
       "      <td>295</td>\n",
       "      <td>27</td>\n",
       "    </tr>\n",
       "  </tbody>\n",
       "</table>\n",
       "</div>"
      ],
      "text/plain": [
       "   distance  direction\n",
       "0       150         13\n",
       "1       116        -30\n",
       "2       146        -12\n",
       "3       297        -27\n",
       "4       321          1\n",
       "5       295         27"
      ]
     },
     "execution_count": 6,
     "metadata": {},
     "output_type": "execute_result"
    }
   ],
   "source": [
    "traditional_positions"
   ]
  },
  {
   "cell_type": "code",
   "execution_count": 7,
   "metadata": {},
   "outputs": [],
   "source": [
    "shifted_positions = shifted_positions.sort_values(by=['direction'],ascending = True)"
   ]
  },
  {
   "cell_type": "code",
   "execution_count": 8,
   "metadata": {},
   "outputs": [],
   "source": [
    "def distance(p0, p1):\n",
    "    return math.sqrt((p0[0] - p1[0])**2 + (p0[1] - p1[1])**2)"
   ]
  },
  {
   "cell_type": "code",
   "execution_count": 9,
   "metadata": {},
   "outputs": [
    {
     "data": {
      "text/plain": [
       "{2.0: array([ 40.91658929, -41.75277126]),\n",
       " 4.0: array([ 38.45000015, -22.78666907]),\n",
       " 0.0: array([236.99366629, -18.14264973]),\n",
       " 1.0: array([45.72798759, -1.29895734]),\n",
       " 5.0: array([314.57617644,   3.96771785]),\n",
       " 3.0: array([290.70387734,  25.50999322])}"
      ]
     },
     "execution_count": 9,
     "metadata": {},
     "output_type": "execute_result"
    }
   ],
   "source": [
    "shifted_positions_array = np.array(shifted_positions)\n",
    "shifted_positions_list = list(shifted_positions_array)\n",
    "shifted_positions_dict = {}\n",
    "for position in shifted_positions_list:\n",
    "    shifted_positions_dict[position[0]] = position[1:3]\n",
    "shifted_positions_dict"
   ]
  },
  {
   "cell_type": "code",
   "execution_count": 10,
   "metadata": {},
   "outputs": [
    {
     "name": "stdout",
     "output_type": "stream",
     "text": [
      "checking 2.040.91658929125-41.752771265\n",
      "checking 4.038.450000152307695-22.78666907461539\n",
      "checking 0.0236.99366629000005-18.1426497334\n",
      "checking 1.045.7279875850625-1.2989573415625002\n",
      "checking 5.0314.57617643500013.9677178504999993\n",
      "checking 3.0290.7038773425.509993224000002\n"
     ]
    }
   ],
   "source": [
    "#shifted_positions = list(shifted_positions_array)\n",
    "cluster_to_position = {}\n",
    "player_options = [4,5,6,7,8,9]\n",
    "for cluster,coordinates in shifted_positions_dict.items():\n",
    "    print(\"checking \" +  str(cluster) + str(coordinates[0]) + str(coordinates[1]))\n",
    "    if(((coordinates[0]<= 180) and (coordinates[0] >= 0)) and ((coordinates[1] <= 20) and (coordinates[1] >= 0))) and 4 in player_options:\n",
    "        cluster_to_position[cluster] = 4\n",
    "        player_options.remove(4)\n",
    "    elif (((coordinates[0]<= 180) and (coordinates[0] >= 0)) and (coordinates[1] <= -25) and (coordinates[1]>= -45) and 5 in player_options):\n",
    "        cluster_to_position[cluster] = 5\n",
    "        player_options.remove(5)\n",
    "    elif (((coordinates[0]<= 180) and (coordinates[0] >= 0)) and (coordinates[1] <= 0) and (coordinates[1]>= -25) and 6 in player_options):\n",
    "        cluster_to_position[cluster] = 6\n",
    "        player_options.remove(6)\n",
    "    elif (((coordinates[0]<= 309) and (coordinates[0] >= 210)) and (coordinates[1] <= -15) and (coordinates[1]>= -45) and 7 in player_options):\n",
    "        cluster_to_position[cluster] = 7\n",
    "        player_options.remove(7)\n",
    "    elif (((coordinates[0]<= 347) and (coordinates[0]>= 225)) and (coordinates[1] <= 20) and (coordinates[1]>= -20) and 8 in player_options):\n",
    "        cluster_to_position[cluster] = 8\n",
    "        player_options.remove(8)\n",
    "    elif (((coordinates[0]<= 309) and (coordinates[0] >= 210)) and (coordinates[1] <= 45) and (coordinates[1]>= 20) and 9 in player_options):\n",
    "        cluster_to_position[cluster] = 9\n",
    "        player_options.remove(9)\n",
    "\n",
    "        "
   ]
  },
  {
   "cell_type": "code",
   "execution_count": 11,
   "metadata": {},
   "outputs": [
    {
     "data": {
      "text/plain": [
       "{2.0: 5, 4.0: 6, 0.0: 7, 5.0: 8, 3.0: 9}"
      ]
     },
     "execution_count": 11,
     "metadata": {},
     "output_type": "execute_result"
    }
   ],
   "source": [
    "cluster_to_position"
   ]
  },
  {
   "cell_type": "code",
   "execution_count": 12,
   "metadata": {},
   "outputs": [
    {
     "data": {
      "text/plain": [
       "[4]"
      ]
     },
     "execution_count": 12,
     "metadata": {},
     "output_type": "execute_result"
    }
   ],
   "source": [
    "player_options"
   ]
  },
  {
   "cell_type": "code",
   "execution_count": 13,
   "metadata": {},
   "outputs": [],
   "source": [
    "for cluster,position in cluster_to_position.items():\n",
    "    shifted_positions_dict.pop(cluster)"
   ]
  },
  {
   "cell_type": "code",
   "execution_count": 14,
   "metadata": {},
   "outputs": [
    {
     "data": {
      "text/plain": [
       "{1.0: array([45.72798759, -1.29895734])}"
      ]
     },
     "execution_count": 14,
     "metadata": {},
     "output_type": "execute_result"
    }
   ],
   "source": [
    "shifted_positions_dict"
   ]
  },
  {
   "cell_type": "code",
   "execution_count": 15,
   "metadata": {},
   "outputs": [
    {
     "name": "stdout",
     "output_type": "stream",
     "text": [
      "Checking 1.0\n",
      "4 is in options\n",
      "4 has been used\n",
      "popping 4\n",
      "options left: []\n"
     ]
    }
   ],
   "source": [
    "traditional_positions_array = np.array(traditional_positions)\n",
    "for cluster,coodinates in shifted_positions_dict.items():\n",
    "    print(\"Checking \" + str(cluster))\n",
    "    dist = 99999\n",
    "    for j,tradtional_cluster in enumerate(traditional_positions_array):\n",
    "        new_distance = distance(coodinates[0:2],tradtional_cluster)\n",
    "        if new_distance < dist and j+4 in player_options:\n",
    "            print(str(j+4) + \" is in options\")\n",
    "            dist = new_distance\n",
    "            cluster_to_position[cluster] = j+4\n",
    "    print(str(cluster_to_position[cluster]) +' has been used')\n",
    "    print(\"popping \" + str(cluster_to_position[cluster]))\n",
    "    player_options.remove(int(cluster_to_position[cluster]))\n",
    "    print(\"options left: \" + str(player_options))"
   ]
  },
  {
   "cell_type": "code",
   "execution_count": 16,
   "metadata": {},
   "outputs": [],
   "source": [
    "clusters = pd.read_csv('clusters.csv')\n",
    "college_trad_none = pd.read_csv('college_trad_none.csv')\n",
    "college_trad_1B = pd.read_csv('college_trad_1B.csv')\n",
    "college_trad_2B = pd.read_csv('college_trad_2B.csv')\n",
    "college_trad_3B = pd.read_csv('college_trad_3B.csv') \n",
    "college_trad_SS = pd.read_csv('college_trad_SS.csv') \n",
    "college_trad_LF = pd.read_csv('college_trad_LF.csv') \n",
    "college_trad_CF = pd.read_csv('college_trad_CF.csv') \n",
    "college_trad_RF = pd.read_csv('college_trad_RF.csv') "
   ]
  },
  {
   "cell_type": "code",
   "execution_count": 17,
   "metadata": {},
   "outputs": [],
   "source": [
    "clusters = clusters.drop(columns = ['Unnamed: 0'])"
   ]
  },
  {
   "cell_type": "code",
   "execution_count": 18,
   "metadata": {},
   "outputs": [
    {
     "data": {
      "text/plain": [
       "Unnamed: 0.1                 0.000000\n",
       "batter_name                  0.000000\n",
       "pitcher_handedness           0.000000\n",
       "batter_handedness            0.000000\n",
       "inning                       0.000000\n",
       "outs                         0.000000\n",
       "strikes                      0.000000\n",
       "velocity                     0.000000\n",
       "vertical_release_angle       0.000000\n",
       "horizontal_release_angle     0.000000\n",
       "spin_rate                    0.000000\n",
       "release_height               0.000000\n",
       "extension                    0.000000\n",
       "vertical_break               0.000000\n",
       "induced_vertical_break       0.000000\n",
       "horizontal_break             0.000000\n",
       "height_at_plate              0.000000\n",
       "side_at_plate                0.000000\n",
       "zone_speed                   0.000000\n",
       "vertical_approach_angle      0.000000\n",
       "horz_approach_angle          0.000000\n",
       "zone_time                    0.000000\n",
       "exit_velocity                0.000000\n",
       "launch_angle                 0.000000\n",
       "direction                    0.000000\n",
       "hit_spin_rate               25.641026\n",
       "position_at_110x            39.743590\n",
       "position_at_110y            39.743590\n",
       "position_at_110z            39.743590\n",
       "distance                     0.000000\n",
       "last_tracked_distance        0.000000\n",
       "bearing                      0.000000\n",
       "hang_time                    0.000000\n",
       "pfxx                         0.000000\n",
       "pfxz                         0.000000\n",
       "vx0                          0.000000\n",
       "vy0                          0.000000\n",
       "vz0                          0.000000\n",
       "ax                           0.000000\n",
       "ay                           0.000000\n",
       "play_result                  0.000000\n",
       "traditional_cluster          0.000000\n",
       "scikit_cluster               0.000000\n",
       "custom_cluster               0.000000\n",
       "dtype: float64"
      ]
     },
     "execution_count": 18,
     "metadata": {},
     "output_type": "execute_result"
    }
   ],
   "source": [
    "data_missing = clusters.isna()\n",
    "data_num_missing = data_missing.sum()\n",
    "data_num_missing/ len(clusters) * 100"
   ]
  },
  {
   "cell_type": "code",
   "execution_count": 19,
   "metadata": {},
   "outputs": [
    {
     "data": {
      "text/html": [
       "<div>\n",
       "<style scoped>\n",
       "    .dataframe tbody tr th:only-of-type {\n",
       "        vertical-align: middle;\n",
       "    }\n",
       "\n",
       "    .dataframe tbody tr th {\n",
       "        vertical-align: top;\n",
       "    }\n",
       "\n",
       "    .dataframe thead th {\n",
       "        text-align: right;\n",
       "    }\n",
       "</style>\n",
       "<table border=\"1\" class=\"dataframe\">\n",
       "  <thead>\n",
       "    <tr style=\"text-align: right;\">\n",
       "      <th></th>\n",
       "      <th>Unnamed: 0.1</th>\n",
       "      <th>batter_name</th>\n",
       "      <th>pitcher_handedness</th>\n",
       "      <th>batter_handedness</th>\n",
       "      <th>inning</th>\n",
       "      <th>outs</th>\n",
       "      <th>strikes</th>\n",
       "      <th>velocity</th>\n",
       "      <th>vertical_release_angle</th>\n",
       "      <th>horizontal_release_angle</th>\n",
       "      <th>...</th>\n",
       "      <th>pfxz</th>\n",
       "      <th>vx0</th>\n",
       "      <th>vy0</th>\n",
       "      <th>vz0</th>\n",
       "      <th>ax</th>\n",
       "      <th>ay</th>\n",
       "      <th>play_result</th>\n",
       "      <th>traditional_cluster</th>\n",
       "      <th>scikit_cluster</th>\n",
       "      <th>custom_cluster</th>\n",
       "    </tr>\n",
       "  </thead>\n",
       "  <tbody>\n",
       "    <tr>\n",
       "      <th>0</th>\n",
       "      <td>1749</td>\n",
       "      <td>Martin, Austin</td>\n",
       "      <td>1</td>\n",
       "      <td>1</td>\n",
       "      <td>7.0</td>\n",
       "      <td>0.0</td>\n",
       "      <td>2.0</td>\n",
       "      <td>86.288934</td>\n",
       "      <td>0.627089</td>\n",
       "      <td>-3.519084</td>\n",
       "      <td>...</td>\n",
       "      <td>3.859273</td>\n",
       "      <td>7.269059</td>\n",
       "      <td>-125.230646</td>\n",
       "      <td>0.384513</td>\n",
       "      <td>-13.018170</td>\n",
       "      <td>28.200498</td>\n",
       "      <td>1</td>\n",
       "      <td>0.0</td>\n",
       "      <td>0</td>\n",
       "      <td>0.0</td>\n",
       "    </tr>\n",
       "    <tr>\n",
       "      <th>1</th>\n",
       "      <td>1940</td>\n",
       "      <td>Martin, Austin</td>\n",
       "      <td>1</td>\n",
       "      <td>1</td>\n",
       "      <td>7.0</td>\n",
       "      <td>1.0</td>\n",
       "      <td>2.0</td>\n",
       "      <td>84.332604</td>\n",
       "      <td>-1.394514</td>\n",
       "      <td>-3.511450</td>\n",
       "      <td>...</td>\n",
       "      <td>5.295199</td>\n",
       "      <td>7.254627</td>\n",
       "      <td>-122.717318</td>\n",
       "      <td>-3.715640</td>\n",
       "      <td>-10.883066</td>\n",
       "      <td>23.958047</td>\n",
       "      <td>0</td>\n",
       "      <td>0.0</td>\n",
       "      <td>4</td>\n",
       "      <td>1.0</td>\n",
       "    </tr>\n",
       "    <tr>\n",
       "      <th>2</th>\n",
       "      <td>1945</td>\n",
       "      <td>Martin, Austin</td>\n",
       "      <td>1</td>\n",
       "      <td>1</td>\n",
       "      <td>9.0</td>\n",
       "      <td>2.0</td>\n",
       "      <td>2.0</td>\n",
       "      <td>90.950819</td>\n",
       "      <td>-1.959237</td>\n",
       "      <td>-0.198725</td>\n",
       "      <td>...</td>\n",
       "      <td>10.697284</td>\n",
       "      <td>0.403453</td>\n",
       "      <td>-132.485504</td>\n",
       "      <td>-4.934471</td>\n",
       "      <td>-2.087009</td>\n",
       "      <td>29.397472</td>\n",
       "      <td>0</td>\n",
       "      <td>5.0</td>\n",
       "      <td>3</td>\n",
       "      <td>2.0</td>\n",
       "    </tr>\n",
       "    <tr>\n",
       "      <th>3</th>\n",
       "      <td>1955</td>\n",
       "      <td>Martin, Austin</td>\n",
       "      <td>1</td>\n",
       "      <td>1</td>\n",
       "      <td>1.0</td>\n",
       "      <td>0.0</td>\n",
       "      <td>1.0</td>\n",
       "      <td>84.450564</td>\n",
       "      <td>-0.108523</td>\n",
       "      <td>-1.671080</td>\n",
       "      <td>...</td>\n",
       "      <td>2.706867</td>\n",
       "      <td>3.713712</td>\n",
       "      <td>-122.831265</td>\n",
       "      <td>-1.346401</td>\n",
       "      <td>2.565913</td>\n",
       "      <td>24.635446</td>\n",
       "      <td>0</td>\n",
       "      <td>0.0</td>\n",
       "      <td>2</td>\n",
       "      <td>3.0</td>\n",
       "    </tr>\n",
       "    <tr>\n",
       "      <th>4</th>\n",
       "      <td>1957</td>\n",
       "      <td>Martin, Austin</td>\n",
       "      <td>1</td>\n",
       "      <td>1</td>\n",
       "      <td>3.0</td>\n",
       "      <td>0.0</td>\n",
       "      <td>0.0</td>\n",
       "      <td>95.586680</td>\n",
       "      <td>-1.987383</td>\n",
       "      <td>-2.600693</td>\n",
       "      <td>...</td>\n",
       "      <td>10.051809</td>\n",
       "      <td>5.971916</td>\n",
       "      <td>-138.899409</td>\n",
       "      <td>-5.248074</td>\n",
       "      <td>-12.803702</td>\n",
       "      <td>35.391505</td>\n",
       "      <td>0</td>\n",
       "      <td>0.0</td>\n",
       "      <td>4</td>\n",
       "      <td>4.0</td>\n",
       "    </tr>\n",
       "  </tbody>\n",
       "</table>\n",
       "<p>5 rows × 44 columns</p>\n",
       "</div>"
      ],
      "text/plain": [
       "   Unnamed: 0.1     batter_name  pitcher_handedness  batter_handedness  \\\n",
       "0          1749  Martin, Austin                   1                  1   \n",
       "1          1940  Martin, Austin                   1                  1   \n",
       "2          1945  Martin, Austin                   1                  1   \n",
       "3          1955  Martin, Austin                   1                  1   \n",
       "4          1957  Martin, Austin                   1                  1   \n",
       "\n",
       "   inning  outs  strikes   velocity  vertical_release_angle  \\\n",
       "0     7.0   0.0      2.0  86.288934                0.627089   \n",
       "1     7.0   1.0      2.0  84.332604               -1.394514   \n",
       "2     9.0   2.0      2.0  90.950819               -1.959237   \n",
       "3     1.0   0.0      1.0  84.450564               -0.108523   \n",
       "4     3.0   0.0      0.0  95.586680               -1.987383   \n",
       "\n",
       "   horizontal_release_angle  ...       pfxz       vx0         vy0       vz0  \\\n",
       "0                 -3.519084  ...   3.859273  7.269059 -125.230646  0.384513   \n",
       "1                 -3.511450  ...   5.295199  7.254627 -122.717318 -3.715640   \n",
       "2                 -0.198725  ...  10.697284  0.403453 -132.485504 -4.934471   \n",
       "3                 -1.671080  ...   2.706867  3.713712 -122.831265 -1.346401   \n",
       "4                 -2.600693  ...  10.051809  5.971916 -138.899409 -5.248074   \n",
       "\n",
       "          ax         ay  play_result  traditional_cluster  scikit_cluster  \\\n",
       "0 -13.018170  28.200498            1                  0.0               0   \n",
       "1 -10.883066  23.958047            0                  0.0               4   \n",
       "2  -2.087009  29.397472            0                  5.0               3   \n",
       "3   2.565913  24.635446            0                  0.0               2   \n",
       "4 -12.803702  35.391505            0                  0.0               4   \n",
       "\n",
       "   custom_cluster  \n",
       "0             0.0  \n",
       "1             1.0  \n",
       "2             2.0  \n",
       "3             3.0  \n",
       "4             4.0  \n",
       "\n",
       "[5 rows x 44 columns]"
      ]
     },
     "execution_count": 19,
     "metadata": {},
     "output_type": "execute_result"
    }
   ],
   "source": [
    "clusters.head()"
   ]
  },
  {
   "cell_type": "code",
   "execution_count": 20,
   "metadata": {},
   "outputs": [
    {
     "data": {
      "text/plain": [
       "0.0    26.923077\n",
       "8.0    24.358974\n",
       "6.0    17.948718\n",
       "5.0    11.538462\n",
       "4.0    10.256410\n",
       "7.0     6.410256\n",
       "9.0     2.564103\n",
       "Name: traditional_cluster, dtype: float64"
      ]
     },
     "execution_count": 20,
     "metadata": {},
     "output_type": "execute_result"
    }
   ],
   "source": [
    "clusters['traditional_cluster'].value_counts(normalize=True)*100"
   ]
  },
  {
   "cell_type": "code",
   "execution_count": 21,
   "metadata": {},
   "outputs": [
    {
     "data": {
      "text/plain": [
       "5    20.512821\n",
       "4    19.230769\n",
       "1    19.230769\n",
       "2    16.666667\n",
       "0    12.820513\n",
       "3    11.538462\n",
       "Name: scikit_cluster, dtype: float64"
      ]
     },
     "execution_count": 21,
     "metadata": {},
     "output_type": "execute_result"
    }
   ],
   "source": [
    "clusters['scikit_cluster'].value_counts(normalize=True)*100"
   ]
  },
  {
   "cell_type": "code",
   "execution_count": 22,
   "metadata": {},
   "outputs": [],
   "source": [
    "#clusters['custom_cluster'].value_counts(normalize=True)*100"
   ]
  },
  {
   "cell_type": "code",
   "execution_count": 23,
   "metadata": {},
   "outputs": [],
   "source": [
    "college_trad_none_lr = college_trad_none[['exit_velocity','hang_time','play_result']]\n",
    "#college_trad_1B_lr = college_trad_1B[['exit_velocity','hang_time','play_result']]\n",
    "college_trad_2B_lr = college_trad_2B[['exit_velocity','hang_time','play_result']]\n",
    "college_trad_3B_lr = college_trad_3B[['exit_velocity','hang_time','play_result']]\n",
    "college_trad_SS_lr = college_trad_SS[['exit_velocity','hang_time','play_result']]\n",
    "college_trad_LF_lr = college_trad_LF[['exit_velocity','hang_time','play_result']]\n",
    "college_trad_CF_lr = college_trad_CF[['exit_velocity','hang_time','play_result']]\n",
    "college_trad_RF_lr = college_trad_RF[['exit_velocity','hang_time','play_result']]"
   ]
  },
  {
   "cell_type": "code",
   "execution_count": 24,
   "metadata": {},
   "outputs": [],
   "source": [
    "traditional_none = clusters.loc[clusters['traditional_cluster'] == 0]\n",
    "#traditional_1B = pd.read_csv('Seymour_Bobby_1B.csv')\n",
    "traditional_2B = clusters.loc[clusters['traditional_cluster'] == 4]\n",
    "traditional_3B = clusters.loc[clusters['traditional_cluster'] == 5]\n",
    "traditional_SS = clusters.loc[clusters['traditional_cluster'] == 6]\n",
    "traditional_LF = clusters.loc[clusters['traditional_cluster'] == 7]\n",
    "traditional_CF = clusters.loc[clusters['traditional_cluster'] == 8]\n",
    "traditional_RF = clusters.loc[clusters['traditional_cluster'] == 9]"
   ]
  },
  {
   "cell_type": "code",
   "execution_count": 25,
   "metadata": {},
   "outputs": [],
   "source": [
    "traditional_none_lr = traditional_none[['exit_velocity','hang_time','play_result']]\n",
    "#traditional_1B_lr = traditional_1B[['exit_velocity','hang_time','play_result']]\n",
    "traditional_2B_lr = traditional_2B[['exit_velocity','hang_time','play_result']]\n",
    "traditional_3B_lr = traditional_3B[['exit_velocity','hang_time','play_result']]\n",
    "traditional_SS_lr = traditional_SS[['exit_velocity','hang_time','play_result']]\n",
    "traditional_LF_lr = traditional_LF[['exit_velocity','hang_time','play_result']]\n",
    "traditional_CF_lr = traditional_CF[['exit_velocity','hang_time','play_result']]\n",
    "traditional_RF_lr = traditional_RF[['exit_velocity','hang_time','play_result']]"
   ]
  },
  {
   "cell_type": "code",
   "execution_count": 26,
   "metadata": {},
   "outputs": [
    {
     "data": {
      "text/plain": [
       "{2.0: 5, 4.0: 6, 0.0: 7, 5.0: 8, 3.0: 9, 1.0: 4}"
      ]
     },
     "execution_count": 26,
     "metadata": {},
     "output_type": "execute_result"
    }
   ],
   "source": [
    "cluster_to_position"
   ]
  },
  {
   "cell_type": "code",
   "execution_count": 27,
   "metadata": {},
   "outputs": [],
   "source": [
    "cluster_to_position = dict([(value, key) for key, value in cluster_to_position.items()]) "
   ]
  },
  {
   "cell_type": "code",
   "execution_count": 28,
   "metadata": {},
   "outputs": [],
   "source": [
    "shift_2B = clusters.loc[clusters['custom_cluster'] == cluster_to_position[4]]\n",
    "shift_3B = clusters.loc[clusters['custom_cluster'] == cluster_to_position[5]]\n",
    "shift_SS = clusters.loc[clusters['custom_cluster'] == cluster_to_position[6]]\n",
    "shift_LF = clusters.loc[clusters['custom_cluster'] == cluster_to_position[7]]\n",
    "shift_CF = clusters.loc[clusters['custom_cluster'] == cluster_to_position[8]]\n",
    "shift_RF = clusters.loc[clusters['custom_cluster'] == cluster_to_position[9]]"
   ]
  },
  {
   "cell_type": "code",
   "execution_count": 29,
   "metadata": {},
   "outputs": [
    {
     "data": {
      "text/html": [
       "<div>\n",
       "<style scoped>\n",
       "    .dataframe tbody tr th:only-of-type {\n",
       "        vertical-align: middle;\n",
       "    }\n",
       "\n",
       "    .dataframe tbody tr th {\n",
       "        vertical-align: top;\n",
       "    }\n",
       "\n",
       "    .dataframe thead th {\n",
       "        text-align: right;\n",
       "    }\n",
       "</style>\n",
       "<table border=\"1\" class=\"dataframe\">\n",
       "  <thead>\n",
       "    <tr style=\"text-align: right;\">\n",
       "      <th></th>\n",
       "      <th>custom_cluster</th>\n",
       "      <th>distance</th>\n",
       "      <th>direction</th>\n",
       "    </tr>\n",
       "  </thead>\n",
       "  <tbody>\n",
       "    <tr>\n",
       "      <th>2</th>\n",
       "      <td>2</td>\n",
       "      <td>40.916589</td>\n",
       "      <td>-41.752771</td>\n",
       "    </tr>\n",
       "    <tr>\n",
       "      <th>4</th>\n",
       "      <td>4</td>\n",
       "      <td>38.450000</td>\n",
       "      <td>-22.786669</td>\n",
       "    </tr>\n",
       "    <tr>\n",
       "      <th>0</th>\n",
       "      <td>0</td>\n",
       "      <td>236.993666</td>\n",
       "      <td>-18.142650</td>\n",
       "    </tr>\n",
       "    <tr>\n",
       "      <th>1</th>\n",
       "      <td>1</td>\n",
       "      <td>45.727988</td>\n",
       "      <td>-1.298957</td>\n",
       "    </tr>\n",
       "    <tr>\n",
       "      <th>5</th>\n",
       "      <td>5</td>\n",
       "      <td>314.576176</td>\n",
       "      <td>3.967718</td>\n",
       "    </tr>\n",
       "    <tr>\n",
       "      <th>3</th>\n",
       "      <td>3</td>\n",
       "      <td>290.703877</td>\n",
       "      <td>25.509993</td>\n",
       "    </tr>\n",
       "  </tbody>\n",
       "</table>\n",
       "</div>"
      ],
      "text/plain": [
       "   custom_cluster    distance  direction\n",
       "2               2   40.916589 -41.752771\n",
       "4               4   38.450000 -22.786669\n",
       "0               0  236.993666 -18.142650\n",
       "1               1   45.727988  -1.298957\n",
       "5               5  314.576176   3.967718\n",
       "3               3  290.703877  25.509993"
      ]
     },
     "execution_count": 29,
     "metadata": {},
     "output_type": "execute_result"
    }
   ],
   "source": [
    "shifted_positions"
   ]
  },
  {
   "cell_type": "code",
   "execution_count": 30,
   "metadata": {},
   "outputs": [
    {
     "data": {
      "text/plain": [
       "0.0"
      ]
     },
     "execution_count": 30,
     "metadata": {},
     "output_type": "execute_result"
    }
   ],
   "source": [
    "cluster_to_position[7]"
   ]
  },
  {
   "cell_type": "code",
   "execution_count": 31,
   "metadata": {},
   "outputs": [
    {
     "data": {
      "text/plain": [
       "236"
      ]
     },
     "execution_count": 31,
     "metadata": {},
     "output_type": "execute_result"
    }
   ],
   "source": [
    "int(shifted_positions[shifted_positions['custom_cluster']== cluster_to_position[7]]['distance'])"
   ]
  },
  {
   "cell_type": "code",
   "execution_count": 32,
   "metadata": {},
   "outputs": [],
   "source": [
    "#shift_1B_lr = shift_1B[['exit_velocity','hang_time','play_result']]\n",
    "shift_2B_lr = shift_2B[['exit_velocity','hang_time','play_result']]\n",
    "shift_3B_lr = shift_3B[['exit_velocity','hang_time','play_result']]\n",
    "shift_SS_lr = shift_SS[['exit_velocity','hang_time','play_result']]\n",
    "shift_LF_lr = shift_LF[['exit_velocity','hang_time','play_result']]\n",
    "shift_CF_lr = shift_CF[['exit_velocity','hang_time','play_result']]\n",
    "shift_RF_lr = shift_RF[['exit_velocity','hang_time','play_result']]"
   ]
  },
  {
   "cell_type": "code",
   "execution_count": 33,
   "metadata": {},
   "outputs": [
    {
     "data": {
      "text/html": [
       "<div>\n",
       "<style scoped>\n",
       "    .dataframe tbody tr th:only-of-type {\n",
       "        vertical-align: middle;\n",
       "    }\n",
       "\n",
       "    .dataframe tbody tr th {\n",
       "        vertical-align: top;\n",
       "    }\n",
       "\n",
       "    .dataframe thead th {\n",
       "        text-align: right;\n",
       "    }\n",
       "</style>\n",
       "<table border=\"1\" class=\"dataframe\">\n",
       "  <thead>\n",
       "    <tr style=\"text-align: right;\">\n",
       "      <th></th>\n",
       "      <th>exit_velocity</th>\n",
       "      <th>hang_time</th>\n",
       "      <th>play_result</th>\n",
       "    </tr>\n",
       "  </thead>\n",
       "  <tbody>\n",
       "    <tr>\n",
       "      <th>0</th>\n",
       "      <td>94.181973</td>\n",
       "      <td>4.077540</td>\n",
       "      <td>1</td>\n",
       "    </tr>\n",
       "    <tr>\n",
       "      <th>1</th>\n",
       "      <td>64.663460</td>\n",
       "      <td>5.007125</td>\n",
       "      <td>0</td>\n",
       "    </tr>\n",
       "    <tr>\n",
       "      <th>2</th>\n",
       "      <td>65.859338</td>\n",
       "      <td>0.256734</td>\n",
       "      <td>0</td>\n",
       "    </tr>\n",
       "    <tr>\n",
       "      <th>3</th>\n",
       "      <td>71.959298</td>\n",
       "      <td>4.831517</td>\n",
       "      <td>0</td>\n",
       "    </tr>\n",
       "    <tr>\n",
       "      <th>4</th>\n",
       "      <td>104.816863</td>\n",
       "      <td>4.055240</td>\n",
       "      <td>0</td>\n",
       "    </tr>\n",
       "  </tbody>\n",
       "</table>\n",
       "</div>"
      ],
      "text/plain": [
       "   exit_velocity  hang_time  play_result\n",
       "0      94.181973   4.077540            1\n",
       "1      64.663460   5.007125            0\n",
       "2      65.859338   0.256734            0\n",
       "3      71.959298   4.831517            0\n",
       "4     104.816863   4.055240            0"
      ]
     },
     "execution_count": 33,
     "metadata": {},
     "output_type": "execute_result"
    }
   ],
   "source": [
    "college_trad_none_lr.head()"
   ]
  },
  {
   "cell_type": "code",
   "execution_count": 34,
   "metadata": {},
   "outputs": [],
   "source": [
    "distances = []\n",
    "directions = []"
   ]
  },
  {
   "cell_type": "code",
   "execution_count": 35,
   "metadata": {},
   "outputs": [
    {
     "name": "stdout",
     "output_type": "stream",
     "text": [
      "BIP: 21, Traditional Outs: 14,  Expected Outs: 11.484079854340813,  Traditional Out Probability: 54.686094544480056%\n"
     ]
    }
   ],
   "source": [
    "# No mans land Traditional\n",
    "bip = len(traditional_none_lr)\n",
    "X = preprocessing.scale(college_trad_none_lr[['exit_velocity','hang_time']])\n",
    "y = college_trad_none_lr['play_result']\n",
    "clf_none = LogisticRegression(random_state=42).fit(X, y)\n",
    "batter_X = preprocessing.scale(traditional_none_lr[['exit_velocity','hang_time']])\n",
    "traditional_none = clf_none.predict_proba(batter_X)\n",
    "out_probs = []\n",
    "for probs in traditional_none:\n",
    "    out_probs.append(probs[0])\n",
    "traditional_none_lr['traditional_out_prob'] = out_probs\n",
    "expected_outs = sum(traditional_none_lr['traditional_out_prob'])\n",
    "trad_none_outs = bip - sum(traditional_none_lr['play_result'])\n",
    "expected_out_prob = expected_outs / bip\n",
    "\n",
    "print(\"BIP: \" + str(bip) + ', '+ 'Traditional Outs: ' + str(trad_none_outs) + ', ' +\" Expected Outs: \" + str(expected_outs) + ', ' + \" Traditional Out Probability: \" + str(expected_out_prob*100) + '%')"
   ]
  },
  {
   "cell_type": "code",
   "execution_count": 36,
   "metadata": {},
   "outputs": [],
   "source": [
    "# 1B Traditional\n",
    "#bip = len(traditional_1B_lr)\n",
    "#X = preprocessing.scale(college_trad_1B_lr[['exit_velocity','hang_time']])\n",
    "#y = college_trad_1B_lr['play_result']\n",
    "#clf_1B = LogisticRegression(random_state=42).fit(X, y)\n",
    "#batter_X = preprocessing.scale(traditional_1B_lr[['exit_velocity','hang_time']])\n",
    "#traditional_1B = clf_1B.predict_proba(batter_X)\n",
    "#out_probs = []\n",
    "#for probs in traditional_1B:\n",
    "#    out_probs.append(probs[0])\n",
    "#traditional_1B_lr['traditional_out_prob'] = out_probs\n",
    "#expected_outs = sum(traditional_1B_lr['traditional_out_prob'])\n",
    "#trad_1B_outs = bip - sum(traditional_1B_lr['play_result'])\n",
    "#expected_out_prob = expected_outs / bip\n",
    "\n",
    "#print(\"BIP: \" + str(bip) + ', '+ 'Traditional Outs: ' + str(trad_1B_outs) + ', ' +\" Expected Outs: \" + str(expected_outs) + ', ' + \" Traditional Out Probability: \" + str(expected_out_prob*100) + '%')"
   ]
  },
  {
   "cell_type": "code",
   "execution_count": 37,
   "metadata": {},
   "outputs": [
    {
     "name": "stdout",
     "output_type": "stream",
     "text": [
      "BIP: 8, Traditional Outs: 7,  Expected Outs: 5.703045309726544,  Traditional Out Probability: 71.2880663715818%\n"
     ]
    }
   ],
   "source": [
    "# 2B Traditional\n",
    "bip = len(traditional_2B_lr)\n",
    "X = preprocessing.scale(college_trad_2B_lr[['exit_velocity','hang_time']])\n",
    "y = college_trad_2B_lr['play_result']\n",
    "clf_2B = LogisticRegression(random_state=42).fit(X, y)\n",
    "batter_X = preprocessing.scale(traditional_2B_lr[['exit_velocity','hang_time']])\n",
    "traditional_2B = clf_2B.predict_proba(batter_X)\n",
    "out_probs = []\n",
    "for probs in traditional_2B:\n",
    "    out_probs.append(probs[0])\n",
    "traditional_2B_lr['traditional_out_prob'] = out_probs\n",
    "expected_outs = sum(traditional_2B_lr['traditional_out_prob'])\n",
    "trad_2B_outs = bip - sum(traditional_2B_lr['play_result'])\n",
    "expected_out_prob = expected_outs / bip\n",
    "\n",
    "print(\"BIP: \" + str(bip) + ', '+ 'Traditional Outs: ' + str(trad_2B_outs) + ', ' + \" Expected Outs: \" + str(expected_outs) + ', ' + \" Traditional Out Probability: \" + str(expected_out_prob*100) + '%')"
   ]
  },
  {
   "cell_type": "code",
   "execution_count": 38,
   "metadata": {},
   "outputs": [
    {
     "name": "stdout",
     "output_type": "stream",
     "text": [
      "BIP: 9, Traditional Outs: 7,  Expected Outs: 5.3809779223962515,  Traditional Out Probability: 59.78864358218057%\n"
     ]
    }
   ],
   "source": [
    "# 3B Traditional \n",
    "bip = len(traditional_3B_lr)\n",
    "X = preprocessing.scale(college_trad_3B_lr[['exit_velocity','hang_time']])\n",
    "y = college_trad_3B_lr['play_result']\n",
    "clf_3B = LogisticRegression(random_state=42).fit(X, y)\n",
    "batter_X = preprocessing.scale(traditional_3B_lr[['exit_velocity','hang_time']])\n",
    "traditional_3B = clf_3B.predict_proba(batter_X)\n",
    "out_probs = []\n",
    "for probs in traditional_3B:\n",
    "    out_probs.append(probs[0])\n",
    "traditional_3B_lr['traditional_out_prob'] = out_probs\n",
    "expected_outs = sum(traditional_3B_lr['traditional_out_prob'])\n",
    "trad_3B_outs = bip - sum(traditional_3B_lr['play_result'])\n",
    "expected_out_prob = expected_outs / bip\n",
    "\n",
    "print(\"BIP: \" + str(bip) + ', '+ 'Traditional Outs: ' + str(trad_3B_outs) + ', ' + \" Expected Outs: \" + str(expected_outs) + ', ' + \" Traditional Out Probability: \" + str(expected_out_prob*100) + '%')"
   ]
  },
  {
   "cell_type": "code",
   "execution_count": 39,
   "metadata": {},
   "outputs": [
    {
     "name": "stdout",
     "output_type": "stream",
     "text": [
      "BIP: 14, Traditional Outs: 13,  Expected Outs: 9.365235794846434,  Traditional Out Probability: 66.89454139176024%\n"
     ]
    }
   ],
   "source": [
    "# SS Traditional\n",
    "bip = len(traditional_SS_lr)\n",
    "X = preprocessing.scale(college_trad_SS_lr[['exit_velocity','hang_time']])\n",
    "y = college_trad_SS_lr['play_result']\n",
    "clf_SS = LogisticRegression(random_state=42).fit(X, y)\n",
    "batter_X = preprocessing.scale(traditional_SS_lr[['exit_velocity','hang_time']])\n",
    "traditional_SS = clf_SS.predict_proba(batter_X)\n",
    "out_probs = []\n",
    "for probs in traditional_SS:\n",
    "    out_probs.append(probs[0])\n",
    "traditional_SS_lr['traditional_out_prob'] = out_probs\n",
    "expected_outs = sum(traditional_SS_lr['traditional_out_prob'])\n",
    "trad_SS_outs = bip - sum(traditional_SS_lr['play_result'])\n",
    "expected_out_prob = expected_outs / bip\n",
    "\n",
    "print(\"BIP: \" + str(bip) + ', '+ 'Traditional Outs: ' + str(trad_SS_outs) + ', ' + \" Expected Outs: \" + str(expected_outs) + ', ' + \" Traditional Out Probability: \" + str(expected_out_prob*100) + '%')"
   ]
  },
  {
   "cell_type": "code",
   "execution_count": 40,
   "metadata": {},
   "outputs": [
    {
     "name": "stdout",
     "output_type": "stream",
     "text": [
      "BIP: 5, Traditional Outs: 2,  Expected Outs: 2.7823871259790804,  Traditional Out Probability: 55.64774251958161%\n"
     ]
    }
   ],
   "source": [
    "# LF Traditional \n",
    "bip = len(traditional_LF_lr)\n",
    "X = preprocessing.scale(college_trad_LF_lr[['exit_velocity','hang_time']])\n",
    "y = college_trad_LF_lr['play_result']\n",
    "clf_LF = LogisticRegression(random_state=42).fit(X, y)\n",
    "batter_X = preprocessing.scale(traditional_LF_lr[['exit_velocity','hang_time']])\n",
    "traditional_LF = clf_LF.predict_proba(batter_X)\n",
    "out_probs = []\n",
    "for probs in traditional_LF:\n",
    "    out_probs.append(probs[0])\n",
    "traditional_LF_lr['traditional_out_prob'] = out_probs\n",
    "expected_outs = sum(traditional_LF_lr['traditional_out_prob'])\n",
    "trad_LF_outs = bip - sum(traditional_LF_lr['play_result'])\n",
    "expected_out_prob = expected_outs / bip\n",
    "\n",
    "print(\"BIP: \" + str(bip) + ', '+ 'Traditional Outs: ' + str(trad_LF_outs) + ', ' + \" Expected Outs: \" + str(expected_outs) + ', ' + \" Traditional Out Probability: \" + str(expected_out_prob*100) + '%')"
   ]
  },
  {
   "cell_type": "code",
   "execution_count": 41,
   "metadata": {},
   "outputs": [
    {
     "name": "stdout",
     "output_type": "stream",
     "text": [
      "BIP: 19, Traditional Outs: 15,  Expected Outs: 14.29471925807239,  Traditional Out Probability: 75.23536451617048%\n"
     ]
    }
   ],
   "source": [
    "# CF Traditional\n",
    "bip = len(traditional_CF_lr)\n",
    "X = preprocessing.scale(college_trad_CF_lr[['exit_velocity','hang_time']])\n",
    "y = college_trad_CF_lr['play_result']\n",
    "clf_CF = LogisticRegression(random_state=42).fit(X, y)\n",
    "batter_X = preprocessing.scale(traditional_CF_lr[['exit_velocity','hang_time']])\n",
    "traditional_CF = clf_CF.predict_proba(batter_X)\n",
    "out_probs = []\n",
    "for probs in traditional_CF:\n",
    "    out_probs.append(probs[0])\n",
    "traditional_CF_lr['traditional_out_prob'] = out_probs\n",
    "expected_outs = sum(traditional_CF_lr['traditional_out_prob'])\n",
    "trad_CF_outs = bip - sum(traditional_CF_lr['play_result'])\n",
    "expected_out_prob = expected_outs / bip\n",
    "\n",
    "print(\"BIP: \" + str(bip) + ', '+ 'Traditional Outs: ' + str(trad_CF_outs) + ', ' + \" Expected Outs: \" + str(expected_outs) + ', ' + \" Traditional Out Probability: \" + str(expected_out_prob*100) + '%')"
   ]
  },
  {
   "cell_type": "code",
   "execution_count": 42,
   "metadata": {},
   "outputs": [
    {
     "name": "stdout",
     "output_type": "stream",
     "text": [
      "BIP: 2, Traditional Outs: 2,  Expected Outs: 1.5035669993710021,  Traditional Out Probability: 75.17834996855011%\n"
     ]
    }
   ],
   "source": [
    "# RF Traditional\n",
    "bip = len(traditional_RF_lr)\n",
    "X = preprocessing.scale(college_trad_RF_lr[['exit_velocity','hang_time']])\n",
    "y = college_trad_RF_lr['play_result']\n",
    "clf_RF = LogisticRegression(random_state=42).fit(X, y)\n",
    "batter_X = preprocessing.scale(traditional_RF_lr[['exit_velocity','hang_time']])\n",
    "traditional_RF = clf_RF.predict_proba(batter_X)\n",
    "out_probs = []\n",
    "for probs in traditional_RF:\n",
    "    out_probs.append(probs[0])\n",
    "traditional_RF_lr['traditional_out_prob'] = out_probs\n",
    "expected_outs = sum(traditional_RF_lr['traditional_out_prob'])\n",
    "trad_RF_outs = bip - sum(traditional_RF_lr['play_result'])\n",
    "expected_out_prob = expected_outs / bip\n",
    "\n",
    "print(\"BIP: \" + str(bip) + ', '+ 'Traditional Outs: ' + str(trad_RF_outs) + ', ' + \" Expected Outs: \" + str(expected_outs) + ', ' + \" Traditional Out Probability: \" + str(expected_out_prob*100) + '%')"
   ]
  },
  {
   "cell_type": "code",
   "execution_count": 43,
   "metadata": {},
   "outputs": [
    {
     "name": "stdout",
     "output_type": "stream",
     "text": [
      "Total BIP: 78\n",
      "Traditional Outs: 60\n",
      "Traditional Out Probability: 76.92307692307693%\n"
     ]
    }
   ],
   "source": [
    "bip = len(clusters)\n",
    "print(\"Total BIP: \" + str(bip))\n",
    "trad_outs = trad_2B_outs + trad_3B_outs + trad_SS_outs + trad_LF_outs + trad_CF_outs + trad_RF_outs + trad_none_outs\n",
    "\n",
    "print(\"Traditional Outs: \" + str(trad_outs))\n",
    "print(\"Traditional Out Probability: \" + str((trad_outs/bip)*100) + \"%\")"
   ]
  },
  {
   "cell_type": "code",
   "execution_count": 44,
   "metadata": {},
   "outputs": [],
   "source": [
    "# 1B Shift\n",
    "#bip = len(shift_1B_lr)\n",
    "#X = preprocessing.scale(shift_1B_lr[['exit_velocity','hang_time']])\n",
    "#shift_1B = clf_1B.predict_proba(X)\n",
    "#out_probs = []\n",
    "#for probs in shift_1B:\n",
    "#    out_probs.append(probs[0])\n",
    "#shift_1B_lr['shift_out_prob'] = out_probs\n",
    "#shift_1B_outs = sum(shift_1B_lr['shift_out_prob'])\n",
    "#trad_1B_outs = bip - sum(shift_1B_lr['play_result'])\n",
    "#trad_1B_out_prob = trad_1B_outs / bip\n",
    "#shifted_1B_out_prob = shift_1B_outs / bip\n",
    "\n",
    "#print(\"BIP: \" + str(bip))\n",
    "#print('Traditional Outs: ' + str(trad_1B_outs) + ', ' + 'Traditional Out Probability: ' + str(trad_1B_out_prob*100) + \" %\")\n",
    "#print( \"Shifted Outs: \" + str(shift_1B_outs) + ', ' + \" Shifted Out Probability: \" + str(shifted_1B_out_prob*100) + ' %')\n",
    "distances.append(110)\n",
    "directions.append(34)"
   ]
  },
  {
   "cell_type": "code",
   "execution_count": 45,
   "metadata": {},
   "outputs": [
    {
     "name": "stdout",
     "output_type": "stream",
     "text": [
      "No Shift!\n",
      "BIP: 16\n",
      "Traditional Outs: 15, Traditional Out Probability: 93.75 %\n",
      "Shifted Outs: 11.404006264732967,  Shifted Out Probability: 71.27503915458104 %\n"
     ]
    }
   ],
   "source": [
    "# 2B Shift\n",
    "bip = len(shift_2B_lr)\n",
    "X = preprocessing.scale(shift_2B_lr[['exit_velocity','hang_time']])\n",
    "shift_2B = clf_2B.predict_proba(X)\n",
    "out_probs = []\n",
    "for probs in shift_2B:\n",
    "    out_probs.append(probs[0])\n",
    "shift_2B_lr['shift_out_prob'] = out_probs\n",
    "shift_2B_outs = sum(shift_2B_lr['shift_out_prob'])\n",
    "trad_2B_outs = bip - sum(shift_2B_lr['play_result'])\n",
    "trad_2B_out_prob = trad_2B_outs / bip\n",
    "shifted_2B_out_prob = shift_2B_outs / bip\n",
    "\n",
    "if(shifted_2B_out_prob > trad_2B_out_prob):\n",
    "    print(\"Shift!\")\n",
    "    distances.append(int(shifted_positions[shifted_positions['custom_cluster']== cluster_to_position[4]]['distance']))\n",
    "    directions.append(int(shifted_positions[shifted_positions['custom_cluster']== cluster_to_position[4]]['direction']))\n",
    "else:\n",
    "    print(\"No Shift!\")\n",
    "    distances.append(traditional_positions.iloc[4-4]['distance'])\n",
    "    directions.append(traditional_positions.iloc[4-4]['direction'])\n",
    "\n",
    "print(\"BIP: \" + str(bip))\n",
    "print('Traditional Outs: ' + str(trad_2B_outs) + ', ' + 'Traditional Out Probability: ' + str(trad_2B_out_prob*100) + \" %\")\n",
    "print( \"Shifted Outs: \" + str(shift_2B_outs) + ', ' + \" Shifted Out Probability: \" + str(shifted_2B_out_prob*100) + ' %')"
   ]
  },
  {
   "cell_type": "code",
   "execution_count": 46,
   "metadata": {},
   "outputs": [
    {
     "name": "stdout",
     "output_type": "stream",
     "text": [
      "No Shift!\n",
      "BIP: 4\n",
      "Traditional Outs: 4, Traditional Out Probability: 100.0 %\n",
      "Shifted Outs: 2.402805664163437,  Shifted Out Probability: 60.070141604085926 %\n"
     ]
    }
   ],
   "source": [
    "# 3B Shift\n",
    "bip = len(shift_3B_lr)\n",
    "X = preprocessing.scale(shift_3B_lr[['exit_velocity','hang_time']])\n",
    "shift_3B = clf_3B.predict_proba(X)\n",
    "out_probs = []\n",
    "for probs in shift_3B:\n",
    "    out_probs.append(probs[0])\n",
    "shift_3B_lr['shift_out_prob'] = out_probs\n",
    "shift_3B_outs = sum(shift_3B_lr['shift_out_prob'])\n",
    "trad_3B_outs = bip - sum(shift_3B_lr['play_result'])\n",
    "trad_3B_out_prob = trad_3B_outs / bip\n",
    "shifted_3B_out_prob = shift_3B_outs / bip\n",
    "\n",
    "if(shifted_3B_out_prob > trad_3B_out_prob):\n",
    "    print(\"Shift!\")\n",
    "    distances.append(int(shifted_positions[shifted_positions['custom_cluster']== cluster_to_position[5]]['distance']))\n",
    "    directions.append(int(shifted_positions[shifted_positions['custom_cluster']== cluster_to_position[5]]['direction']))\n",
    "else:\n",
    "    print(\"No Shift!\")\n",
    "    distances.append(traditional_positions.iloc[5-4]['distance'])\n",
    "    directions.append(traditional_positions.iloc[5-4]['direction'])\n",
    "\n",
    "print(\"BIP: \" + str(bip))\n",
    "print('Traditional Outs: ' + str(trad_3B_outs) + ', ' + 'Traditional Out Probability: ' + str(trad_3B_out_prob*100) + \" %\")\n",
    "print( \"Shifted Outs: \" + str(shift_3B_outs) + ', ' + \" Shifted Out Probability: \" + str(shifted_3B_out_prob*100) + ' %')"
   ]
  },
  {
   "cell_type": "code",
   "execution_count": 47,
   "metadata": {},
   "outputs": [
    {
     "name": "stdout",
     "output_type": "stream",
     "text": [
      "No Shift!\n",
      "BIP: 13\n",
      "Traditional Outs: 10, Traditional Out Probability: 76.92307692307693 %\n",
      "Shifted Outs: 8.692049450236526,  Shifted Out Probability: 66.86191884797327 %\n"
     ]
    }
   ],
   "source": [
    "# SS Shift\n",
    "bip = len(shift_SS_lr)\n",
    "X = preprocessing.scale(shift_SS_lr[['exit_velocity','hang_time']])\n",
    "shift_SS = clf_SS.predict_proba(X)\n",
    "out_probs = []\n",
    "for probs in shift_SS:\n",
    "    out_probs.append(probs[0])\n",
    "shift_SS_lr['shift_out_prob'] = out_probs\n",
    "shift_SS_outs = sum(shift_SS_lr['shift_out_prob'])\n",
    "trad_SS_outs = bip - sum(shift_SS_lr['play_result'])\n",
    "trad_SS_out_prob = trad_SS_outs / bip\n",
    "shifted_SS_out_prob = shift_SS_outs / bip\n",
    "\n",
    "if(shifted_SS_out_prob > trad_SS_out_prob):\n",
    "    print(\"Shift!\")\n",
    "    distances.append(int(shifted_positions[shifted_positions['custom_cluster']== cluster_to_position[6]]['distance']))\n",
    "    directions.append(int(shifted_positions[shifted_positions['custom_cluster']== cluster_to_position[6]]['direction']))\n",
    "else:\n",
    "    print(\"No Shift!\")\n",
    "    distances.append(traditional_positions.iloc[6-4]['distance'])\n",
    "    directions.append(traditional_positions.iloc[6-4]['direction'])\n",
    "\n",
    "print(\"BIP: \" + str(bip))\n",
    "print('Traditional Outs: ' + str(trad_SS_outs) + ', ' + 'Traditional Out Probability: ' + str(trad_SS_out_prob*100) + \" %\")\n",
    "print( \"Shifted Outs: \" + str(shift_SS_outs) + ', ' + \" Shifted Out Probability: \" + str(shifted_SS_out_prob*100) + ' %')"
   ]
  },
  {
   "cell_type": "code",
   "execution_count": 48,
   "metadata": {},
   "outputs": [
    {
     "name": "stdout",
     "output_type": "stream",
     "text": [
      "Shift!\n",
      "BIP: 20\n",
      "Traditional Outs: 7, Traditional Out Probability: 35.0 %\n",
      "Shifted Outs: 11.256924169256486,  Shifted Out Probability: 56.28462084628243 %\n"
     ]
    }
   ],
   "source": [
    "# LF Shift\n",
    "bip = len(shift_LF_lr)\n",
    "X = preprocessing.scale(shift_LF_lr[['exit_velocity','hang_time']])\n",
    "shift_LF = clf_LF.predict_proba(X)\n",
    "out_probs = []\n",
    "for probs in shift_LF:\n",
    "    out_probs.append(probs[0])\n",
    "shift_LF_lr['shift_out_prob'] = out_probs\n",
    "shift_LF_outs = sum(shift_LF_lr['shift_out_prob'])\n",
    "trad_LF_outs = bip - sum(shift_LF_lr['play_result'])\n",
    "trad_LF_out_prob = trad_LF_outs / bip\n",
    "shifted_LF_out_prob = shift_LF_outs / bip\n",
    "\n",
    "if(shifted_LF_out_prob > trad_LF_out_prob):\n",
    "    print(\"Shift!\")\n",
    "    distances.append(int(shifted_positions[shifted_positions['custom_cluster']== cluster_to_position[7]]['distance']))\n",
    "    directions.append(int(shifted_positions[shifted_positions['custom_cluster']== cluster_to_position[7]]['direction']))\n",
    "else:\n",
    "    print(\"No Shift!\")\n",
    "    distances.append(traditional_positions.iloc[7-4]['distance'])\n",
    "    directions.append(traditional_positions.iloc[7-4]['direction'])\n",
    "\n",
    "print(\"BIP: \" + str(bip))\n",
    "print('Traditional Outs: ' + str(trad_LF_outs) + ', ' + 'Traditional Out Probability: ' + str(trad_LF_out_prob*100) + \" %\")\n",
    "print( \"Shifted Outs: \" + str(shift_LF_outs) + ', ' + \" Shifted Out Probability: \" + str(shifted_LF_out_prob*100) + ' %')"
   ]
  },
  {
   "cell_type": "code",
   "execution_count": 49,
   "metadata": {},
   "outputs": [
    {
     "name": "stdout",
     "output_type": "stream",
     "text": [
      "No Shift!\n",
      "BIP: 20\n",
      "Traditional Outs: 19, Traditional Out Probability: 95.0 %\n",
      "Shifted Outs: 14.78555830513421,  Shifted Out Probability: 73.92779152567105 %\n"
     ]
    }
   ],
   "source": [
    "# CF Shift\n",
    "bip = len(shift_CF_lr)\n",
    "X = preprocessing.scale(shift_CF_lr[['exit_velocity','hang_time']])\n",
    "shift_CF = clf_CF.predict_proba(X)\n",
    "out_probs = []\n",
    "for probs in shift_CF:\n",
    "    out_probs.append(probs[0])\n",
    "shift_CF_lr['shift_out_prob'] = out_probs\n",
    "shift_CF_outs = sum(shift_CF_lr['shift_out_prob'])\n",
    "trad_CF_outs = bip - sum(shift_CF_lr['play_result'])\n",
    "trad_CF_out_prob = trad_CF_outs / bip\n",
    "shifted_CF_out_prob = shift_CF_outs / bip\n",
    "\n",
    "if(shifted_CF_out_prob > trad_CF_out_prob):\n",
    "    print(\"Shift!\")\n",
    "    distances.append(int(shifted_positions[shifted_positions['custom_cluster']== cluster_to_position[8]]['distance']))\n",
    "    directions.append(int(shifted_positions[shifted_positions['custom_cluster']== cluster_to_position[8]]['direction']))\n",
    "else:\n",
    "    print(\"No Shift!\")\n",
    "    distances.append(traditional_positions.iloc[8-4]['distance'])\n",
    "    directions.append(traditional_positions.iloc[8-4]['direction'])\n",
    "\n",
    "print(\"BIP: \" + str(bip))\n",
    "print('Traditional Outs: ' + str(trad_CF_outs) + ', ' + 'Traditional Out Probability: ' + str(trad_CF_out_prob*100) + \" %\")\n",
    "print( \"Shifted Outs: \" + str(shift_CF_outs) + ', ' + \" Shifted Out Probability: \" + str(shifted_CF_out_prob*100) + ' %')"
   ]
  },
  {
   "cell_type": "code",
   "execution_count": 50,
   "metadata": {},
   "outputs": [
    {
     "name": "stdout",
     "output_type": "stream",
     "text": [
      "No Shift!\n",
      "BIP: 5\n",
      "Traditional Outs: 5, Traditional Out Probability: 100.0 %\n",
      "Shifted Outs: 3.059069054677006,  Shifted Out Probability: 61.181381093540125 %\n"
     ]
    }
   ],
   "source": [
    "# RF Shift\n",
    "bip = len(shift_RF_lr)\n",
    "X = preprocessing.scale(shift_RF_lr[['exit_velocity','hang_time']])\n",
    "shift_RF = clf_RF.predict_proba(X)\n",
    "out_probs = []\n",
    "for probs in shift_RF:\n",
    "    out_probs.append(probs[0])\n",
    "shift_RF_lr['shift_out_prob'] = out_probs\n",
    "shift_RF_outs = sum(shift_RF_lr['shift_out_prob'])\n",
    "trad_RF_outs = bip - sum(shift_RF_lr['play_result'])\n",
    "trad_RF_out_prob = trad_RF_outs / bip\n",
    "shifted_RF_out_prob = shift_RF_outs / bip\n",
    "\n",
    "\n",
    "if(shifted_RF_out_prob > trad_RF_out_prob):\n",
    "    print(\"Shift!\")\n",
    "    distances.append(int(shifted_positions[shifted_positions['custom_cluster']== cluster_to_position[9]]['distance']))\n",
    "    directions.append(int(shifted_positions[shifted_positions['custom_cluster']== cluster_to_position[9]]['direction']))\n",
    "else:\n",
    "    print(\"No Shift!\")\n",
    "    distances.append(traditional_positions.iloc[9-4]['distance'])\n",
    "    directions.append(traditional_positions.iloc[9-4]['direction'])\n",
    "\n",
    "print(\"BIP: \" + str(bip))\n",
    "print('Traditional Outs: ' + str(trad_RF_outs) + ', ' + 'Traditional Out Probability: ' + str(trad_RF_out_prob*100) + \" %\")\n",
    "print( \"Shifted Outs: \" + str(shift_RF_outs) + ', ' + \" Shifted Out Probability: \" + str(shifted_RF_out_prob*100) + ' %')"
   ]
  },
  {
   "cell_type": "code",
   "execution_count": 51,
   "metadata": {},
   "outputs": [
    {
     "name": "stdout",
     "output_type": "stream",
     "text": [
      "Total BIP: 78\n",
      "Shifted Outs: 51.60041290820063\n",
      "Shifted Out Probability: 66.15437552333414%\n"
     ]
    }
   ],
   "source": [
    "bip = len(clusters)\n",
    "print(\"Total BIP: \" + str(bip))\n",
    "shift_outs =  shift_2B_outs + shift_3B_outs + shift_SS_outs + shift_LF_outs + shift_CF_outs + shift_RF_outs\n",
    "print(\"Shifted Outs: \" + str(shift_outs))\n",
    "print(\"Shifted Out Probability: \" + str((shift_outs/bip)*100) + \"%\")"
   ]
  },
  {
   "cell_type": "code",
   "execution_count": 52,
   "metadata": {},
   "outputs": [],
   "source": [
    "# Move LF up but stick to traditional "
   ]
  },
  {
   "cell_type": "code",
   "execution_count": 53,
   "metadata": {},
   "outputs": [],
   "source": [
    "positioning = pd.DataFrame()\n",
    "positioning['distance'] = distances\n",
    "positioning['direction'] = directions"
   ]
  },
  {
   "cell_type": "code",
   "execution_count": 54,
   "metadata": {},
   "outputs": [
    {
     "data": {
      "text/html": [
       "<div>\n",
       "<style scoped>\n",
       "    .dataframe tbody tr th:only-of-type {\n",
       "        vertical-align: middle;\n",
       "    }\n",
       "\n",
       "    .dataframe tbody tr th {\n",
       "        vertical-align: top;\n",
       "    }\n",
       "\n",
       "    .dataframe thead th {\n",
       "        text-align: right;\n",
       "    }\n",
       "</style>\n",
       "<table border=\"1\" class=\"dataframe\">\n",
       "  <thead>\n",
       "    <tr style=\"text-align: right;\">\n",
       "      <th></th>\n",
       "      <th>distance</th>\n",
       "      <th>direction</th>\n",
       "    </tr>\n",
       "  </thead>\n",
       "  <tbody>\n",
       "    <tr>\n",
       "      <th>0</th>\n",
       "      <td>110</td>\n",
       "      <td>34</td>\n",
       "    </tr>\n",
       "    <tr>\n",
       "      <th>1</th>\n",
       "      <td>150</td>\n",
       "      <td>13</td>\n",
       "    </tr>\n",
       "    <tr>\n",
       "      <th>2</th>\n",
       "      <td>116</td>\n",
       "      <td>-30</td>\n",
       "    </tr>\n",
       "    <tr>\n",
       "      <th>3</th>\n",
       "      <td>146</td>\n",
       "      <td>-12</td>\n",
       "    </tr>\n",
       "    <tr>\n",
       "      <th>4</th>\n",
       "      <td>236</td>\n",
       "      <td>-18</td>\n",
       "    </tr>\n",
       "    <tr>\n",
       "      <th>5</th>\n",
       "      <td>321</td>\n",
       "      <td>1</td>\n",
       "    </tr>\n",
       "    <tr>\n",
       "      <th>6</th>\n",
       "      <td>295</td>\n",
       "      <td>27</td>\n",
       "    </tr>\n",
       "  </tbody>\n",
       "</table>\n",
       "</div>"
      ],
      "text/plain": [
       "   distance  direction\n",
       "0       110         34\n",
       "1       150         13\n",
       "2       116        -30\n",
       "3       146        -12\n",
       "4       236        -18\n",
       "5       321          1\n",
       "6       295         27"
      ]
     },
     "execution_count": 54,
     "metadata": {},
     "output_type": "execute_result"
    }
   ],
   "source": [
    "positioning"
   ]
  },
  {
   "cell_type": "code",
   "execution_count": 55,
   "metadata": {},
   "outputs": [],
   "source": [
    "positioning.to_csv('Final_Shift.csv')"
   ]
  }
 ],
 "metadata": {
  "kernelspec": {
   "display_name": "Python 3",
   "language": "python",
   "name": "python3"
  },
  "language_info": {
   "codemirror_mode": {
    "name": "ipython",
    "version": 3
   },
   "file_extension": ".py",
   "mimetype": "text/x-python",
   "name": "python",
   "nbconvert_exporter": "python",
   "pygments_lexer": "ipython3",
   "version": "3.8.3"
  }
 },
 "nbformat": 4,
 "nbformat_minor": 4
}
