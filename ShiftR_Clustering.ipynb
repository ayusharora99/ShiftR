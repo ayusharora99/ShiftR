{
 "cells": [
  {
   "cell_type": "code",
   "execution_count": 1,
   "metadata": {},
   "outputs": [],
   "source": [
    "import pandas as pd\n",
    "import numpy as np\n",
    "from sklearn import preprocessing\n",
    "from sklearn.cluster import KMeans"
   ]
  },
  {
   "cell_type": "code",
   "execution_count": 2,
   "metadata": {},
   "outputs": [],
   "source": [
    "training_data = pd.read_csv(\"training_data.csv\")\n",
    "training_data = training_data.dropna(subset = ['exit_velocity','distance','hang_time','direction','play_result'])\n",
    "#training_data = training_data.dropna(subset = ['exit_velocity', 'hit_spin_rate','position_at_110y','last_tracked_distance','hang_time','direction','play_result'])"
   ]
  },
  {
   "cell_type": "code",
   "execution_count": 3,
   "metadata": {},
   "outputs": [
    {
     "data": {
      "text/plain": [
       "43921"
      ]
     },
     "execution_count": 3,
     "metadata": {},
     "output_type": "execute_result"
    }
   ],
   "source": [
    "len(training_data)"
   ]
  },
  {
   "cell_type": "code",
   "execution_count": 4,
   "metadata": {},
   "outputs": [],
   "source": [
    "batters = training_data.groupby(\"batter_name\", as_index=False)\n",
    "batter_dict = dict(iter(batters))"
   ]
  },
  {
   "cell_type": "code",
   "execution_count": 5,
   "metadata": {},
   "outputs": [],
   "source": [
    "Seymour_Bobby = batter_dict['Seymour, Bobby']\n",
    "#Seymour_Bobby = Seymour_Bobby.loc[Seymour_Bobby['distance'] >= 60]\n",
    "location = Seymour_Bobby[['distance','direction']]\n",
    "location_scaled = preprocessing.scale(location)\n",
    "#scaler = preprocessing.MinMaxScaler()\n",
    "#location_scaled = scaler.fit_transform(location)\n",
    "\n",
    "kmeans = KMeans(n_clusters = 7)\n",
    "groups = kmeans.fit_predict(location_scaled)\n",
    "Seymour_Bobby['cluster'] = groups\n",
    "\n",
    "#kmeans_batch = MiniBatchKMeans(n_clusters = 7)\n",
    "#batch_groups = kmeans_batch.fit_predict(location_scaled)\n",
    "#Seymour_Bobby['cluster_batch'] = batch_groups\n",
    "\n",
    "#birch = Birch(threshold=0.01, n_clusters=7)\n",
    "#birch_groups = birch.fit_predict(location_scaled)\n",
    "#Seymour_Bobby['cluster_birch'] = birch_groups"
   ]
  },
  {
   "cell_type": "code",
   "execution_count": 6,
   "metadata": {},
   "outputs": [
    {
     "data": {
      "text/plain": [
       "distance     210.152763\n",
       "direction    -19.519328\n",
       "Name: 300, dtype: float64"
      ]
     },
     "execution_count": 6,
     "metadata": {},
     "output_type": "execute_result"
    }
   ],
   "source": [
    "location.iloc[0]"
   ]
  },
  {
   "cell_type": "code",
   "execution_count": 7,
   "metadata": {},
   "outputs": [
    {
     "data": {
      "text/plain": [
       "array([ 0.65232171, -1.42017546])"
      ]
     },
     "execution_count": 7,
     "metadata": {},
     "output_type": "execute_result"
    }
   ],
   "source": [
    "location_scaled[0]"
   ]
  },
  {
   "cell_type": "code",
   "execution_count": 8,
   "metadata": {},
   "outputs": [],
   "source": [
    "Seymour_Bobby.to_csv('clusters.csv')"
   ]
  },
  {
   "cell_type": "code",
   "execution_count": 9,
   "metadata": {},
   "outputs": [],
   "source": [
    "cluster_0 = Seymour_Bobby.loc[Seymour_Bobby['cluster'] == 0]\n",
    "cluster_1 = Seymour_Bobby.loc[Seymour_Bobby['cluster'] == 1]\n",
    "cluster_2 = Seymour_Bobby.loc[Seymour_Bobby['cluster'] == 2]\n",
    "cluster_3 = Seymour_Bobby.loc[Seymour_Bobby['cluster'] == 3]\n",
    "cluster_4 = Seymour_Bobby.loc[Seymour_Bobby['cluster'] == 4]\n",
    "cluster_5 = Seymour_Bobby.loc[Seymour_Bobby['cluster'] == 5]\n",
    "cluster_6 = Seymour_Bobby.loc[Seymour_Bobby['cluster'] == 6]\n",
    "\n",
    "clusters = ['cluster_0','cluster_1','cluster_2','cluster_3','cluster_4','cluster_5','cluster_6']"
   ]
  },
  {
   "cell_type": "code",
   "execution_count": 10,
   "metadata": {},
   "outputs": [],
   "source": [
    "cluster_0.to_csv('cluster_0.csv')\n",
    "cluster_1.to_csv('cluster_1.csv')\n",
    "cluster_2.to_csv('cluster_2.csv')\n",
    "cluster_3.to_csv('cluster_3.csv')\n",
    "cluster_4.to_csv('cluster_4.csv')\n",
    "cluster_5.to_csv('cluster_5.csv')\n",
    "cluster_6.to_csv('cluster_6.csv')"
   ]
  },
  {
   "cell_type": "code",
   "execution_count": 11,
   "metadata": {},
   "outputs": [],
   "source": [
    "mean_distances = []\n",
    "mean_distances.append(cluster_0['distance'].mean())\n",
    "mean_distances.append(cluster_1['distance'].mean())\n",
    "mean_distances.append(cluster_2['distance'].mean())\n",
    "mean_distances.append(cluster_3['distance'].mean())\n",
    "mean_distances.append(cluster_4['distance'].mean())\n",
    "mean_distances.append(cluster_5['distance'].mean())\n",
    "mean_distances.append(cluster_6['distance'].mean())"
   ]
  },
  {
   "cell_type": "code",
   "execution_count": 12,
   "metadata": {},
   "outputs": [],
   "source": [
    "mean_directions = []\n",
    "mean_directions.append(cluster_0['direction'].mean())\n",
    "mean_directions.append(cluster_1['direction'].mean())\n",
    "mean_directions.append(cluster_2['direction'].mean())\n",
    "mean_directions.append(cluster_3['direction'].mean())\n",
    "mean_directions.append(cluster_4['direction'].mean())\n",
    "mean_directions.append(cluster_5['direction'].mean())\n",
    "mean_directions.append(cluster_6['direction'].mean())"
   ]
  },
  {
   "cell_type": "code",
   "execution_count": 13,
   "metadata": {},
   "outputs": [],
   "source": [
    "mean_hits = []\n",
    "mean_hits.append(cluster_0['play_result'].mean())\n",
    "mean_hits.append(cluster_1['play_result'].mean())\n",
    "mean_hits.append(cluster_2['play_result'].mean())\n",
    "mean_hits.append(cluster_3['play_result'].mean())\n",
    "mean_hits.append(cluster_4['play_result'].mean())\n",
    "mean_hits.append(cluster_5['play_result'].mean())\n",
    "mean_hits.append(cluster_6['play_result'].mean())"
   ]
  },
  {
   "cell_type": "code",
   "execution_count": 14,
   "metadata": {},
   "outputs": [],
   "source": [
    "cluster_means = pd.DataFrame()\n",
    "cluster_means['cluster'] = clusters\n",
    "cluster_means['distance'] = mean_distances\n",
    "cluster_means['direction'] = mean_directions\n",
    "cluster_means['play_result'] = mean_hits"
   ]
  },
  {
   "cell_type": "code",
   "execution_count": 15,
   "metadata": {},
   "outputs": [
    {
     "data": {
      "text/html": [
       "<div>\n",
       "<style scoped>\n",
       "    .dataframe tbody tr th:only-of-type {\n",
       "        vertical-align: middle;\n",
       "    }\n",
       "\n",
       "    .dataframe tbody tr th {\n",
       "        vertical-align: top;\n",
       "    }\n",
       "\n",
       "    .dataframe thead th {\n",
       "        text-align: right;\n",
       "    }\n",
       "</style>\n",
       "<table border=\"1\" class=\"dataframe\">\n",
       "  <thead>\n",
       "    <tr style=\"text-align: right;\">\n",
       "      <th></th>\n",
       "      <th>cluster</th>\n",
       "      <th>distance</th>\n",
       "      <th>direction</th>\n",
       "      <th>play_result</th>\n",
       "    </tr>\n",
       "  </thead>\n",
       "  <tbody>\n",
       "    <tr>\n",
       "      <th>0</th>\n",
       "      <td>cluster_0</td>\n",
       "      <td>155.940330</td>\n",
       "      <td>7.695457</td>\n",
       "      <td>0.588235</td>\n",
       "    </tr>\n",
       "    <tr>\n",
       "      <th>1</th>\n",
       "      <td>cluster_1</td>\n",
       "      <td>24.731365</td>\n",
       "      <td>27.483745</td>\n",
       "      <td>0.169231</td>\n",
       "    </tr>\n",
       "    <tr>\n",
       "      <th>2</th>\n",
       "      <td>cluster_2</td>\n",
       "      <td>321.621118</td>\n",
       "      <td>8.271930</td>\n",
       "      <td>0.365854</td>\n",
       "    </tr>\n",
       "    <tr>\n",
       "      <th>3</th>\n",
       "      <td>cluster_3</td>\n",
       "      <td>45.029403</td>\n",
       "      <td>-22.503128</td>\n",
       "      <td>0.413793</td>\n",
       "    </tr>\n",
       "    <tr>\n",
       "      <th>4</th>\n",
       "      <td>cluster_4</td>\n",
       "      <td>199.803096</td>\n",
       "      <td>28.081593</td>\n",
       "      <td>0.696970</td>\n",
       "    </tr>\n",
       "    <tr>\n",
       "      <th>5</th>\n",
       "      <td>cluster_5</td>\n",
       "      <td>24.897095</td>\n",
       "      <td>4.432497</td>\n",
       "      <td>0.298246</td>\n",
       "    </tr>\n",
       "    <tr>\n",
       "      <th>6</th>\n",
       "      <td>cluster_6</td>\n",
       "      <td>255.756936</td>\n",
       "      <td>-17.458543</td>\n",
       "      <td>0.589744</td>\n",
       "    </tr>\n",
       "  </tbody>\n",
       "</table>\n",
       "</div>"
      ],
      "text/plain": [
       "     cluster    distance  direction  play_result\n",
       "0  cluster_0  155.940330   7.695457     0.588235\n",
       "1  cluster_1   24.731365  27.483745     0.169231\n",
       "2  cluster_2  321.621118   8.271930     0.365854\n",
       "3  cluster_3   45.029403 -22.503128     0.413793\n",
       "4  cluster_4  199.803096  28.081593     0.696970\n",
       "5  cluster_5   24.897095   4.432497     0.298246\n",
       "6  cluster_6  255.756936 -17.458543     0.589744"
      ]
     },
     "execution_count": 15,
     "metadata": {},
     "output_type": "execute_result"
    }
   ],
   "source": [
    "cluster_means"
   ]
  },
  {
   "cell_type": "code",
   "execution_count": 16,
   "metadata": {},
   "outputs": [],
   "source": [
    "# for i,row in cluster_means.iterrows():\n",
    "#     if(cluster_means.at[i,'distance'] < 100):\n",
    "#         cluster_means.at[i,'distance'] = 110"
   ]
  },
  {
   "cell_type": "code",
   "execution_count": 17,
   "metadata": {},
   "outputs": [],
   "source": [
    "# cluster_means"
   ]
  },
  {
   "cell_type": "code",
   "execution_count": 18,
   "metadata": {},
   "outputs": [],
   "source": [
    "cluster_means.to_csv('cluster_means.csv')"
   ]
  },
  {
   "cell_type": "code",
   "execution_count": 19,
   "metadata": {},
   "outputs": [
    {
     "data": {
      "text/plain": [
       "298"
      ]
     },
     "execution_count": 19,
     "metadata": {},
     "output_type": "execute_result"
    }
   ],
   "source": [
    "len(Seymour_Bobby)"
   ]
  },
  {
   "cell_type": "code",
   "execution_count": 20,
   "metadata": {},
   "outputs": [
    {
     "data": {
      "text/html": [
       "<div>\n",
       "<style scoped>\n",
       "    .dataframe tbody tr th:only-of-type {\n",
       "        vertical-align: middle;\n",
       "    }\n",
       "\n",
       "    .dataframe tbody tr th {\n",
       "        vertical-align: top;\n",
       "    }\n",
       "\n",
       "    .dataframe thead th {\n",
       "        text-align: right;\n",
       "    }\n",
       "</style>\n",
       "<table border=\"1\" class=\"dataframe\">\n",
       "  <thead>\n",
       "    <tr style=\"text-align: right;\">\n",
       "      <th></th>\n",
       "      <th>Unnamed: 0</th>\n",
       "      <th>batter_name</th>\n",
       "      <th>pitcher_handedness</th>\n",
       "      <th>batter_handedness</th>\n",
       "      <th>inning</th>\n",
       "      <th>outs</th>\n",
       "      <th>strikes</th>\n",
       "      <th>velocity</th>\n",
       "      <th>vertical_release_angle</th>\n",
       "      <th>horizontal_release_angle</th>\n",
       "      <th>...</th>\n",
       "      <th>pfxx</th>\n",
       "      <th>pfxz</th>\n",
       "      <th>vx0</th>\n",
       "      <th>vy0</th>\n",
       "      <th>vz0</th>\n",
       "      <th>ax</th>\n",
       "      <th>ay</th>\n",
       "      <th>play_result</th>\n",
       "      <th>traditional_cluster</th>\n",
       "      <th>cluster</th>\n",
       "    </tr>\n",
       "  </thead>\n",
       "  <tbody>\n",
       "    <tr>\n",
       "      <th>7744</th>\n",
       "      <td>7744</td>\n",
       "      <td>Seymour, Bobby</td>\n",
       "      <td>1</td>\n",
       "      <td>1</td>\n",
       "      <td>5.0</td>\n",
       "      <td>1.0</td>\n",
       "      <td>0.0</td>\n",
       "      <td>80.915166</td>\n",
       "      <td>-0.286347</td>\n",
       "      <td>-4.262503</td>\n",
       "      <td>...</td>\n",
       "      <td>-8.872089</td>\n",
       "      <td>6.948653</td>\n",
       "      <td>8.310194</td>\n",
       "      <td>-117.332735</td>\n",
       "      <td>-1.534672</td>\n",
       "      <td>-12.242750</td>\n",
       "      <td>24.301422</td>\n",
       "      <td>0</td>\n",
       "      <td>4.0</td>\n",
       "      <td>0</td>\n",
       "    </tr>\n",
       "    <tr>\n",
       "      <th>7893</th>\n",
       "      <td>7893</td>\n",
       "      <td>Seymour, Bobby</td>\n",
       "      <td>1</td>\n",
       "      <td>1</td>\n",
       "      <td>2.0</td>\n",
       "      <td>0.0</td>\n",
       "      <td>2.0</td>\n",
       "      <td>88.533529</td>\n",
       "      <td>-2.886564</td>\n",
       "      <td>-2.766437</td>\n",
       "      <td>...</td>\n",
       "      <td>-6.098800</td>\n",
       "      <td>9.947962</td>\n",
       "      <td>5.890657</td>\n",
       "      <td>-128.594539</td>\n",
       "      <td>-7.096208</td>\n",
       "      <td>-10.236572</td>\n",
       "      <td>26.076174</td>\n",
       "      <td>0</td>\n",
       "      <td>4.0</td>\n",
       "      <td>0</td>\n",
       "    </tr>\n",
       "    <tr>\n",
       "      <th>7916</th>\n",
       "      <td>7916</td>\n",
       "      <td>Seymour, Bobby</td>\n",
       "      <td>1</td>\n",
       "      <td>1</td>\n",
       "      <td>7.0</td>\n",
       "      <td>2.0</td>\n",
       "      <td>2.0</td>\n",
       "      <td>85.674008</td>\n",
       "      <td>-3.091602</td>\n",
       "      <td>-2.453018</td>\n",
       "      <td>...</td>\n",
       "      <td>-7.211516</td>\n",
       "      <td>7.537705</td>\n",
       "      <td>4.962965</td>\n",
       "      <td>-124.393188</td>\n",
       "      <td>-7.518942</td>\n",
       "      <td>-11.221310</td>\n",
       "      <td>26.565134</td>\n",
       "      <td>1</td>\n",
       "      <td>0.0</td>\n",
       "      <td>0</td>\n",
       "    </tr>\n",
       "    <tr>\n",
       "      <th>8321</th>\n",
       "      <td>8321</td>\n",
       "      <td>Seymour, Bobby</td>\n",
       "      <td>1</td>\n",
       "      <td>1</td>\n",
       "      <td>4.0</td>\n",
       "      <td>1.0</td>\n",
       "      <td>2.0</td>\n",
       "      <td>91.931632</td>\n",
       "      <td>-3.028575</td>\n",
       "      <td>-3.071603</td>\n",
       "      <td>...</td>\n",
       "      <td>-4.719609</td>\n",
       "      <td>12.001523</td>\n",
       "      <td>6.922448</td>\n",
       "      <td>-133.308649</td>\n",
       "      <td>-7.504827</td>\n",
       "      <td>-8.364802</td>\n",
       "      <td>32.694582</td>\n",
       "      <td>0</td>\n",
       "      <td>6.0</td>\n",
       "      <td>0</td>\n",
       "    </tr>\n",
       "    <tr>\n",
       "      <th>8564</th>\n",
       "      <td>8564</td>\n",
       "      <td>Seymour, Bobby</td>\n",
       "      <td>1</td>\n",
       "      <td>1</td>\n",
       "      <td>7.0</td>\n",
       "      <td>2.0</td>\n",
       "      <td>1.0</td>\n",
       "      <td>75.071435</td>\n",
       "      <td>1.241660</td>\n",
       "      <td>-1.361363</td>\n",
       "      <td>...</td>\n",
       "      <td>3.142686</td>\n",
       "      <td>-1.895943</td>\n",
       "      <td>2.796015</td>\n",
       "      <td>-109.088398</td>\n",
       "      <td>0.734120</td>\n",
       "      <td>3.769709</td>\n",
       "      <td>20.009537</td>\n",
       "      <td>0</td>\n",
       "      <td>0.0</td>\n",
       "      <td>0</td>\n",
       "    </tr>\n",
       "  </tbody>\n",
       "</table>\n",
       "<p>5 rows × 43 columns</p>\n",
       "</div>"
      ],
      "text/plain": [
       "      Unnamed: 0     batter_name  pitcher_handedness  batter_handedness  \\\n",
       "7744        7744  Seymour, Bobby                   1                  1   \n",
       "7893        7893  Seymour, Bobby                   1                  1   \n",
       "7916        7916  Seymour, Bobby                   1                  1   \n",
       "8321        8321  Seymour, Bobby                   1                  1   \n",
       "8564        8564  Seymour, Bobby                   1                  1   \n",
       "\n",
       "      inning  outs  strikes   velocity  vertical_release_angle  \\\n",
       "7744     5.0   1.0      0.0  80.915166               -0.286347   \n",
       "7893     2.0   0.0      2.0  88.533529               -2.886564   \n",
       "7916     7.0   2.0      2.0  85.674008               -3.091602   \n",
       "8321     4.0   1.0      2.0  91.931632               -3.028575   \n",
       "8564     7.0   2.0      1.0  75.071435                1.241660   \n",
       "\n",
       "      horizontal_release_angle  ...      pfxx       pfxz       vx0  \\\n",
       "7744                 -4.262503  ... -8.872089   6.948653  8.310194   \n",
       "7893                 -2.766437  ... -6.098800   9.947962  5.890657   \n",
       "7916                 -2.453018  ... -7.211516   7.537705  4.962965   \n",
       "8321                 -3.071603  ... -4.719609  12.001523  6.922448   \n",
       "8564                 -1.361363  ...  3.142686  -1.895943  2.796015   \n",
       "\n",
       "             vy0       vz0         ax         ay  play_result  \\\n",
       "7744 -117.332735 -1.534672 -12.242750  24.301422            0   \n",
       "7893 -128.594539 -7.096208 -10.236572  26.076174            0   \n",
       "7916 -124.393188 -7.518942 -11.221310  26.565134            1   \n",
       "8321 -133.308649 -7.504827  -8.364802  32.694582            0   \n",
       "8564 -109.088398  0.734120   3.769709  20.009537            0   \n",
       "\n",
       "      traditional_cluster  cluster  \n",
       "7744                  4.0        0  \n",
       "7893                  4.0        0  \n",
       "7916                  0.0        0  \n",
       "8321                  6.0        0  \n",
       "8564                  0.0        0  \n",
       "\n",
       "[5 rows x 43 columns]"
      ]
     },
     "execution_count": 20,
     "metadata": {},
     "output_type": "execute_result"
    }
   ],
   "source": [
    "cluster_0.head()"
   ]
  }
 ],
 "metadata": {
  "kernelspec": {
   "display_name": "Python 3",
   "language": "python",
   "name": "python3"
  },
  "language_info": {
   "codemirror_mode": {
    "name": "ipython",
    "version": 3
   },
   "file_extension": ".py",
   "mimetype": "text/x-python",
   "name": "python",
   "nbconvert_exporter": "python",
   "pygments_lexer": "ipython3",
   "version": "3.8.3"
  }
 },
 "nbformat": 4,
 "nbformat_minor": 4
}
