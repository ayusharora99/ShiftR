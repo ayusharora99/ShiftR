{
 "cells": [
  {
   "cell_type": "code",
   "execution_count": 1,
   "metadata": {},
   "outputs": [],
   "source": [
    "import pandas as pd\n"
   ]
  },
  {
   "cell_type": "code",
   "execution_count": 2,
   "metadata": {},
   "outputs": [],
   "source": [
    "#training_data_with_hit_prob = pd.read_csv('training_data_with_hit_prob.csv')\n",
    "\n",
    "training_data = pd.read_csv(\"training_data.csv\")\n",
    "training_data = training_data.dropna(subset = ['exit_velocity','distance','hang_time','direction','play_result'])"
   ]
  },
  {
   "cell_type": "code",
   "execution_count": 3,
   "metadata": {},
   "outputs": [],
   "source": [
    "batters = training_data.groupby(\"batter_name\", as_index=False)\n",
    "batter_dict = dict(iter(batters))"
   ]
  },
  {
   "cell_type": "code",
   "execution_count": 4,
   "metadata": {},
   "outputs": [],
   "source": [
    "Seymour_Bobby = batter_dict['Seymour, Bobby']"
   ]
  },
  {
   "cell_type": "code",
   "execution_count": 5,
   "metadata": {},
   "outputs": [],
   "source": [
    "traditional_cluster_0 = Seymour_Bobby.loc[Seymour_Bobby['traditional_cluster'] == 3]\n",
    "traditional_cluster_1 = Seymour_Bobby.loc[Seymour_Bobby['traditional_cluster'] == 4]\n",
    "traditional_cluster_2 = Seymour_Bobby.loc[Seymour_Bobby['traditional_cluster'] == 5]\n",
    "traditional_cluster_3 = Seymour_Bobby.loc[Seymour_Bobby['traditional_cluster'] == 6]\n",
    "traditional_cluster_4 = Seymour_Bobby.loc[Seymour_Bobby['traditional_cluster'] == 7]\n",
    "traditional_cluster_5 = Seymour_Bobby.loc[Seymour_Bobby['traditional_cluster'] == 8]\n",
    "traditional_cluster_6 = Seymour_Bobby.loc[Seymour_Bobby['traditional_cluster'] == 9]"
   ]
  },
  {
   "cell_type": "code",
   "execution_count": 6,
   "metadata": {},
   "outputs": [],
   "source": [
    "clusters = ['traditional_cluster_0','traditional_cluster_1','traditional_cluster_2','traditional_cluster_3','traditional_cluster_4','traditional_cluster_5','traditional_cluster_6']"
   ]
  },
  {
   "cell_type": "code",
   "execution_count": 7,
   "metadata": {},
   "outputs": [],
   "source": [
    "Seymour_Bobby.to_csv('traditional_clusters.csv')"
   ]
  },
  {
   "cell_type": "code",
   "execution_count": 8,
   "metadata": {},
   "outputs": [],
   "source": [
    "traditional_cluster_0.to_csv('traditional_cluster_0.csv')\n",
    "traditional_cluster_1.to_csv('traditional_cluster_1.csv')\n",
    "traditional_cluster_2.to_csv('traditional_cluster_2.csv')\n",
    "traditional_cluster_3.to_csv('traditional_cluster_3.csv')\n",
    "traditional_cluster_4.to_csv('traditional_cluster_4.csv')\n",
    "traditional_cluster_5.to_csv('traditional_cluster_5.csv')\n",
    "traditional_cluster_6.to_csv('traditional_cluster_6.csv')"
   ]
  },
  {
   "cell_type": "code",
   "execution_count": 9,
   "metadata": {},
   "outputs": [],
   "source": [
    "mean_distances = []\n",
    "mean_distances.append(traditional_cluster_0['distance'].mean())\n",
    "mean_distances.append(traditional_cluster_1['distance'].mean())\n",
    "mean_distances.append(traditional_cluster_2['distance'].mean())\n",
    "mean_distances.append(traditional_cluster_3['distance'].mean())\n",
    "mean_distances.append(traditional_cluster_4['distance'].mean())\n",
    "mean_distances.append(traditional_cluster_5['distance'].mean())\n",
    "mean_distances.append(traditional_cluster_6['distance'].mean())"
   ]
  },
  {
   "cell_type": "code",
   "execution_count": 10,
   "metadata": {},
   "outputs": [],
   "source": [
    "mean_directions = []\n",
    "mean_directions.append(traditional_cluster_0['direction'].mean())\n",
    "mean_directions.append(traditional_cluster_1['direction'].mean())\n",
    "mean_directions.append(traditional_cluster_2['direction'].mean())\n",
    "mean_directions.append(traditional_cluster_3['direction'].mean())\n",
    "mean_directions.append(traditional_cluster_4['direction'].mean())\n",
    "mean_directions.append(traditional_cluster_5['direction'].mean())\n",
    "mean_directions.append(traditional_cluster_6['direction'].mean())"
   ]
  },
  {
   "cell_type": "code",
   "execution_count": 11,
   "metadata": {},
   "outputs": [],
   "source": [
    "mean_hits = []\n",
    "mean_hits.append(traditional_cluster_0['play_result'].mean())\n",
    "mean_hits.append(traditional_cluster_1['play_result'].mean())\n",
    "mean_hits.append(traditional_cluster_2['play_result'].mean())\n",
    "mean_hits.append(traditional_cluster_3['play_result'].mean())\n",
    "mean_hits.append(traditional_cluster_4['play_result'].mean())\n",
    "mean_hits.append(traditional_cluster_5['play_result'].mean())\n",
    "mean_hits.append(traditional_cluster_6['play_result'].mean())"
   ]
  },
  {
   "cell_type": "code",
   "execution_count": 12,
   "metadata": {},
   "outputs": [],
   "source": [
    "cluster_means = pd.DataFrame()\n",
    "cluster_means['cluster'] = clusters\n",
    "cluster_means['distance'] = mean_distances\n",
    "cluster_means['direction'] = mean_directions\n",
    "cluster_means['play_result'] = mean_hits"
   ]
  },
  {
   "cell_type": "code",
   "execution_count": 13,
   "metadata": {},
   "outputs": [
    {
     "data": {
      "text/html": [
       "<div>\n",
       "<style scoped>\n",
       "    .dataframe tbody tr th:only-of-type {\n",
       "        vertical-align: middle;\n",
       "    }\n",
       "\n",
       "    .dataframe tbody tr th {\n",
       "        vertical-align: top;\n",
       "    }\n",
       "\n",
       "    .dataframe thead th {\n",
       "        text-align: right;\n",
       "    }\n",
       "</style>\n",
       "<table border=\"1\" class=\"dataframe\">\n",
       "  <thead>\n",
       "    <tr style=\"text-align: right;\">\n",
       "      <th></th>\n",
       "      <th>cluster</th>\n",
       "      <th>distance</th>\n",
       "      <th>direction</th>\n",
       "      <th>play_result</th>\n",
       "    </tr>\n",
       "  </thead>\n",
       "  <tbody>\n",
       "    <tr>\n",
       "      <th>0</th>\n",
       "      <td>traditional_cluster_0</td>\n",
       "      <td>45.815894</td>\n",
       "      <td>32.164125</td>\n",
       "      <td>0.270833</td>\n",
       "    </tr>\n",
       "    <tr>\n",
       "      <th>1</th>\n",
       "      <td>traditional_cluster_1</td>\n",
       "      <td>58.883680</td>\n",
       "      <td>11.026881</td>\n",
       "      <td>0.320000</td>\n",
       "    </tr>\n",
       "    <tr>\n",
       "      <th>2</th>\n",
       "      <td>traditional_cluster_2</td>\n",
       "      <td>62.867419</td>\n",
       "      <td>-39.612815</td>\n",
       "      <td>0.666667</td>\n",
       "    </tr>\n",
       "    <tr>\n",
       "      <th>3</th>\n",
       "      <td>traditional_cluster_3</td>\n",
       "      <td>50.711766</td>\n",
       "      <td>-8.743533</td>\n",
       "      <td>0.454545</td>\n",
       "    </tr>\n",
       "    <tr>\n",
       "      <th>4</th>\n",
       "      <td>traditional_cluster_4</td>\n",
       "      <td>257.120429</td>\n",
       "      <td>-26.171712</td>\n",
       "      <td>0.666667</td>\n",
       "    </tr>\n",
       "    <tr>\n",
       "      <th>5</th>\n",
       "      <td>traditional_cluster_5</td>\n",
       "      <td>301.760833</td>\n",
       "      <td>-2.013215</td>\n",
       "      <td>0.354167</td>\n",
       "    </tr>\n",
       "    <tr>\n",
       "      <th>6</th>\n",
       "      <td>traditional_cluster_6</td>\n",
       "      <td>228.900389</td>\n",
       "      <td>25.002337</td>\n",
       "      <td>0.857143</td>\n",
       "    </tr>\n",
       "  </tbody>\n",
       "</table>\n",
       "</div>"
      ],
      "text/plain": [
       "                 cluster    distance  direction  play_result\n",
       "0  traditional_cluster_0   45.815894  32.164125     0.270833\n",
       "1  traditional_cluster_1   58.883680  11.026881     0.320000\n",
       "2  traditional_cluster_2   62.867419 -39.612815     0.666667\n",
       "3  traditional_cluster_3   50.711766  -8.743533     0.454545\n",
       "4  traditional_cluster_4  257.120429 -26.171712     0.666667\n",
       "5  traditional_cluster_5  301.760833  -2.013215     0.354167\n",
       "6  traditional_cluster_6  228.900389  25.002337     0.857143"
      ]
     },
     "execution_count": 13,
     "metadata": {},
     "output_type": "execute_result"
    }
   ],
   "source": [
    "cluster_means"
   ]
  },
  {
   "cell_type": "code",
   "execution_count": 14,
   "metadata": {},
   "outputs": [],
   "source": [
    "cluster_means.to_csv('traditional_cluster_means.csv')"
   ]
  },
  {
   "cell_type": "code",
   "execution_count": 15,
   "metadata": {},
   "outputs": [
    {
     "data": {
      "text/plain": [
       "298"
      ]
     },
     "execution_count": 15,
     "metadata": {},
     "output_type": "execute_result"
    }
   ],
   "source": [
    "len(Seymour_Bobby)"
   ]
  },
  {
   "cell_type": "code",
   "execution_count": 16,
   "metadata": {},
   "outputs": [
    {
     "data": {
      "text/plain": [
       "4.0    75\n",
       "0.0    65\n",
       "3.0    48\n",
       "8.0    48\n",
       "6.0    33\n",
       "9.0    14\n",
       "7.0     9\n",
       "5.0     6\n",
       "Name: traditional_cluster, dtype: int64"
      ]
     },
     "execution_count": 16,
     "metadata": {},
     "output_type": "execute_result"
    }
   ],
   "source": [
    "Seymour_Bobby['traditional_cluster'].value_counts()"
   ]
  },
  {
   "cell_type": "code",
   "execution_count": null,
   "metadata": {},
   "outputs": [],
   "source": []
  }
 ],
 "metadata": {
  "kernelspec": {
   "display_name": "Python 3",
   "language": "python",
   "name": "python3"
  },
  "language_info": {
   "codemirror_mode": {
    "name": "ipython",
    "version": 3
   },
   "file_extension": ".py",
   "mimetype": "text/x-python",
   "name": "python",
   "nbconvert_exporter": "python",
   "pygments_lexer": "ipython3",
   "version": "3.8.3"
  }
 },
 "nbformat": 4,
 "nbformat_minor": 4
}
