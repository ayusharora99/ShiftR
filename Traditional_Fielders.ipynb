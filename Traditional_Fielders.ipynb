{
 "cells": [
  {
   "cell_type": "code",
   "execution_count": 2,
   "metadata": {},
   "outputs": [],
   "source": [
    "import pandas as pd"
   ]
  },
  {
   "cell_type": "code",
   "execution_count": 3,
   "metadata": {},
   "outputs": [],
   "source": [
    "traditional_field = pd.DataFrame()\n",
    "distances = [110,150,116,146,297,321,295]\n",
    "directions = [34,13,-30,-12,-27,1,27]\n",
    "traditional_field['distance'] = distances\n",
    "traditional_field['direction'] = directions\n",
    "traditional_field.to_csv(\"traditional_field.csv\")"
   ]
  },
  {
   "cell_type": "code",
   "execution_count": 6,
   "metadata": {},
   "outputs": [],
   "source": [
    "traditional_field_no_1B = pd.DataFrame()\n",
    "distances = [150,116,146,297,321,295]\n",
    "directions = [13,-30,-12,-27,1,27]\n",
    "traditional_field_no_1B['distance'] = distances\n",
    "traditional_field_no_1B['direction'] = directions\n",
    "traditional_field_no_1B.to_csv(\"traditional_field_no_1B.csv\")"
   ]
  },
  {
   "cell_type": "code",
   "execution_count": null,
   "metadata": {},
   "outputs": [],
   "source": []
  }
 ],
 "metadata": {
  "kernelspec": {
   "display_name": "Python 3",
   "language": "python",
   "name": "python3"
  },
  "language_info": {
   "codemirror_mode": {
    "name": "ipython",
    "version": 3
   },
   "file_extension": ".py",
   "mimetype": "text/x-python",
   "name": "python",
   "nbconvert_exporter": "python",
   "pygments_lexer": "ipython3",
   "version": "3.8.3"
  }
 },
 "nbformat": 4,
 "nbformat_minor": 4
}
