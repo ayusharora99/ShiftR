{
 "cells": [
  {
   "cell_type": "code",
   "execution_count": 1,
   "metadata": {},
   "outputs": [],
   "source": [
    "import pandas as pd\n",
    "from sklearn import preprocessing\n",
    "from sklearn.linear_model import LogisticRegression\n",
    "import math\n",
    "import numpy as np"
   ]
  },
  {
   "cell_type": "code",
   "execution_count": 2,
   "metadata": {},
   "outputs": [],
   "source": [
    "traditional_positions = pd.read_csv('traditional_field.csv')\n",
    "traditional_positions = traditional_positions.drop(columns = ['Unnamed: 0'])\n",
    "shifted_positions = pd.read_csv('custom_cluster_means.csv')\n",
    "shifted_positions = shifted_positions.drop(columns = ['Unnamed: 0'])"
   ]
  },
  {
   "cell_type": "code",
   "execution_count": 3,
   "metadata": {},
   "outputs": [
    {
     "data": {
      "text/html": [
       "<div>\n",
       "<style scoped>\n",
       "    .dataframe tbody tr th:only-of-type {\n",
       "        vertical-align: middle;\n",
       "    }\n",
       "\n",
       "    .dataframe tbody tr th {\n",
       "        vertical-align: top;\n",
       "    }\n",
       "\n",
       "    .dataframe thead th {\n",
       "        text-align: right;\n",
       "    }\n",
       "</style>\n",
       "<table border=\"1\" class=\"dataframe\">\n",
       "  <thead>\n",
       "    <tr style=\"text-align: right;\">\n",
       "      <th></th>\n",
       "      <th>distance</th>\n",
       "      <th>direction</th>\n",
       "    </tr>\n",
       "  </thead>\n",
       "  <tbody>\n",
       "    <tr>\n",
       "      <th>0</th>\n",
       "      <td>110</td>\n",
       "      <td>34</td>\n",
       "    </tr>\n",
       "    <tr>\n",
       "      <th>1</th>\n",
       "      <td>150</td>\n",
       "      <td>13</td>\n",
       "    </tr>\n",
       "    <tr>\n",
       "      <th>2</th>\n",
       "      <td>116</td>\n",
       "      <td>-30</td>\n",
       "    </tr>\n",
       "    <tr>\n",
       "      <th>3</th>\n",
       "      <td>146</td>\n",
       "      <td>-12</td>\n",
       "    </tr>\n",
       "    <tr>\n",
       "      <th>4</th>\n",
       "      <td>297</td>\n",
       "      <td>-27</td>\n",
       "    </tr>\n",
       "    <tr>\n",
       "      <th>5</th>\n",
       "      <td>321</td>\n",
       "      <td>1</td>\n",
       "    </tr>\n",
       "    <tr>\n",
       "      <th>6</th>\n",
       "      <td>295</td>\n",
       "      <td>27</td>\n",
       "    </tr>\n",
       "  </tbody>\n",
       "</table>\n",
       "</div>"
      ],
      "text/plain": [
       "   distance  direction\n",
       "0       110         34\n",
       "1       150         13\n",
       "2       116        -30\n",
       "3       146        -12\n",
       "4       297        -27\n",
       "5       321          1\n",
       "6       295         27"
      ]
     },
     "execution_count": 3,
     "metadata": {},
     "output_type": "execute_result"
    }
   ],
   "source": [
    "traditional_positions"
   ]
  },
  {
   "cell_type": "code",
   "execution_count": 4,
   "metadata": {},
   "outputs": [],
   "source": [
    "shifted_positions = shifted_positions.sort_values(by=['direction'],ascending = True)"
   ]
  },
  {
   "cell_type": "code",
   "execution_count": 5,
   "metadata": {},
   "outputs": [
    {
     "data": {
      "text/html": [
       "<div>\n",
       "<style scoped>\n",
       "    .dataframe tbody tr th:only-of-type {\n",
       "        vertical-align: middle;\n",
       "    }\n",
       "\n",
       "    .dataframe tbody tr th {\n",
       "        vertical-align: top;\n",
       "    }\n",
       "\n",
       "    .dataframe thead th {\n",
       "        text-align: right;\n",
       "    }\n",
       "</style>\n",
       "<table border=\"1\" class=\"dataframe\">\n",
       "  <thead>\n",
       "    <tr style=\"text-align: right;\">\n",
       "      <th></th>\n",
       "      <th>custom_cluster</th>\n",
       "      <th>distance</th>\n",
       "      <th>direction</th>\n",
       "    </tr>\n",
       "  </thead>\n",
       "  <tbody>\n",
       "    <tr>\n",
       "      <th>3</th>\n",
       "      <td>3</td>\n",
       "      <td>120.004458</td>\n",
       "      <td>-31.186638</td>\n",
       "    </tr>\n",
       "    <tr>\n",
       "      <th>5</th>\n",
       "      <td>5</td>\n",
       "      <td>32.167263</td>\n",
       "      <td>-23.984942</td>\n",
       "    </tr>\n",
       "    <tr>\n",
       "      <th>2</th>\n",
       "      <td>2</td>\n",
       "      <td>66.118825</td>\n",
       "      <td>-8.921323</td>\n",
       "    </tr>\n",
       "    <tr>\n",
       "      <th>1</th>\n",
       "      <td>1</td>\n",
       "      <td>71.391200</td>\n",
       "      <td>2.889623</td>\n",
       "    </tr>\n",
       "    <tr>\n",
       "      <th>0</th>\n",
       "      <td>0</td>\n",
       "      <td>336.471760</td>\n",
       "      <td>7.340606</td>\n",
       "    </tr>\n",
       "    <tr>\n",
       "      <th>4</th>\n",
       "      <td>4</td>\n",
       "      <td>188.542687</td>\n",
       "      <td>21.355103</td>\n",
       "    </tr>\n",
       "    <tr>\n",
       "      <th>6</th>\n",
       "      <td>6</td>\n",
       "      <td>40.846349</td>\n",
       "      <td>33.983252</td>\n",
       "    </tr>\n",
       "  </tbody>\n",
       "</table>\n",
       "</div>"
      ],
      "text/plain": [
       "   custom_cluster    distance  direction\n",
       "3               3  120.004458 -31.186638\n",
       "5               5   32.167263 -23.984942\n",
       "2               2   66.118825  -8.921323\n",
       "1               1   71.391200   2.889623\n",
       "0               0  336.471760   7.340606\n",
       "4               4  188.542687  21.355103\n",
       "6               6   40.846349  33.983252"
      ]
     },
     "execution_count": 5,
     "metadata": {},
     "output_type": "execute_result"
    }
   ],
   "source": [
    "shifted_positions"
   ]
  },
  {
   "cell_type": "code",
   "execution_count": 6,
   "metadata": {},
   "outputs": [],
   "source": [
    "def distance(p0, p1):\n",
    "    return math.sqrt((p0[0] - p1[0])**2 + (p0[1] - p1[1])**2)"
   ]
  },
  {
   "cell_type": "code",
   "execution_count": 7,
   "metadata": {},
   "outputs": [
    {
     "data": {
      "text/plain": [
       "{3.0: array([120.00445774, -31.18663768]),\n",
       " 5.0: array([ 32.16726298, -23.98494176]),\n",
       " 2.0: array([66.11882483, -8.92132258]),\n",
       " 1.0: array([71.39120048,  2.88962268]),\n",
       " 0.0: array([336.47176029,   7.34060567]),\n",
       " 4.0: array([188.54268686,  21.35510301]),\n",
       " 6.0: array([40.84634949, 33.98325195])}"
      ]
     },
     "execution_count": 7,
     "metadata": {},
     "output_type": "execute_result"
    }
   ],
   "source": [
    "shifted_positions_array = np.array(shifted_positions)\n",
    "shifted_positions_list = list(shifted_positions_array)\n",
    "shifted_positions_dict = {}\n",
    "for position in shifted_positions_list:\n",
    "    shifted_positions_dict[position[0]] = position[1:3]\n",
    "shifted_positions_dict"
   ]
  },
  {
   "cell_type": "code",
   "execution_count": 8,
   "metadata": {},
   "outputs": [
    {
     "name": "stdout",
     "output_type": "stream",
     "text": [
      "checking 3.0: 120.00445774333332-31.18663768333333\n",
      "checking 5.0: 32.16726298-23.98494176\n",
      "checking 2.0: 66.11882483333333-8.921322582333334\n",
      "checking 1.0: 71.39120047752.8896226764999997\n",
      "checking 0.0: 336.47176028571437.340605667285716\n",
      "checking 4.0: 188.542686860000121.355103012\n",
      "checking 6.0: 40.84634949433.983251947499994\n"
     ]
    }
   ],
   "source": [
    "cluster_to_position = {}\n",
    "player_options = [3,4,5,6,7,8,9]\n",
    "for cluster,coordinates in shifted_positions_dict.items():\n",
    "    print(\"checking \" +  str(cluster) + ': ' + str(coordinates[0]) + str(coordinates[1]))\n",
    "    if(((coordinates[0]<= 180) and (coordinates[0] >= 0)) and ((coordinates[1] <= 45) and (coordinates[1] >= 25))) and 3 in player_options:\n",
    "        cluster_to_position[cluster] = 3\n",
    "        player_options.remove(3)\n",
    "    elif(((coordinates[0]<= 180) and (coordinates[0] >= 0)) and ((coordinates[1] <= 20) and (coordinates[1] >= 0))) and 4 in player_options:\n",
    "        cluster_to_position[cluster] = 4\n",
    "        player_options.remove(4)\n",
    "    elif (((coordinates[0]<= 180) and (coordinates[0] >= 0)) and (coordinates[1] <= -22.5) and (coordinates[1]>= -45) and 5 in player_options):\n",
    "        cluster_to_position[cluster] = 5\n",
    "        player_options.remove(5)\n",
    "    elif (((coordinates[0]<= 180) and (coordinates[0] >= 0)) and (coordinates[1] <= 0) and (coordinates[1]>= -22.5) and 6 in player_options):\n",
    "        cluster_to_position[cluster] = 6\n",
    "        player_options.remove(6)\n",
    "    elif (((coordinates[0]<= 309) and (coordinates[0] >= 210)) and (coordinates[1] <= -15) and (coordinates[1]>= -45) and 7 in player_options):\n",
    "        cluster_to_position[cluster] = 7\n",
    "        player_options.remove(7)\n",
    "    elif (((coordinates[0]<= 347) and (coordinates[0]>= 225)) and (coordinates[1] <= 20) and (coordinates[1]>= -20) and 8 in player_options):\n",
    "        cluster_to_position[cluster] = 8\n",
    "        player_options.remove(8)\n",
    "    elif (((coordinates[0]<= 309) and (coordinates[0] >= 210)) and (coordinates[1] <= 45) and (coordinates[1]>= 20) and 9 in player_options):\n",
    "        cluster_to_position[cluster] = 9\n",
    "        player_options.remove(9)"
   ]
  },
  {
   "cell_type": "code",
   "execution_count": 9,
   "metadata": {},
   "outputs": [
    {
     "data": {
      "text/plain": [
       "{3.0: 5, 2.0: 6, 1.0: 4, 0.0: 8, 6.0: 3}"
      ]
     },
     "execution_count": 9,
     "metadata": {},
     "output_type": "execute_result"
    }
   ],
   "source": [
    "cluster_to_position"
   ]
  },
  {
   "cell_type": "code",
   "execution_count": 10,
   "metadata": {},
   "outputs": [],
   "source": [
    "for cluster,position in cluster_to_position.items():\n",
    "    shifted_positions_dict.pop(cluster)"
   ]
  },
  {
   "cell_type": "code",
   "execution_count": 11,
   "metadata": {},
   "outputs": [
    {
     "data": {
      "text/plain": [
       "[7, 9]"
      ]
     },
     "execution_count": 11,
     "metadata": {},
     "output_type": "execute_result"
    }
   ],
   "source": [
    "player_options"
   ]
  },
  {
   "cell_type": "code",
   "execution_count": 12,
   "metadata": {},
   "outputs": [
    {
     "data": {
      "text/plain": [
       "{5.0: array([ 32.16726298, -23.98494176]),\n",
       " 4.0: array([188.54268686,  21.35510301])}"
      ]
     },
     "execution_count": 12,
     "metadata": {},
     "output_type": "execute_result"
    }
   ],
   "source": [
    "shifted_positions_dict"
   ]
  },
  {
   "cell_type": "code",
   "execution_count": 13,
   "metadata": {},
   "outputs": [
    {
     "name": "stdout",
     "output_type": "stream",
     "text": [
      "Checking 5.0\n",
      "7 is in options\n",
      "7 has been used\n",
      "popping 7\n",
      "options left: [9]\n",
      "Checking 4.0\n",
      "9 is in options\n",
      "9 has been used\n",
      "popping 9\n",
      "options left: []\n"
     ]
    }
   ],
   "source": [
    "traditional_positions_array = np.array(traditional_positions)\n",
    "for cluster,coodinates in shifted_positions_dict.items():\n",
    "    print(\"Checking \" + str(cluster))\n",
    "    dist = 99999\n",
    "    for j,tradtional_cluster in enumerate(traditional_positions_array):\n",
    "        new_distance = distance(coodinates[0:2],tradtional_cluster)\n",
    "        if new_distance < dist and j+3 in player_options:\n",
    "            print(str(j+3) + \" is in options\")\n",
    "            dist = new_distance\n",
    "            cluster_to_position[cluster] = j+3\n",
    "    print(str(cluster_to_position[cluster]) +' has been used')\n",
    "    print(\"popping \" + str(cluster_to_position[cluster]))\n",
    "    player_options.remove(int(cluster_to_position[cluster]))\n",
    "    print(\"options left: \" + str(player_options))"
   ]
  },
  {
   "cell_type": "code",
   "execution_count": 14,
   "metadata": {},
   "outputs": [],
   "source": [
    "clusters = pd.read_csv('clusters.csv')\n",
    "college_trad_none = pd.read_csv('college_trad_none.csv')\n",
    "college_trad_1B = pd.read_csv('college_trad_1B.csv')\n",
    "college_trad_2B = pd.read_csv('college_trad_2B.csv')\n",
    "college_trad_3B = pd.read_csv('college_trad_3B.csv') \n",
    "college_trad_SS = pd.read_csv('college_trad_SS.csv') \n",
    "college_trad_LF = pd.read_csv('college_trad_LF.csv') \n",
    "college_trad_CF = pd.read_csv('college_trad_CF.csv') \n",
    "college_trad_RF = pd.read_csv('college_trad_RF.csv') "
   ]
  },
  {
   "cell_type": "code",
   "execution_count": 15,
   "metadata": {},
   "outputs": [],
   "source": [
    "clusters = clusters.drop(columns = ['Unnamed: 0'])"
   ]
  },
  {
   "cell_type": "code",
   "execution_count": 16,
   "metadata": {},
   "outputs": [
    {
     "data": {
      "text/plain": [
       "Unnamed: 0.1                 0.000000\n",
       "batter_name                  0.000000\n",
       "pitcher_handedness           0.000000\n",
       "batter_handedness            0.000000\n",
       "inning                       0.000000\n",
       "outs                         0.000000\n",
       "strikes                      0.000000\n",
       "velocity                     0.000000\n",
       "vertical_release_angle       0.000000\n",
       "horizontal_release_angle     0.000000\n",
       "spin_rate                    0.000000\n",
       "release_height               0.000000\n",
       "extension                    0.000000\n",
       "vertical_break               0.000000\n",
       "induced_vertical_break       0.000000\n",
       "horizontal_break             0.000000\n",
       "height_at_plate              0.000000\n",
       "side_at_plate                0.000000\n",
       "zone_speed                   0.000000\n",
       "vertical_approach_angle      0.000000\n",
       "horz_approach_angle          0.000000\n",
       "zone_time                    0.000000\n",
       "exit_velocity                0.000000\n",
       "launch_angle                 0.000000\n",
       "direction                    0.000000\n",
       "hit_spin_rate               25.925926\n",
       "position_at_110x            48.148148\n",
       "position_at_110y            48.148148\n",
       "position_at_110z            48.148148\n",
       "distance                     0.000000\n",
       "last_tracked_distance        0.000000\n",
       "bearing                      0.000000\n",
       "hang_time                    0.000000\n",
       "pfxx                         0.000000\n",
       "pfxz                         0.000000\n",
       "vx0                          0.000000\n",
       "vy0                          0.000000\n",
       "vz0                          0.000000\n",
       "ax                           0.000000\n",
       "ay                           0.000000\n",
       "play_result                  0.000000\n",
       "traditional_cluster          0.000000\n",
       "scikit_cluster               0.000000\n",
       "custom_cluster               0.000000\n",
       "dtype: float64"
      ]
     },
     "execution_count": 16,
     "metadata": {},
     "output_type": "execute_result"
    }
   ],
   "source": [
    "data_missing = clusters.isna()\n",
    "data_num_missing = data_missing.sum()\n",
    "data_num_missing/ len(clusters) * 100"
   ]
  },
  {
   "cell_type": "code",
   "execution_count": 17,
   "metadata": {},
   "outputs": [
    {
     "data": {
      "text/html": [
       "<div>\n",
       "<style scoped>\n",
       "    .dataframe tbody tr th:only-of-type {\n",
       "        vertical-align: middle;\n",
       "    }\n",
       "\n",
       "    .dataframe tbody tr th {\n",
       "        vertical-align: top;\n",
       "    }\n",
       "\n",
       "    .dataframe thead th {\n",
       "        text-align: right;\n",
       "    }\n",
       "</style>\n",
       "<table border=\"1\" class=\"dataframe\">\n",
       "  <thead>\n",
       "    <tr style=\"text-align: right;\">\n",
       "      <th></th>\n",
       "      <th>Unnamed: 0.1</th>\n",
       "      <th>batter_name</th>\n",
       "      <th>pitcher_handedness</th>\n",
       "      <th>batter_handedness</th>\n",
       "      <th>inning</th>\n",
       "      <th>outs</th>\n",
       "      <th>strikes</th>\n",
       "      <th>velocity</th>\n",
       "      <th>vertical_release_angle</th>\n",
       "      <th>horizontal_release_angle</th>\n",
       "      <th>...</th>\n",
       "      <th>pfxz</th>\n",
       "      <th>vx0</th>\n",
       "      <th>vy0</th>\n",
       "      <th>vz0</th>\n",
       "      <th>ax</th>\n",
       "      <th>ay</th>\n",
       "      <th>play_result</th>\n",
       "      <th>traditional_cluster</th>\n",
       "      <th>scikit_cluster</th>\n",
       "      <th>custom_cluster</th>\n",
       "    </tr>\n",
       "  </thead>\n",
       "  <tbody>\n",
       "    <tr>\n",
       "      <th>0</th>\n",
       "      <td>404</td>\n",
       "      <td>Kjerstad, Heston</td>\n",
       "      <td>1</td>\n",
       "      <td>1</td>\n",
       "      <td>2.0</td>\n",
       "      <td>1.0</td>\n",
       "      <td>0.0</td>\n",
       "      <td>87.954382</td>\n",
       "      <td>-2.761464</td>\n",
       "      <td>-1.827707</td>\n",
       "      <td>...</td>\n",
       "      <td>11.831550</td>\n",
       "      <td>3.858904</td>\n",
       "      <td>-127.821833</td>\n",
       "      <td>-6.686290</td>\n",
       "      <td>-6.669145</td>\n",
       "      <td>25.611659</td>\n",
       "      <td>0</td>\n",
       "      <td>0.0</td>\n",
       "      <td>4</td>\n",
       "      <td>0.0</td>\n",
       "    </tr>\n",
       "    <tr>\n",
       "      <th>1</th>\n",
       "      <td>421</td>\n",
       "      <td>Kjerstad, Heston</td>\n",
       "      <td>1</td>\n",
       "      <td>1</td>\n",
       "      <td>5.0</td>\n",
       "      <td>1.0</td>\n",
       "      <td>1.0</td>\n",
       "      <td>80.500285</td>\n",
       "      <td>0.302952</td>\n",
       "      <td>-1.683694</td>\n",
       "      <td>...</td>\n",
       "      <td>5.736682</td>\n",
       "      <td>3.323834</td>\n",
       "      <td>-117.159406</td>\n",
       "      <td>-0.416743</td>\n",
       "      <td>-3.361498</td>\n",
       "      <td>19.803671</td>\n",
       "      <td>1</td>\n",
       "      <td>4.0</td>\n",
       "      <td>3</td>\n",
       "      <td>1.0</td>\n",
       "    </tr>\n",
       "    <tr>\n",
       "      <th>2</th>\n",
       "      <td>444</td>\n",
       "      <td>Kjerstad, Heston</td>\n",
       "      <td>0</td>\n",
       "      <td>0</td>\n",
       "      <td>6.0</td>\n",
       "      <td>0.0</td>\n",
       "      <td>2.0</td>\n",
       "      <td>86.031363</td>\n",
       "      <td>-1.403993</td>\n",
       "      <td>3.245062</td>\n",
       "      <td>...</td>\n",
       "      <td>7.101069</td>\n",
       "      <td>-6.891405</td>\n",
       "      <td>-125.161931</td>\n",
       "      <td>-3.754086</td>\n",
       "      <td>7.847180</td>\n",
       "      <td>24.489969</td>\n",
       "      <td>0</td>\n",
       "      <td>6.0</td>\n",
       "      <td>3</td>\n",
       "      <td>2.0</td>\n",
       "    </tr>\n",
       "    <tr>\n",
       "      <th>3</th>\n",
       "      <td>750</td>\n",
       "      <td>Kjerstad, Heston</td>\n",
       "      <td>1</td>\n",
       "      <td>1</td>\n",
       "      <td>6.0</td>\n",
       "      <td>1.0</td>\n",
       "      <td>0.0</td>\n",
       "      <td>81.071524</td>\n",
       "      <td>-0.827871</td>\n",
       "      <td>-5.232066</td>\n",
       "      <td>...</td>\n",
       "      <td>6.681442</td>\n",
       "      <td>10.196046</td>\n",
       "      <td>-117.349940</td>\n",
       "      <td>-2.748185</td>\n",
       "      <td>-14.357880</td>\n",
       "      <td>23.283572</td>\n",
       "      <td>1</td>\n",
       "      <td>5.0</td>\n",
       "      <td>0</td>\n",
       "      <td>3.0</td>\n",
       "    </tr>\n",
       "    <tr>\n",
       "      <th>4</th>\n",
       "      <td>863</td>\n",
       "      <td>Kjerstad, Heston</td>\n",
       "      <td>0</td>\n",
       "      <td>0</td>\n",
       "      <td>4.0</td>\n",
       "      <td>1.0</td>\n",
       "      <td>1.0</td>\n",
       "      <td>73.189360</td>\n",
       "      <td>1.126109</td>\n",
       "      <td>0.061304</td>\n",
       "      <td>...</td>\n",
       "      <td>-5.587086</td>\n",
       "      <td>-0.385421</td>\n",
       "      <td>-106.412296</td>\n",
       "      <td>0.144903</td>\n",
       "      <td>-5.315252</td>\n",
       "      <td>17.900968</td>\n",
       "      <td>1</td>\n",
       "      <td>9.0</td>\n",
       "      <td>1</td>\n",
       "      <td>4.0</td>\n",
       "    </tr>\n",
       "  </tbody>\n",
       "</table>\n",
       "<p>5 rows × 44 columns</p>\n",
       "</div>"
      ],
      "text/plain": [
       "   Unnamed: 0.1       batter_name  pitcher_handedness  batter_handedness  \\\n",
       "0           404  Kjerstad, Heston                   1                  1   \n",
       "1           421  Kjerstad, Heston                   1                  1   \n",
       "2           444  Kjerstad, Heston                   0                  0   \n",
       "3           750  Kjerstad, Heston                   1                  1   \n",
       "4           863  Kjerstad, Heston                   0                  0   \n",
       "\n",
       "   inning  outs  strikes   velocity  vertical_release_angle  \\\n",
       "0     2.0   1.0      0.0  87.954382               -2.761464   \n",
       "1     5.0   1.0      1.0  80.500285                0.302952   \n",
       "2     6.0   0.0      2.0  86.031363               -1.403993   \n",
       "3     6.0   1.0      0.0  81.071524               -0.827871   \n",
       "4     4.0   1.0      1.0  73.189360                1.126109   \n",
       "\n",
       "   horizontal_release_angle  ...       pfxz        vx0         vy0       vz0  \\\n",
       "0                 -1.827707  ...  11.831550   3.858904 -127.821833 -6.686290   \n",
       "1                 -1.683694  ...   5.736682   3.323834 -117.159406 -0.416743   \n",
       "2                  3.245062  ...   7.101069  -6.891405 -125.161931 -3.754086   \n",
       "3                 -5.232066  ...   6.681442  10.196046 -117.349940 -2.748185   \n",
       "4                  0.061304  ...  -5.587086  -0.385421 -106.412296  0.144903   \n",
       "\n",
       "          ax         ay  play_result  traditional_cluster  scikit_cluster  \\\n",
       "0  -6.669145  25.611659            0                  0.0               4   \n",
       "1  -3.361498  19.803671            1                  4.0               3   \n",
       "2   7.847180  24.489969            0                  6.0               3   \n",
       "3 -14.357880  23.283572            1                  5.0               0   \n",
       "4  -5.315252  17.900968            1                  9.0               1   \n",
       "\n",
       "   custom_cluster  \n",
       "0             0.0  \n",
       "1             1.0  \n",
       "2             2.0  \n",
       "3             3.0  \n",
       "4             4.0  \n",
       "\n",
       "[5 rows x 44 columns]"
      ]
     },
     "execution_count": 17,
     "metadata": {},
     "output_type": "execute_result"
    }
   ],
   "source": [
    "clusters.head()"
   ]
  },
  {
   "cell_type": "code",
   "execution_count": 18,
   "metadata": {},
   "outputs": [
    {
     "data": {
      "text/plain": [
       "4.0    22.222222\n",
       "0.0    22.222222\n",
       "8.0    18.518519\n",
       "3.0    14.814815\n",
       "6.0    11.111111\n",
       "5.0     7.407407\n",
       "9.0     3.703704\n",
       "Name: traditional_cluster, dtype: float64"
      ]
     },
     "execution_count": 18,
     "metadata": {},
     "output_type": "execute_result"
    }
   ],
   "source": [
    "clusters['traditional_cluster'].value_counts(normalize=True)*100"
   ]
  },
  {
   "cell_type": "code",
   "execution_count": 19,
   "metadata": {},
   "outputs": [],
   "source": [
    "#clusters['scikit_cluster'].value_counts(normalize=True)*100"
   ]
  },
  {
   "cell_type": "code",
   "execution_count": 20,
   "metadata": {},
   "outputs": [
    {
     "data": {
      "text/plain": [
       "0.0    25.925926\n",
       "4.0    18.518519\n",
       "6.0    14.814815\n",
       "1.0    14.814815\n",
       "3.0    11.111111\n",
       "2.0    11.111111\n",
       "5.0     3.703704\n",
       "Name: custom_cluster, dtype: float64"
      ]
     },
     "execution_count": 20,
     "metadata": {},
     "output_type": "execute_result"
    }
   ],
   "source": [
    "clusters['custom_cluster'].value_counts(normalize=True)*100"
   ]
  },
  {
   "cell_type": "code",
   "execution_count": 21,
   "metadata": {},
   "outputs": [],
   "source": [
    "college_trad_none_lr = college_trad_none[['exit_velocity','hang_time','play_result']]\n",
    "college_trad_1B_lr = college_trad_1B[['exit_velocity','hang_time','play_result']]\n",
    "college_trad_2B_lr = college_trad_2B[['exit_velocity','hang_time','play_result']]\n",
    "college_trad_3B_lr = college_trad_3B[['exit_velocity','hang_time','play_result']]\n",
    "college_trad_SS_lr = college_trad_SS[['exit_velocity','hang_time','play_result']]\n",
    "college_trad_LF_lr = college_trad_LF[['exit_velocity','hang_time','play_result']]\n",
    "college_trad_CF_lr = college_trad_CF[['exit_velocity','hang_time','play_result']]\n",
    "college_trad_RF_lr = college_trad_RF[['exit_velocity','hang_time','play_result']]"
   ]
  },
  {
   "cell_type": "code",
   "execution_count": 22,
   "metadata": {},
   "outputs": [],
   "source": [
    "traditional_none = clusters.loc[clusters['traditional_cluster'] == 0]\n",
    "traditional_1B = clusters.loc[clusters['traditional_cluster'] == 3]\n",
    "traditional_2B = clusters.loc[clusters['traditional_cluster'] == 4]\n",
    "traditional_3B = clusters.loc[clusters['traditional_cluster'] == 5]\n",
    "traditional_SS = clusters.loc[clusters['traditional_cluster'] == 6]\n",
    "traditional_LF = clusters.loc[clusters['traditional_cluster'] == 7]\n",
    "traditional_CF = clusters.loc[clusters['traditional_cluster'] == 8]\n",
    "traditional_RF = clusters.loc[clusters['traditional_cluster'] == 9]"
   ]
  },
  {
   "cell_type": "code",
   "execution_count": 23,
   "metadata": {},
   "outputs": [],
   "source": [
    "traditional_none_lr = traditional_none[['exit_velocity','hang_time','play_result']]\n",
    "traditional_1B_lr = traditional_1B[['exit_velocity','hang_time','play_result']]\n",
    "traditional_2B_lr = traditional_2B[['exit_velocity','hang_time','play_result']]\n",
    "traditional_3B_lr = traditional_3B[['exit_velocity','hang_time','play_result']]\n",
    "traditional_SS_lr = traditional_SS[['exit_velocity','hang_time','play_result']]\n",
    "traditional_LF_lr = traditional_LF[['exit_velocity','hang_time','play_result']]\n",
    "traditional_CF_lr = traditional_CF[['exit_velocity','hang_time','play_result']]\n",
    "traditional_RF_lr = traditional_RF[['exit_velocity','hang_time','play_result']]"
   ]
  },
  {
   "cell_type": "code",
   "execution_count": 24,
   "metadata": {},
   "outputs": [
    {
     "data": {
      "text/plain": [
       "{5: 3.0, 6: 2.0, 4: 1.0, 8: 0.0, 3: 6.0, 7: 5.0, 9: 4.0}"
      ]
     },
     "execution_count": 24,
     "metadata": {},
     "output_type": "execute_result"
    }
   ],
   "source": [
    "cluster_to_position = dict([(value, key) for key, value in cluster_to_position.items()]) \n",
    "cluster_to_position"
   ]
  },
  {
   "cell_type": "code",
   "execution_count": 25,
   "metadata": {},
   "outputs": [],
   "source": [
    "shift_1B = clusters.loc[clusters['custom_cluster'] == cluster_to_position[3]]\n",
    "shift_2B = clusters.loc[clusters['custom_cluster'] == cluster_to_position[4]]\n",
    "shift_3B = clusters.loc[clusters['custom_cluster'] == cluster_to_position[5]]\n",
    "shift_SS = clusters.loc[clusters['custom_cluster'] == cluster_to_position[6]]\n",
    "shift_LF = clusters.loc[clusters['custom_cluster'] == cluster_to_position[7]]\n",
    "shift_CF = clusters.loc[clusters['custom_cluster'] == cluster_to_position[8]]\n",
    "shift_RF = clusters.loc[clusters['custom_cluster'] == cluster_to_position[9]]"
   ]
  },
  {
   "cell_type": "code",
   "execution_count": 26,
   "metadata": {},
   "outputs": [],
   "source": [
    "shift_1B_lr = shift_1B[['exit_velocity','hang_time','play_result']]\n",
    "shift_2B_lr = shift_2B[['exit_velocity','hang_time','play_result']]\n",
    "shift_3B_lr = shift_3B[['exit_velocity','hang_time','play_result']]\n",
    "shift_SS_lr = shift_SS[['exit_velocity','hang_time','play_result']]\n",
    "shift_LF_lr = shift_LF[['exit_velocity','hang_time','play_result']]\n",
    "shift_CF_lr = shift_CF[['exit_velocity','hang_time','play_result']]\n",
    "shift_RF_lr = shift_RF[['exit_velocity','hang_time','play_result']]"
   ]
  },
  {
   "cell_type": "code",
   "execution_count": 27,
   "metadata": {},
   "outputs": [
    {
     "data": {
      "text/html": [
       "<div>\n",
       "<style scoped>\n",
       "    .dataframe tbody tr th:only-of-type {\n",
       "        vertical-align: middle;\n",
       "    }\n",
       "\n",
       "    .dataframe tbody tr th {\n",
       "        vertical-align: top;\n",
       "    }\n",
       "\n",
       "    .dataframe thead th {\n",
       "        text-align: right;\n",
       "    }\n",
       "</style>\n",
       "<table border=\"1\" class=\"dataframe\">\n",
       "  <thead>\n",
       "    <tr style=\"text-align: right;\">\n",
       "      <th></th>\n",
       "      <th>exit_velocity</th>\n",
       "      <th>hang_time</th>\n",
       "      <th>play_result</th>\n",
       "    </tr>\n",
       "  </thead>\n",
       "  <tbody>\n",
       "    <tr>\n",
       "      <th>0</th>\n",
       "      <td>94.181973</td>\n",
       "      <td>4.077540</td>\n",
       "      <td>1</td>\n",
       "    </tr>\n",
       "    <tr>\n",
       "      <th>1</th>\n",
       "      <td>64.663460</td>\n",
       "      <td>5.007125</td>\n",
       "      <td>0</td>\n",
       "    </tr>\n",
       "    <tr>\n",
       "      <th>2</th>\n",
       "      <td>65.859338</td>\n",
       "      <td>0.256734</td>\n",
       "      <td>0</td>\n",
       "    </tr>\n",
       "    <tr>\n",
       "      <th>3</th>\n",
       "      <td>71.959298</td>\n",
       "      <td>4.831517</td>\n",
       "      <td>0</td>\n",
       "    </tr>\n",
       "    <tr>\n",
       "      <th>4</th>\n",
       "      <td>104.816863</td>\n",
       "      <td>4.055240</td>\n",
       "      <td>0</td>\n",
       "    </tr>\n",
       "  </tbody>\n",
       "</table>\n",
       "</div>"
      ],
      "text/plain": [
       "   exit_velocity  hang_time  play_result\n",
       "0      94.181973   4.077540            1\n",
       "1      64.663460   5.007125            0\n",
       "2      65.859338   0.256734            0\n",
       "3      71.959298   4.831517            0\n",
       "4     104.816863   4.055240            0"
      ]
     },
     "execution_count": 27,
     "metadata": {},
     "output_type": "execute_result"
    }
   ],
   "source": [
    "college_trad_none_lr.head()"
   ]
  },
  {
   "cell_type": "code",
   "execution_count": 28,
   "metadata": {},
   "outputs": [],
   "source": [
    "total_bip = []\n",
    "trad_outs = []"
   ]
  },
  {
   "cell_type": "code",
   "execution_count": 29,
   "metadata": {},
   "outputs": [
    {
     "name": "stdout",
     "output_type": "stream",
     "text": [
      "BIP: 12, Traditional Outs: 6,  Expected Outs: 6.513786977464614,  Traditional Out Probability: 54.28155814553845%\n"
     ]
    }
   ],
   "source": [
    "# No mans land Traditional\n",
    "bip = len(traditional_none_lr)\n",
    "X = preprocessing.scale(college_trad_none_lr[['exit_velocity','hang_time']])\n",
    "y = college_trad_none_lr['play_result']\n",
    "clf_none = LogisticRegression(random_state=42).fit(X, y)\n",
    "if (bip):\n",
    "    batter_X = preprocessing.scale(traditional_none_lr[['exit_velocity','hang_time']])\n",
    "    traditional_none = clf_none.predict_proba(batter_X)\n",
    "    out_probs = []\n",
    "    for probs in traditional_none:\n",
    "        out_probs.append(probs[0])\n",
    "    traditional_none_lr['traditional_out_prob'] = out_probs\n",
    "    expected_outs = sum(traditional_none_lr['traditional_out_prob'])\n",
    "    trad_none_outs = bip - sum(traditional_none_lr['play_result'])\n",
    "    expected_out_prob = expected_outs / bip\n",
    "\n",
    "    total_bip.append(bip)\n",
    "    trad_outs.append(trad_none_outs)\n",
    "\n",
    "    print(\"BIP: \" + str(bip) + ', '+ 'Traditional Outs: ' + str(trad_none_outs) + ', ' +\" Expected Outs: \" + str(expected_outs) + ', ' + \" Traditional Out Probability: \" + str(expected_out_prob*100) + '%')"
   ]
  },
  {
   "cell_type": "code",
   "execution_count": 30,
   "metadata": {},
   "outputs": [],
   "source": [
    "# 1B Traditional\n",
    "bip = len(traditional_1B_lr)\n",
    "X = preprocessing.scale(college_trad_1B_lr[['exit_velocity','hang_time']])\n",
    "y = college_trad_1B_lr['play_result']\n",
    "clf_1B = LogisticRegression(random_state=42).fit(X, y)\n",
    "if (bip):\n",
    "    \n",
    "    batter_X = preprocessing.scale(traditional_1B_lr[['exit_velocity','hang_time']])\n",
    "    traditional_1B = clf_1B.predict_proba(batter_X)\n",
    "    out_probs = []\n",
    "    for probs in traditional_1B:\n",
    "        out_probs.append(probs[0])\n",
    "    traditional_1B_lr['traditional_out_prob'] = out_probs\n",
    "    expected_outs = sum(traditional_1B_lr['traditional_out_prob'])\n",
    "    trad_1B_outs = bip - sum(traditional_1B_lr['play_result'])\n",
    "    expected_out_prob = expected_outs / bip\n",
    "    trad_outs.append(trad_1B_outs)\n",
    "\n",
    "total_bip.append(bip)\n",
    "\n",
    "\n",
    "#print(\"BIP: \" + str(bip) + ', '+ 'Traditional Outs: ' + str(trad_1B_outs) + ', ' +\" Expected Outs: \" + str(expected_outs) + ', ' + \" Traditional Out Probability: \" + str(expected_out_prob*100) + '%')"
   ]
  },
  {
   "cell_type": "code",
   "execution_count": 31,
   "metadata": {},
   "outputs": [
    {
     "name": "stdout",
     "output_type": "stream",
     "text": [
      "BIP: 12, Traditional Outs: 8,  Expected Outs: 8.582207002778064,  Traditional Out Probability: 71.51839168981721%\n"
     ]
    }
   ],
   "source": [
    "# 2B Traditional\n",
    "bip = len(traditional_2B_lr)\n",
    "X = preprocessing.scale(college_trad_2B_lr[['exit_velocity','hang_time']])\n",
    "y = college_trad_2B_lr['play_result']\n",
    "clf_2B = LogisticRegression(random_state=42).fit(X, y)\n",
    "if (bip):\n",
    "    batter_X = preprocessing.scale(traditional_2B_lr[['exit_velocity','hang_time']])\n",
    "    traditional_2B = clf_2B.predict_proba(batter_X)\n",
    "    out_probs = []\n",
    "    for probs in traditional_2B:\n",
    "        out_probs.append(probs[0])\n",
    "    traditional_2B_lr['traditional_out_prob'] = out_probs\n",
    "    expected_outs = sum(traditional_2B_lr['traditional_out_prob'])\n",
    "    trad_2B_outs = bip - sum(traditional_2B_lr['play_result'])\n",
    "    expected_out_prob = expected_outs / bip\n",
    "\n",
    "    total_bip.append(bip)\n",
    "    trad_outs.append(trad_2B_outs)\n",
    "\n",
    "    print(\"BIP: \" + str(bip) + ', '+ 'Traditional Outs: ' + str(trad_2B_outs) + ', ' + \" Expected Outs: \" + str(expected_outs) + ', ' + \" Traditional Out Probability: \" + str(expected_out_prob*100) + '%')"
   ]
  },
  {
   "cell_type": "code",
   "execution_count": 32,
   "metadata": {},
   "outputs": [
    {
     "name": "stdout",
     "output_type": "stream",
     "text": [
      "BIP: 4, Traditional Outs: 0,  Expected Outs: 2.3331187159743783,  Traditional Out Probability: 58.32796789935946%\n"
     ]
    }
   ],
   "source": [
    "# 3B Traditional \n",
    "bip = len(traditional_3B_lr)\n",
    "X = preprocessing.scale(college_trad_3B_lr[['exit_velocity','hang_time']])\n",
    "y = college_trad_3B_lr['play_result']\n",
    "clf_3B = LogisticRegression(random_state=42).fit(X, y)\n",
    "if (bip):\n",
    "    batter_X = preprocessing.scale(traditional_3B_lr[['exit_velocity','hang_time']])\n",
    "    traditional_3B = clf_3B.predict_proba(batter_X)\n",
    "    out_probs = []\n",
    "    for probs in traditional_3B:\n",
    "        out_probs.append(probs[0])\n",
    "    traditional_3B_lr['traditional_out_prob'] = out_probs\n",
    "    expected_outs = sum(traditional_3B_lr['traditional_out_prob'])\n",
    "    trad_3B_outs = bip - sum(traditional_3B_lr['play_result'])\n",
    "    expected_out_prob = expected_outs / bip\n",
    "\n",
    "    total_bip.append(bip)\n",
    "    trad_outs.append(trad_3B_outs)\n",
    "\n",
    "    print(\"BIP: \" + str(bip) + ', '+ 'Traditional Outs: ' + str(trad_3B_outs) + ', ' + \" Expected Outs: \" + str(expected_outs) + ', ' + \" Traditional Out Probability: \" + str(expected_out_prob*100) + '%')"
   ]
  },
  {
   "cell_type": "code",
   "execution_count": 33,
   "metadata": {},
   "outputs": [
    {
     "name": "stdout",
     "output_type": "stream",
     "text": [
      "BIP: 6, Traditional Outs: 6,  Expected Outs: 4.009174011573469,  Traditional Out Probability: 66.81956685955782%\n"
     ]
    }
   ],
   "source": [
    "# SS Traditional\n",
    "bip = len(traditional_SS_lr)\n",
    "X = preprocessing.scale(college_trad_SS_lr[['exit_velocity','hang_time']])\n",
    "y = college_trad_SS_lr['play_result']\n",
    "clf_SS = LogisticRegression(random_state=42).fit(X, y)\n",
    "if (bip):\n",
    "    batter_X = preprocessing.scale(traditional_SS_lr[['exit_velocity','hang_time']])\n",
    "    traditional_SS = clf_SS.predict_proba(batter_X)\n",
    "    out_probs = []\n",
    "    for probs in traditional_SS:\n",
    "        out_probs.append(probs[0])\n",
    "    traditional_SS_lr['traditional_out_prob'] = out_probs\n",
    "    expected_outs = sum(traditional_SS_lr['traditional_out_prob'])\n",
    "    trad_SS_outs = bip - sum(traditional_SS_lr['play_result'])\n",
    "    expected_out_prob = expected_outs / bip\n",
    "\n",
    "    total_bip.append(bip)\n",
    "    trad_outs.append(trad_SS_outs)\n",
    "\n",
    "    print(\"BIP: \" + str(bip) + ', '+ 'Traditional Outs: ' + str(trad_SS_outs) + ', ' + \" Expected Outs: \" + str(expected_outs) + ', ' + \" Traditional Out Probability: \" + str(expected_out_prob*100) + '%')"
   ]
  },
  {
   "cell_type": "code",
   "execution_count": 34,
   "metadata": {},
   "outputs": [],
   "source": [
    "# LF Traditional \n",
    "bip = len(traditional_LF_lr)\n",
    "X = preprocessing.scale(college_trad_LF_lr[['exit_velocity','hang_time']])\n",
    "y = college_trad_LF_lr['play_result']\n",
    "clf_LF = LogisticRegression(random_state=42).fit(X, y)\n",
    "if (bip):\n",
    "    batter_X = preprocessing.scale(traditional_LF_lr[['exit_velocity','hang_time']])\n",
    "    traditional_LF = clf_LF.predict_proba(batter_X)\n",
    "    out_probs = []\n",
    "    for probs in traditional_LF:\n",
    "        out_probs.append(probs[0])\n",
    "    traditional_LF_lr['traditional_out_prob'] = out_probs\n",
    "    expected_outs = sum(traditional_LF_lr['traditional_out_prob'])\n",
    "    trad_LF_outs = bip - sum(traditional_LF_lr['play_result'])\n",
    "    expected_out_prob = expected_outs / bip\n",
    "\n",
    "    total_bip.append(bip)\n",
    "    trad_outs.append(trad_LF_outs)\n",
    "\n",
    "    print(\"BIP: \" + str(bip) + ', '+ 'Traditional Outs: ' + str(trad_LF_outs) + ', ' + \" Expected Outs: \" + str(expected_outs) + ', ' + \" Traditional Out Probability: \" + str(expected_out_prob*100) + '%')"
   ]
  },
  {
   "cell_type": "code",
   "execution_count": 35,
   "metadata": {},
   "outputs": [
    {
     "name": "stdout",
     "output_type": "stream",
     "text": [
      "BIP: 10, Traditional Outs: 8,  Expected Outs: 7.063610921762283,  Traditional Out Probability: 70.63610921762283%\n"
     ]
    }
   ],
   "source": [
    "# CF Traditional\n",
    "bip = len(traditional_CF_lr)\n",
    "X = preprocessing.scale(college_trad_CF_lr[['exit_velocity','hang_time']])\n",
    "y = college_trad_CF_lr['play_result']\n",
    "clf_CF = LogisticRegression(random_state=42).fit(X, y)\n",
    "if (bip):\n",
    "    batter_X = preprocessing.scale(traditional_CF_lr[['exit_velocity','hang_time']])\n",
    "    traditional_CF = clf_CF.predict_proba(batter_X)\n",
    "    out_probs = []\n",
    "    for probs in traditional_CF:\n",
    "        out_probs.append(probs[0])\n",
    "    traditional_CF_lr['traditional_out_prob'] = out_probs\n",
    "    expected_outs = sum(traditional_CF_lr['traditional_out_prob'])\n",
    "    trad_CF_outs = bip - sum(traditional_CF_lr['play_result'])\n",
    "    expected_out_prob = expected_outs / bip\n",
    "\n",
    "    total_bip.append(bip)\n",
    "    trad_outs.append(trad_CF_outs)\n",
    "\n",
    "    print(\"BIP: \" + str(bip) + ', '+ 'Traditional Outs: ' + str(trad_CF_outs) + ', ' + \" Expected Outs: \" + str(expected_outs) + ', ' + \" Traditional Out Probability: \" + str(expected_out_prob*100) + '%')"
   ]
  },
  {
   "cell_type": "code",
   "execution_count": 36,
   "metadata": {},
   "outputs": [
    {
     "name": "stdout",
     "output_type": "stream",
     "text": [
      "BIP: 2, Traditional Outs: 0,  Expected Outs: 1.5035669993710021,  Traditional Out Probability: 75.17834996855011%\n"
     ]
    }
   ],
   "source": [
    "# RF Traditional\n",
    "bip = len(traditional_RF_lr)\n",
    "X = preprocessing.scale(college_trad_RF_lr[['exit_velocity','hang_time']])\n",
    "y = college_trad_RF_lr['play_result']\n",
    "clf_RF = LogisticRegression(random_state=42).fit(X, y)\n",
    "if (bip):\n",
    "    batter_X = preprocessing.scale(traditional_RF_lr[['exit_velocity','hang_time']])\n",
    "    traditional_RF = clf_RF.predict_proba(batter_X)\n",
    "    out_probs = []\n",
    "    for probs in traditional_RF:\n",
    "        out_probs.append(probs[0])\n",
    "    traditional_RF_lr['traditional_out_prob'] = out_probs\n",
    "    expected_outs = sum(traditional_RF_lr['traditional_out_prob'])\n",
    "    trad_RF_outs = bip - sum(traditional_RF_lr['play_result'])\n",
    "    expected_out_prob = expected_outs / bip\n",
    "    trad_outs.append(trad_RF_outs)\n",
    "    print(\"BIP: \" + str(bip) + ', '+ 'Traditional Outs: ' + str(trad_RF_outs) + ', ' + \" Expected Outs: \" + str(expected_outs) + ', ' + \" Traditional Out Probability: \" + str(expected_out_prob*100) + '%')\n",
    "total_bip.append(bip)"
   ]
  },
  {
   "cell_type": "code",
   "execution_count": 37,
   "metadata": {},
   "outputs": [
    {
     "name": "stdout",
     "output_type": "stream",
     "text": [
      "Total BIP: 54\n",
      "Traditional Outs: 32\n",
      "Traditional Out Probability: 59.25925925925925%\n"
     ]
    }
   ],
   "source": [
    "bip = sum(total_bip)\n",
    "print(\"Total BIP: \" + str(bip))\n",
    "total_trad_outs = sum(trad_outs)\n",
    "\n",
    "print(\"Traditional Outs: \" + str(total_trad_outs))\n",
    "trad_out_prob = sum(trad_outs)/sum(total_bip)*100\n",
    "print(\"Traditional Out Probability: \" + str(trad_out_prob) + \"%\")"
   ]
  },
  {
   "cell_type": "code",
   "execution_count": 38,
   "metadata": {},
   "outputs": [],
   "source": [
    "distances = []\n",
    "directions = []\n",
    "total_bip = []\n",
    "shift_outs = []"
   ]
  },
  {
   "cell_type": "code",
   "execution_count": 39,
   "metadata": {},
   "outputs": [
    {
     "data": {
      "text/plain": [
       "list"
      ]
     },
     "execution_count": 39,
     "metadata": {},
     "output_type": "execute_result"
    }
   ],
   "source": [
    "type(distances)"
   ]
  },
  {
   "cell_type": "code",
   "execution_count": 40,
   "metadata": {},
   "outputs": [
    {
     "name": "stdout",
     "output_type": "stream",
     "text": [
      "Shift!\n",
      "BIP: 8\n",
      "Traditional Outs: 4, Traditional Out Probability: 50.0 %\n",
      "Shifted Outs: 5.244085347117926,  Shifted Out Probability: 65.55106683897407 %\n"
     ]
    }
   ],
   "source": [
    "# 1B Shift\n",
    "bip = len(shift_1B_lr)\n",
    "if(bip):\n",
    "    X = preprocessing.scale(shift_1B_lr[['exit_velocity','hang_time']])\n",
    "    shift_1B = clf_1B.predict_proba(X)\n",
    "    out_probs = []\n",
    "    for probs in shift_1B:\n",
    "        out_probs.append(probs[0])\n",
    "    shift_1B_lr['shift_out_prob'] = out_probs\n",
    "    shift_1B_outs = sum(shift_1B_lr['shift_out_prob'])\n",
    "    trad_1B_outs = bip - sum(shift_1B_lr['play_result'])\n",
    "    trad_1B_out_prob = trad_1B_outs / bip\n",
    "    shifted_1B_out_prob = shift_1B_outs / bip\n",
    "\n",
    "    if(shifted_1B_out_prob > trad_1B_out_prob):\n",
    "        print(\"Shift!\")\n",
    "        distance = int(shifted_positions[shifted_positions['custom_cluster']== cluster_to_position[3]]['distance'])\n",
    "        if distance <110 or distance > 150:\n",
    "            distances.append(110)\n",
    "        else:\n",
    "            distances.append(distance)\n",
    "\n",
    "        direction = int(shifted_positions[shifted_positions['custom_cluster']== cluster_to_position[3]]['direction'])\n",
    "\n",
    "        if direction >= 45 or direction <= 25:\n",
    "            directions.append(34)\n",
    "        else:\n",
    "            directions.append(direction)\n",
    "    else:\n",
    "        print(\"No Shift!\")\n",
    "        distance = traditional_positions.iloc[3-3]['distance']\n",
    "        direction = traditional_positions.iloc[3-3]['direction']\n",
    "\n",
    "        if distance <110:\n",
    "            distances.append(110)\n",
    "        else:\n",
    "            distances.append(distance)\n",
    "\n",
    "        if direction >= 45 or direction <= 25:\n",
    "            directions.append(34)\n",
    "        else:\n",
    "            directions.append(direction)\n",
    "    total_bip.append(bip)\n",
    "    shift_outs.append(shift_1B_outs)\n",
    "    print(\"BIP: \" + str(bip))\n",
    "    print('Traditional Outs: ' + str(trad_1B_outs) + ', ' + 'Traditional Out Probability: ' + str(trad_1B_out_prob*100) + \" %\")\n",
    "    print( \"Shifted Outs: \" + str(shift_1B_outs) + ', ' + \" Shifted Out Probability: \" + str(shifted_1B_out_prob*100) + ' %')\n",
    "else:    \n",
    "    distances.append(110)\n",
    "    directions.append(34)"
   ]
  },
  {
   "cell_type": "code",
   "execution_count": 41,
   "metadata": {},
   "outputs": [
    {
     "data": {
      "text/plain": [
       "list"
      ]
     },
     "execution_count": 41,
     "metadata": {},
     "output_type": "execute_result"
    }
   ],
   "source": [
    "type(distances)"
   ]
  },
  {
   "cell_type": "code",
   "execution_count": 42,
   "metadata": {},
   "outputs": [
    {
     "name": "stdout",
     "output_type": "stream",
     "text": [
      "Shift!\n",
      "BIP: 8\n",
      "Traditional Outs: 4, Traditional Out Probability: 50.0 %\n",
      "Shifted Outs: 5.722712822575657,  Shifted Out Probability: 71.5339102821957 %\n"
     ]
    }
   ],
   "source": [
    "# 2B Shift\n",
    "bip = len(shift_2B_lr)\n",
    "if(bip):\n",
    "    X = preprocessing.scale(shift_2B_lr[['exit_velocity','hang_time']])\n",
    "    shift_2B = clf_2B.predict_proba(X)\n",
    "    out_probs = []\n",
    "    for probs in shift_2B:\n",
    "        out_probs.append(probs[0])\n",
    "    shift_2B_lr['shift_out_prob'] = out_probs\n",
    "    shift_2B_outs = sum(shift_2B_lr['shift_out_prob'])\n",
    "    trad_2B_outs = bip - sum(shift_2B_lr['play_result'])\n",
    "    trad_2B_out_prob = trad_2B_outs / bip\n",
    "    shifted_2B_out_prob = shift_2B_outs / bip\n",
    "\n",
    "    if(shifted_2B_out_prob > trad_2B_out_prob):\n",
    "        print(\"Shift!\")\n",
    "        distance = int(shifted_positions[shifted_positions['custom_cluster']== cluster_to_position[4]]['distance'])\n",
    "        if distance <150:\n",
    "            distances.append(150)\n",
    "        else:\n",
    "            distances.append(distance)\n",
    "        directions.append(int(shifted_positions[shifted_positions['custom_cluster']== cluster_to_position[4]]['direction']))\n",
    "    else:\n",
    "        print(\"No Shift!\")\n",
    "        distance = traditional_positions.iloc[4-3]['distance']\n",
    "        direction = traditional_positions.iloc[4-3]['direction']\n",
    "\n",
    "        if distance <150:\n",
    "            distances.append(150)\n",
    "        else:\n",
    "            distances.append(distance)\n",
    "\n",
    "        directions.append(direction)\n",
    "\n",
    "    total_bip.append(bip)\n",
    "    shift_outs.append(shift_2B_outs)\n",
    "\n",
    "    print(\"BIP: \" + str(bip))\n",
    "    print('Traditional Outs: ' + str(trad_2B_outs) + ', ' + 'Traditional Out Probability: ' + str(trad_2B_out_prob*100) + \" %\")\n",
    "    print( \"Shifted Outs: \" + str(shift_2B_outs) + ', ' + \" Shifted Out Probability: \" + str(shifted_2B_out_prob*100) + ' %')\n",
    "else:\n",
    "    distances.append(150)\n",
    "    directions.append(13)"
   ]
  },
  {
   "cell_type": "code",
   "execution_count": 43,
   "metadata": {},
   "outputs": [
    {
     "data": {
      "text/plain": [
       "list"
      ]
     },
     "execution_count": 43,
     "metadata": {},
     "output_type": "execute_result"
    }
   ],
   "source": [
    "type(distances)"
   ]
  },
  {
   "cell_type": "code",
   "execution_count": 44,
   "metadata": {},
   "outputs": [
    {
     "name": "stdout",
     "output_type": "stream",
     "text": [
      "Shift!\n",
      "BIP: 6\n",
      "Traditional Outs: 0, Traditional Out Probability: 0.0 %\n",
      "Shifted Outs: 3.6147305243833814,  Shifted Out Probability: 60.24550873972302 %\n"
     ]
    }
   ],
   "source": [
    "# 3B Shift\n",
    "bip = len(shift_3B_lr)\n",
    "if(bip):\n",
    "    X = preprocessing.scale(shift_3B_lr[['exit_velocity','hang_time']])\n",
    "    shift_3B = clf_3B.predict_proba(X)\n",
    "    out_probs = []\n",
    "    for probs in shift_3B:\n",
    "        out_probs.append(probs[0])\n",
    "    shift_3B_lr['shift_out_prob'] = out_probs\n",
    "    shift_3B_outs = sum(shift_3B_lr['shift_out_prob'])\n",
    "    trad_3B_outs = bip - sum(shift_3B_lr['play_result'])\n",
    "    trad_3B_out_prob = trad_3B_outs / bip\n",
    "    shifted_3B_out_prob = shift_3B_outs / bip\n",
    "\n",
    "    if(shifted_3B_out_prob > trad_3B_out_prob):\n",
    "        print(\"Shift!\")\n",
    "        distance = int(shifted_positions[shifted_positions['custom_cluster']== cluster_to_position[5]]['distance'])\n",
    "        if distance <116:\n",
    "            distances.append(116)\n",
    "        else:\n",
    "            distances.append(distance)\n",
    "        directions.append(int(shifted_positions[shifted_positions['custom_cluster']== cluster_to_position[5]]['direction']))\n",
    "    else:\n",
    "        print(\"No Shift!\")\n",
    "        distance = traditional_positions.iloc[5-3]['distance']\n",
    "        if distance <116:\n",
    "            distances.append(116)\n",
    "        else:\n",
    "            distances.append(distance)\n",
    "        directions.append(traditional_positions.iloc[5-3]['direction'])\n",
    "\n",
    "    total_bip.append(bip)\n",
    "    shift_outs.append(shift_3B_outs)\n",
    "    print(\"BIP: \" + str(bip))\n",
    "    print('Traditional Outs: ' + str(trad_3B_outs) + ', ' + 'Traditional Out Probability: ' + str(trad_3B_out_prob*100) + \" %\")\n",
    "    print( \"Shifted Outs: \" + str(shift_3B_outs) + ', ' + \" Shifted Out Probability: \" + str(shifted_3B_out_prob*100) + ' %')\n",
    "else:\n",
    "    distances.append(116)\n",
    "    directions.append(-30)"
   ]
  },
  {
   "cell_type": "code",
   "execution_count": 45,
   "metadata": {},
   "outputs": [
    {
     "data": {
      "text/plain": [
       "list"
      ]
     },
     "execution_count": 45,
     "metadata": {},
     "output_type": "execute_result"
    }
   ],
   "source": [
    "type(distances)"
   ]
  },
  {
   "cell_type": "code",
   "execution_count": 46,
   "metadata": {},
   "outputs": [
    {
     "name": "stdout",
     "output_type": "stream",
     "text": [
      "No Shift!\n",
      "<class 'numpy.int64'>\n",
      "<class 'list'>\n",
      "BIP: 6\n",
      "Traditional Outs: 6, Traditional Out Probability: 100.0 %\n",
      "Shifted Outs: 4.009174011573469,  Shifted Out Probability: 66.81956685955782 %\n"
     ]
    }
   ],
   "source": [
    "# SS Shift\n",
    "bip = len(shift_SS_lr)\n",
    "if(bip):\n",
    "    X = preprocessing.scale(shift_SS_lr[['exit_velocity','hang_time']])\n",
    "    shift_SS = clf_SS.predict_proba(X)\n",
    "    out_probs = []\n",
    "    for probs in shift_SS:\n",
    "        out_probs.append(probs[0])\n",
    "    shift_SS_lr['shift_out_prob'] = out_probs\n",
    "    shift_SS_outs = sum(shift_SS_lr['shift_out_prob'])\n",
    "    trad_SS_outs = bip - sum(shift_SS_lr['play_result'])\n",
    "    trad_SS_out_prob = trad_SS_outs / bip\n",
    "    shifted_SS_out_prob = shift_SS_outs / bip\n",
    "\n",
    "\n",
    "    if(shifted_SS_out_prob > trad_SS_out_prob):\n",
    "        print(\"Shift!\")\n",
    "        distance = int(shifted_positions[shifted_positions['custom_cluster']== cluster_to_position[6]]['distance'])\n",
    "        if distance <146:\n",
    "            distances.append(146)\n",
    "        else:\n",
    "            distances.append(distance)\n",
    "        directions.append(int(shifted_positions[shifted_positions['custom_cluster']== cluster_to_position[6]]['direction']))\n",
    "    else:\n",
    "        print(\"No Shift!\")\n",
    "        distance = traditional_positions.iloc[6-3]['distance']\n",
    "        print(type(distance))\n",
    "        print(type(distances))\n",
    "        direction = traditional_positions.iloc[6-3]['direction']\n",
    "\n",
    "        if distance <146:\n",
    "            distances.append(146)\n",
    "        else:\n",
    "            distances.append(distance)\n",
    "        directions.append(direction)\n",
    "\n",
    "    total_bip.append(bip)\n",
    "    shift_outs.append(shift_SS_outs)\n",
    "    print(\"BIP: \" + str(bip))\n",
    "    print('Traditional Outs: ' + str(trad_SS_outs) + ', ' + 'Traditional Out Probability: ' + str(trad_SS_out_prob*100) + \" %\")\n",
    "    print( \"Shifted Outs: \" + str(shift_SS_outs) + ', ' + \" Shifted Out Probability: \" + str(shifted_SS_out_prob*100) + ' %')\n",
    "else:\n",
    "    distances.append(146)\n",
    "    directions.append(-12)"
   ]
  },
  {
   "cell_type": "code",
   "execution_count": 47,
   "metadata": {},
   "outputs": [
    {
     "data": {
      "text/plain": [
       "list"
      ]
     },
     "execution_count": 47,
     "metadata": {},
     "output_type": "execute_result"
    }
   ],
   "source": [
    "type(distances)"
   ]
  },
  {
   "cell_type": "code",
   "execution_count": 48,
   "metadata": {},
   "outputs": [
    {
     "name": "stdout",
     "output_type": "stream",
     "text": [
      "Shift!\n",
      "BIP: 2\n",
      "Traditional Outs: 0, Traditional Out Probability: 0.0 %\n",
      "Shifted Outs: 1.4167276141417866,  Shifted Out Probability: 70.83638070708933 %\n"
     ]
    }
   ],
   "source": [
    "# LF Shift\n",
    "bip = len(shift_LF_lr)\n",
    "if(bip):\n",
    "    X = preprocessing.scale(shift_LF_lr[['exit_velocity','hang_time']])\n",
    "    shift_LF = clf_LF.predict_proba(X)\n",
    "    out_probs = []\n",
    "    for probs in shift_LF:\n",
    "        out_probs.append(probs[0])\n",
    "    shift_LF_lr['shift_out_prob'] = out_probs\n",
    "    shift_LF_outs = sum(shift_LF_lr['shift_out_prob'])\n",
    "    trad_LF_outs = bip - sum(shift_LF_lr['play_result'])\n",
    "    trad_LF_out_prob = trad_LF_outs / bip\n",
    "    shifted_LF_out_prob = shift_LF_outs / bip\n",
    "\n",
    "    if(shifted_LF_out_prob > trad_LF_out_prob):\n",
    "        print(\"Shift!\")\n",
    "        distance = int(shifted_positions[shifted_positions['custom_cluster']== cluster_to_position[7]]['distance'])\n",
    "        if distance <180:\n",
    "            distances.append(297)\n",
    "        else:\n",
    "            distances.append(distance)\n",
    "        directions.append(int(shifted_positions[shifted_positions['custom_cluster']== cluster_to_position[7]]['direction']))\n",
    "    else:\n",
    "        print(\"No Shift!\")\n",
    "        distances.append(traditional_positions.iloc[7-3]['distance'])\n",
    "        directions.append(traditional_positions.iloc[7-3]['direction'])\n",
    "\n",
    "    total_bip.append(bip)\n",
    "    shift_outs.append(shift_LF_outs)\n",
    "    print(\"BIP: \" + str(bip))\n",
    "    print('Traditional Outs: ' + str(trad_LF_outs) + ', ' + 'Traditional Out Probability: ' + str(trad_LF_out_prob*100) + \" %\")\n",
    "    print( \"Shifted Outs: \" + str(shift_LF_outs) + ', ' + \" Shifted Out Probability: \" + str(shifted_LF_out_prob*100) + ' %')\n",
    "else:\n",
    "    distances.append(297)\n",
    "    directions.append(-27)"
   ]
  },
  {
   "cell_type": "code",
   "execution_count": 49,
   "metadata": {},
   "outputs": [
    {
     "data": {
      "text/plain": [
       "list"
      ]
     },
     "execution_count": 49,
     "metadata": {},
     "output_type": "execute_result"
    }
   ],
   "source": [
    "type(distances)"
   ]
  },
  {
   "cell_type": "code",
   "execution_count": 50,
   "metadata": {},
   "outputs": [
    {
     "name": "stdout",
     "output_type": "stream",
     "text": [
      "Shift!\n",
      "BIP: 14\n",
      "Traditional Outs: 10, Traditional Out Probability: 71.42857142857143 %\n",
      "Shifted Outs: 10.364765986175339,  Shifted Out Probability: 74.03404275839527 %\n"
     ]
    }
   ],
   "source": [
    "# CF Shift\n",
    "bip = len(shift_CF_lr)\n",
    "if(bip):\n",
    "    X = preprocessing.scale(shift_CF_lr[['exit_velocity','hang_time']])\n",
    "    shift_CF = clf_CF.predict_proba(X)\n",
    "    out_probs = []\n",
    "    for probs in shift_CF:\n",
    "        out_probs.append(probs[0])\n",
    "    shift_CF_lr['shift_out_prob'] = out_probs\n",
    "    shift_CF_outs = sum(shift_CF_lr['shift_out_prob'])\n",
    "    trad_CF_outs = bip - sum(shift_CF_lr['play_result'])\n",
    "    trad_CF_out_prob = trad_CF_outs / bip\n",
    "    shifted_CF_out_prob = shift_CF_outs / bip\n",
    "\n",
    "\n",
    "    if(shifted_CF_out_prob > trad_CF_out_prob):\n",
    "        print(\"Shift!\")\n",
    "        distance = int(shifted_positions[shifted_positions['custom_cluster']== cluster_to_position[8]]['distance'])\n",
    "        if distance <180:\n",
    "            distances.append(321)\n",
    "        else:\n",
    "            distances.append(distance)\n",
    "\n",
    "        directions.append(int(shifted_positions[shifted_positions['custom_cluster']== cluster_to_position[8]]['direction']))\n",
    "    else:\n",
    "        print(\"No Shift!\")\n",
    "        distances.append(traditional_positions.iloc[8-3]['distance'])\n",
    "        directions.append(traditional_positions.iloc[8-3]['direction'])\n",
    "\n",
    "    total_bip.append(bip)\n",
    "    shift_outs.append(shift_CF_outs)\n",
    "    print(\"BIP: \" + str(bip))\n",
    "    print('Traditional Outs: ' + str(trad_CF_outs) + ', ' + 'Traditional Out Probability: ' + str(trad_CF_out_prob*100) + \" %\")\n",
    "    print( \"Shifted Outs: \" + str(shift_CF_outs) + ', ' + \" Shifted Out Probability: \" + str(shifted_CF_out_prob*100) + ' %')\n",
    "else:\n",
    "    distances.append(321)\n",
    "    directions.append(-1)"
   ]
  },
  {
   "cell_type": "code",
   "execution_count": 51,
   "metadata": {},
   "outputs": [
    {
     "data": {
      "text/plain": [
       "list"
      ]
     },
     "execution_count": 51,
     "metadata": {},
     "output_type": "execute_result"
    }
   ],
   "source": [
    "type(distances)"
   ]
  },
  {
   "cell_type": "code",
   "execution_count": 52,
   "metadata": {},
   "outputs": [
    {
     "name": "stdout",
     "output_type": "stream",
     "text": [
      "No Shift!\n",
      "BIP: 10\n",
      "Traditional Outs: 8, Traditional Out Probability: 80.0 %\n",
      "Shifted Outs: 5.963715367522031,  Shifted Out Probability: 59.63715367522031 %\n"
     ]
    }
   ],
   "source": [
    "# RF Shift\n",
    "bip = len(shift_RF_lr)\n",
    "if(bip):\n",
    "    X = preprocessing.scale(shift_RF_lr[['exit_velocity','hang_time']])\n",
    "    shift_RF = clf_RF.predict_proba(X)\n",
    "    out_probs = []\n",
    "    for probs in shift_RF:\n",
    "        out_probs.append(probs[0])\n",
    "    shift_RF_lr['shift_out_prob'] = out_probs\n",
    "    shift_RF_outs = sum(shift_RF_lr['shift_out_prob'])\n",
    "    trad_RF_outs = bip - sum(shift_RF_lr['play_result'])\n",
    "    trad_RF_out_prob = trad_RF_outs / bip\n",
    "    shifted_RF_out_prob = shift_RF_outs / bip\n",
    "\n",
    "    if(shifted_RF_out_prob > trad_RF_out_prob):\n",
    "        print(\"Shift!\")\n",
    "        distance = int(shifted_positions[shifted_positions['custom_cluster']== cluster_to_position[7]]['distance'])\n",
    "        if distance <180:\n",
    "            distances.append(295)\n",
    "        else:\n",
    "            distances.append(distance)\n",
    "        directions.append(int(shifted_positions[shifted_positions['custom_cluster']== cluster_to_position[9]]['direction']))\n",
    "    else:\n",
    "        print(\"No Shift!\")\n",
    "        distances.append(traditional_positions.iloc[9-3]['distance'])\n",
    "        directions.append(traditional_positions.iloc[9-3]['direction'])\n",
    "\n",
    "    total_bip.append(bip)\n",
    "    shift_outs.append(shift_RF_outs)\n",
    "    print(\"BIP: \" + str(bip))\n",
    "    print('Traditional Outs: ' + str(trad_RF_outs) + ', ' + 'Traditional Out Probability: ' + str(trad_RF_out_prob*100) + \" %\")\n",
    "    print( \"Shifted Outs: \" + str(shift_RF_outs) + ', ' + \" Shifted Out Probability: \" + str(shifted_RF_out_prob*100) + ' %')\n",
    "else:\n",
    "    distances.append(295)\n",
    "    directions.append(27)"
   ]
  },
  {
   "cell_type": "code",
   "execution_count": 53,
   "metadata": {},
   "outputs": [
    {
     "data": {
      "text/plain": [
       "list"
      ]
     },
     "execution_count": 53,
     "metadata": {},
     "output_type": "execute_result"
    }
   ],
   "source": [
    "type(distances)"
   ]
  },
  {
   "cell_type": "code",
   "execution_count": 54,
   "metadata": {},
   "outputs": [
    {
     "name": "stdout",
     "output_type": "stream",
     "text": [
      "Total BIP: 54\n",
      "Shifted Outs: 36.33591167348959\n",
      "Shifted Out Probability: 67.28872532127703%\n"
     ]
    }
   ],
   "source": [
    "bip = sum(total_bip)\n",
    "print(\"Total BIP: \" + str(bip))\n",
    "total_shift_outs = sum(shift_outs)\n",
    "\n",
    "print(\"Shifted Outs: \" + str(total_shift_outs))\n",
    "\n",
    "shift_out_prob = (total_shift_outs/bip)*100\n",
    "print(\"Shifted Out Probability: \" + str(shift_out_prob) + \"%\")"
   ]
  },
  {
   "cell_type": "code",
   "execution_count": 55,
   "metadata": {},
   "outputs": [
    {
     "name": "stdout",
     "output_type": "stream",
     "text": [
      "Creating most efficient shift...\n"
     ]
    },
    {
     "data": {
      "text/html": [
       "<div>\n",
       "<style scoped>\n",
       "    .dataframe tbody tr th:only-of-type {\n",
       "        vertical-align: middle;\n",
       "    }\n",
       "\n",
       "    .dataframe tbody tr th {\n",
       "        vertical-align: top;\n",
       "    }\n",
       "\n",
       "    .dataframe thead th {\n",
       "        text-align: right;\n",
       "    }\n",
       "</style>\n",
       "<table border=\"1\" class=\"dataframe\">\n",
       "  <thead>\n",
       "    <tr style=\"text-align: right;\">\n",
       "      <th></th>\n",
       "      <th>distance</th>\n",
       "      <th>direction</th>\n",
       "    </tr>\n",
       "  </thead>\n",
       "  <tbody>\n",
       "    <tr>\n",
       "      <th>0</th>\n",
       "      <td>110</td>\n",
       "      <td>33</td>\n",
       "    </tr>\n",
       "    <tr>\n",
       "      <th>1</th>\n",
       "      <td>150</td>\n",
       "      <td>2</td>\n",
       "    </tr>\n",
       "    <tr>\n",
       "      <th>2</th>\n",
       "      <td>120</td>\n",
       "      <td>-31</td>\n",
       "    </tr>\n",
       "    <tr>\n",
       "      <th>3</th>\n",
       "      <td>146</td>\n",
       "      <td>-12</td>\n",
       "    </tr>\n",
       "    <tr>\n",
       "      <th>4</th>\n",
       "      <td>297</td>\n",
       "      <td>-23</td>\n",
       "    </tr>\n",
       "    <tr>\n",
       "      <th>5</th>\n",
       "      <td>336</td>\n",
       "      <td>7</td>\n",
       "    </tr>\n",
       "    <tr>\n",
       "      <th>6</th>\n",
       "      <td>295</td>\n",
       "      <td>27</td>\n",
       "    </tr>\n",
       "  </tbody>\n",
       "</table>\n",
       "</div>"
      ],
      "text/plain": [
       "   distance  direction\n",
       "0       110         33\n",
       "1       150          2\n",
       "2       120        -31\n",
       "3       146        -12\n",
       "4       297        -23\n",
       "5       336          7\n",
       "6       295         27"
      ]
     },
     "execution_count": 55,
     "metadata": {},
     "output_type": "execute_result"
    }
   ],
   "source": [
    "# if shift_out_prob> trad_out_prob:\n",
    "#     print(\"Overall Shift Away!\")\n",
    "#     for position,cluster in cluster_to_position.items():\n",
    "        \n",
    "#         if position == 3:\n",
    "#             distance = int(shifted_positions[shifted_positions['custom_cluster']== cluster_to_position[3]]['distance'])\n",
    "#             direction = int(shifted_positions[shifted_positions['custom_cluster']== cluster_to_position[3]]['direction'])\n",
    "#             if distance < 110 or distance > 150:\n",
    "#                 shifted_positions.at[int(cluster),'distance'] = 110\n",
    "#             if direction >= 45 or direction <= 25:\n",
    "#                 shifted_positions.at[int(cluster),'direction'] = 34\n",
    "#         elif position == 4:\n",
    "#             distance = int(shifted_positions[shifted_positions['custom_cluster']== cluster_to_position[4]]['distance'])\n",
    "#             if distance < 150:\n",
    "#                 shifted_positions.at[int(cluster),'distance'] = 150\n",
    "#         elif position == 5:\n",
    "#             distance = int(shifted_positions[shifted_positions['custom_cluster']== cluster_to_position[5]]['distance'])\n",
    "#             if distance < 116:\n",
    "#                 shifted_positions.at[int(cluster),'distance'] = 116\n",
    "#         elif position == 6:\n",
    "#             distance = int(shifted_positions[shifted_positions['custom_cluster']== cluster_to_position[6]]['distance'])\n",
    "#             if distance < 146:\n",
    "#                 shifted_positions.at[int(cluster),'distance'] = 146\n",
    "#     shifted_positions.to_csv('Final_Shift.csv')\n",
    "#     shifted_positions\n",
    "# else:\n",
    "print(\"Creating most efficient shift...\")\n",
    "positioning = pd.DataFrame()\n",
    "positioning['distance'] = distances\n",
    "positioning['direction'] = directions\n",
    "positioning.to_csv('Final_Shift.csv')\n",
    "positioning"
   ]
  }
 ],
 "metadata": {
  "kernelspec": {
   "display_name": "Python 3",
   "language": "python",
   "name": "python3"
  },
  "language_info": {
   "codemirror_mode": {
    "name": "ipython",
    "version": 3
   },
   "file_extension": ".py",
   "mimetype": "text/x-python",
   "name": "python",
   "nbconvert_exporter": "python",
   "pygments_lexer": "ipython3",
   "version": "3.8.3"
  }
 },
 "nbformat": 4,
 "nbformat_minor": 4
}
