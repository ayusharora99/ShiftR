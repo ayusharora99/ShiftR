{
 "cells": [
  {
   "cell_type": "code",
   "execution_count": 1,
   "metadata": {},
   "outputs": [],
   "source": [
    "import numpy as np \n",
    "import pandas as pd\n",
    "from sklearn import preprocessing\n",
    "import matplotlib.pyplot as plt\n",
    "import random\n",
    "from sklearn.cluster import KMeans"
   ]
  },
  {
   "cell_type": "code",
   "execution_count": 2,
   "metadata": {},
   "outputs": [],
   "source": [
    "training_data = pd.read_csv(\"training_data.csv\")\n",
    "training_data = training_data.dropna(subset = ['exit_velocity','distance','hang_time','direction','play_result'])\n",
    "batters = training_data.groupby(\"batter_name\", as_index=False)\n",
    "batter_dict = dict(iter(batters))\n",
    "Seymour_Bobby = batter_dict['Martin, Austin']\n",
    "Seymour_Bobby = Seymour_Bobby[Seymour_Bobby['traditional_cluster'] != 3] #Drop all to 1st\n",
    "Seymour_Bobby = Seymour_Bobby.reset_index(drop=True)\n",
    "data = pd.DataFrame(Seymour_Bobby[['distance','direction']])\n",
    "data = data.reset_index(drop=True)"
   ]
  },
  {
   "cell_type": "code",
   "execution_count": 3,
   "metadata": {},
   "outputs": [],
   "source": [
    "data_scaled = preprocessing.scale(data)"
   ]
  },
  {
   "cell_type": "code",
   "execution_count": 4,
   "metadata": {},
   "outputs": [
    {
     "name": "stdout",
     "output_type": "stream",
     "text": [
      "[110  34]\n"
     ]
    }
   ],
   "source": [
    "print(np.array([110,34]))"
   ]
  },
  {
   "cell_type": "code",
   "execution_count": 5,
   "metadata": {},
   "outputs": [],
   "source": [
    "class K_Means:\n",
    "    def __init__(self, k,tol=0.0,max_iter = 300):\n",
    "        self.k = k\n",
    "        self.tol = tol\n",
    "        self.max_iter = max_iter\n",
    "        \n",
    "    def fit(self,data):\n",
    "        self.centroids = {}\n",
    "#         self.centroids[0] = np.array([-0.18521355 , 1.38671137])\n",
    "        for i in range(self.k):\n",
    "            self.centroids[i] = data[i] # Adjust first centroid around 1st Base?\n",
    "            print(\"Centroid \" + str(i) + \": \" + str(self.centroids[i]))\n",
    "            \n",
    "        for i in range(self.max_iter):\n",
    "            print(\"Iteration: \" + str(i))\n",
    "            self.classifications = {}\n",
    "            \n",
    "            for i in range(self.k):\n",
    "                self.classifications[i] = []\n",
    "                \n",
    "            for featureset in data:\n",
    "                distances = [np.linalg.norm(featureset - self.centroids[centroid]) for centroid in self.centroids]\n",
    "                classification = distances.index(min(distances))\n",
    "                self.classifications[classification].append(featureset)\n",
    "                \n",
    "            prev_centroids = dict(self.centroids)\n",
    "            \n",
    "            for classification in self.classifications:\n",
    "                self.centroids[classification] = np.average(self.classifications[classification], axis = 0)\n",
    "            \n",
    "            optimized = True\n",
    "            \n",
    "            for c in self.centroids:\n",
    "                original_centroid = prev_centroids[c]\n",
    "                current_centroid = self.centroids[c]\n",
    "                if np.sum((current_centroid - original_centroid)/ original_centroid * 100.0) > self.tol:\n",
    "                    optimized = False\n",
    "                \n",
    "            if optimized:\n",
    "                break\n",
    "                \n",
    "    def predict(self,data):\n",
    "        distances = [np.linalg.norm(data - self.centroids[centroid]) for centroid in self.centroids]\n",
    "        classification = distances.index(min(distances))\n",
    "        return classification"
   ]
  },
  {
   "cell_type": "code",
   "execution_count": 6,
   "metadata": {},
   "outputs": [],
   "source": [
    "kmeans = KMeans(n_clusters = 6)\n",
    "groups = kmeans.fit_predict(data_scaled)\n",
    "Seymour_Bobby['scikit_cluster'] = groups"
   ]
  },
  {
   "cell_type": "code",
   "execution_count": 7,
   "metadata": {},
   "outputs": [],
   "source": [
    "clf = K_Means(k=6)"
   ]
  },
  {
   "cell_type": "code",
   "execution_count": 8,
   "metadata": {},
   "outputs": [
    {
     "name": "stdout",
     "output_type": "stream",
     "text": [
      "Centroid 0: [0.08906273 0.32399033]\n",
      "Centroid 1: [-1.34854104 -0.11684044]\n",
      "Centroid 2: [-0.84316482 -1.94939269]\n",
      "Centroid 3: [1.15293935 2.13197699]\n",
      "Centroid 4: [-0.91155344 -0.84491642]\n",
      "Centroid 5: [1.06778475 1.01459266]\n",
      "Iteration: 0\n",
      "Iteration: 1\n",
      "Iteration: 2\n",
      "Iteration: 3\n",
      "Iteration: 4\n",
      "Iteration: 5\n"
     ]
    }
   ],
   "source": [
    "clf.fit(data_scaled)"
   ]
  },
  {
   "cell_type": "code",
   "execution_count": 9,
   "metadata": {},
   "outputs": [
    {
     "data": {
      "text/plain": [
       "78"
      ]
     },
     "execution_count": 9,
     "metadata": {},
     "output_type": "execute_result"
    }
   ],
   "source": [
    "len(data)"
   ]
  },
  {
   "cell_type": "code",
   "execution_count": 10,
   "metadata": {},
   "outputs": [
    {
     "data": {
      "text/plain": [
       "78"
      ]
     },
     "execution_count": 10,
     "metadata": {},
     "output_type": "execute_result"
    }
   ],
   "source": [
    "len(Seymour_Bobby)"
   ]
  },
  {
   "cell_type": "code",
   "execution_count": 11,
   "metadata": {},
   "outputs": [
    {
     "data": {
      "text/plain": [
       "array([0.08906273, 0.32399033])"
      ]
     },
     "execution_count": 11,
     "metadata": {},
     "output_type": "execute_result"
    }
   ],
   "source": [
    "data_scaled[0]"
   ]
  },
  {
   "cell_type": "code",
   "execution_count": 12,
   "metadata": {},
   "outputs": [
    {
     "name": "stdout",
     "output_type": "stream",
     "text": [
      "0\n",
      "1\n",
      "2\n",
      "3\n",
      "4\n",
      "5\n",
      "6\n",
      "7\n",
      "8\n",
      "9\n",
      "10\n",
      "11\n",
      "12\n",
      "13\n",
      "14\n",
      "15\n",
      "16\n",
      "17\n",
      "18\n",
      "19\n",
      "20\n",
      "21\n",
      "22\n",
      "23\n",
      "24\n",
      "25\n",
      "26\n",
      "27\n",
      "28\n",
      "29\n",
      "30\n",
      "31\n",
      "32\n",
      "33\n",
      "34\n",
      "35\n",
      "36\n",
      "37\n",
      "38\n",
      "39\n",
      "40\n",
      "41\n",
      "42\n",
      "43\n",
      "44\n",
      "45\n",
      "46\n",
      "47\n",
      "48\n",
      "49\n",
      "50\n",
      "51\n",
      "52\n",
      "53\n",
      "54\n",
      "55\n",
      "56\n",
      "57\n",
      "58\n",
      "59\n",
      "60\n",
      "61\n",
      "62\n",
      "63\n",
      "64\n",
      "65\n",
      "66\n",
      "67\n",
      "68\n",
      "69\n",
      "70\n",
      "71\n",
      "72\n",
      "73\n",
      "74\n",
      "75\n",
      "76\n",
      "77\n"
     ]
    }
   ],
   "source": [
    "for i, bip in data.iterrows():\n",
    "    print(i)\n",
    "    Seymour_Bobby.at[i,'custom_cluster'] = clf.predict(data_scaled[i])"
   ]
  },
  {
   "cell_type": "code",
   "execution_count": 13,
   "metadata": {},
   "outputs": [
    {
     "data": {
      "text/plain": [
       "5.0    20\n",
       "0.0    20\n",
       "1.0    16\n",
       "4.0    13\n",
       "3.0     5\n",
       "2.0     4\n",
       "Name: custom_cluster, dtype: int64"
      ]
     },
     "execution_count": 13,
     "metadata": {},
     "output_type": "execute_result"
    }
   ],
   "source": [
    "Seymour_Bobby['custom_cluster'].value_counts()"
   ]
  },
  {
   "cell_type": "code",
   "execution_count": 14,
   "metadata": {},
   "outputs": [],
   "source": [
    "cluster_0 = Seymour_Bobby.loc[Seymour_Bobby['custom_cluster'] == 0]\n",
    "cluster_1 = Seymour_Bobby.loc[Seymour_Bobby['custom_cluster'] == 1]\n",
    "cluster_2 = Seymour_Bobby.loc[Seymour_Bobby['custom_cluster'] == 2]\n",
    "cluster_3 = Seymour_Bobby.loc[Seymour_Bobby['custom_cluster'] == 3]\n",
    "cluster_4 = Seymour_Bobby.loc[Seymour_Bobby['custom_cluster'] == 4]\n",
    "cluster_5 = Seymour_Bobby.loc[Seymour_Bobby['custom_cluster'] == 5]\n",
    "# cluster_6 = Seymour_Bobby.loc[Seymour_Bobby['custom_cluster'] == 6]\n",
    "\n",
    "\n",
    "custom_clusters = [0,1,2,3,4,5,6]"
   ]
  },
  {
   "cell_type": "code",
   "execution_count": 15,
   "metadata": {},
   "outputs": [],
   "source": [
    "mean_distances = []\n",
    "mean_distances.append(cluster_0['distance'].mean())\n",
    "mean_distances.append(cluster_1['distance'].mean())\n",
    "mean_distances.append(cluster_2['distance'].mean())\n",
    "mean_distances.append(cluster_3['distance'].mean())\n",
    "mean_distances.append(cluster_4['distance'].mean())\n",
    "mean_distances.append(cluster_5['distance'].mean())\n",
    "mean_distances.append(110)"
   ]
  },
  {
   "cell_type": "code",
   "execution_count": 16,
   "metadata": {},
   "outputs": [],
   "source": [
    "mean_directions = []\n",
    "mean_directions.append(cluster_0['direction'].mean())\n",
    "mean_directions.append(cluster_1['direction'].mean())\n",
    "mean_directions.append(cluster_2['direction'].mean())\n",
    "mean_directions.append(cluster_3['direction'].mean())\n",
    "mean_directions.append(cluster_4['direction'].mean())\n",
    "mean_directions.append(cluster_5['direction'].mean())\n",
    "mean_directions.append(34)"
   ]
  },
  {
   "cell_type": "code",
   "execution_count": 17,
   "metadata": {},
   "outputs": [],
   "source": [
    "custom_cluster_means = pd.DataFrame()\n",
    "custom_cluster_means['custom_cluster'] = custom_clusters\n",
    "custom_cluster_means['distance'] = mean_distances\n",
    "custom_cluster_means['direction'] = mean_directions"
   ]
  },
  {
   "cell_type": "code",
   "execution_count": 18,
   "metadata": {},
   "outputs": [
    {
     "data": {
      "text/html": [
       "<div>\n",
       "<style scoped>\n",
       "    .dataframe tbody tr th:only-of-type {\n",
       "        vertical-align: middle;\n",
       "    }\n",
       "\n",
       "    .dataframe tbody tr th {\n",
       "        vertical-align: top;\n",
       "    }\n",
       "\n",
       "    .dataframe thead th {\n",
       "        text-align: right;\n",
       "    }\n",
       "</style>\n",
       "<table border=\"1\" class=\"dataframe\">\n",
       "  <thead>\n",
       "    <tr style=\"text-align: right;\">\n",
       "      <th></th>\n",
       "      <th>custom_cluster</th>\n",
       "      <th>distance</th>\n",
       "      <th>direction</th>\n",
       "    </tr>\n",
       "  </thead>\n",
       "  <tbody>\n",
       "    <tr>\n",
       "      <th>0</th>\n",
       "      <td>0</td>\n",
       "      <td>236.993666</td>\n",
       "      <td>-18.142650</td>\n",
       "    </tr>\n",
       "    <tr>\n",
       "      <th>1</th>\n",
       "      <td>1</td>\n",
       "      <td>45.727988</td>\n",
       "      <td>-1.298957</td>\n",
       "    </tr>\n",
       "    <tr>\n",
       "      <th>2</th>\n",
       "      <td>2</td>\n",
       "      <td>40.916589</td>\n",
       "      <td>-41.752771</td>\n",
       "    </tr>\n",
       "    <tr>\n",
       "      <th>3</th>\n",
       "      <td>3</td>\n",
       "      <td>290.703877</td>\n",
       "      <td>25.509993</td>\n",
       "    </tr>\n",
       "    <tr>\n",
       "      <th>4</th>\n",
       "      <td>4</td>\n",
       "      <td>38.450000</td>\n",
       "      <td>-22.786669</td>\n",
       "    </tr>\n",
       "    <tr>\n",
       "      <th>5</th>\n",
       "      <td>5</td>\n",
       "      <td>314.576176</td>\n",
       "      <td>3.967718</td>\n",
       "    </tr>\n",
       "    <tr>\n",
       "      <th>6</th>\n",
       "      <td>6</td>\n",
       "      <td>110.000000</td>\n",
       "      <td>34.000000</td>\n",
       "    </tr>\n",
       "  </tbody>\n",
       "</table>\n",
       "</div>"
      ],
      "text/plain": [
       "   custom_cluster    distance  direction\n",
       "0               0  236.993666 -18.142650\n",
       "1               1   45.727988  -1.298957\n",
       "2               2   40.916589 -41.752771\n",
       "3               3  290.703877  25.509993\n",
       "4               4   38.450000 -22.786669\n",
       "5               5  314.576176   3.967718\n",
       "6               6  110.000000  34.000000"
      ]
     },
     "execution_count": 18,
     "metadata": {},
     "output_type": "execute_result"
    }
   ],
   "source": [
    "custom_cluster_means"
   ]
  },
  {
   "cell_type": "code",
   "execution_count": 19,
   "metadata": {},
   "outputs": [],
   "source": [
    "custom_cluster_means.to_csv('custom_cluster_means.csv')"
   ]
  },
  {
   "cell_type": "code",
   "execution_count": 20,
   "metadata": {},
   "outputs": [],
   "source": [
    "cluster_0 = Seymour_Bobby.loc[Seymour_Bobby['scikit_cluster'] == 0]\n",
    "cluster_1 = Seymour_Bobby.loc[Seymour_Bobby['scikit_cluster'] == 1]\n",
    "cluster_2 = Seymour_Bobby.loc[Seymour_Bobby['scikit_cluster'] == 2]\n",
    "cluster_3 = Seymour_Bobby.loc[Seymour_Bobby['scikit_cluster'] == 3]\n",
    "cluster_4 = Seymour_Bobby.loc[Seymour_Bobby['scikit_cluster'] == 4]\n",
    "cluster_5 = Seymour_Bobby.loc[Seymour_Bobby['scikit_cluster'] == 5]\n",
    "#cluster_6 = Seymour_Bobby.loc[Seymour_Bobby['scikit_cluster'] == 6]\n",
    "\n",
    "\n",
    "scikit_clusters = [0,1,2,3,4,5]"
   ]
  },
  {
   "cell_type": "code",
   "execution_count": 21,
   "metadata": {},
   "outputs": [],
   "source": [
    "mean_distances = []\n",
    "mean_distances.append(cluster_0['distance'].mean())\n",
    "mean_distances.append(cluster_1['distance'].mean())\n",
    "mean_distances.append(cluster_2['distance'].mean())\n",
    "mean_distances.append(cluster_3['distance'].mean())\n",
    "mean_distances.append(cluster_4['distance'].mean())\n",
    "mean_distances.append(cluster_5['distance'].mean())\n",
    "#mean_distances.append(110)"
   ]
  },
  {
   "cell_type": "code",
   "execution_count": 22,
   "metadata": {},
   "outputs": [],
   "source": [
    "mean_directions = []\n",
    "mean_directions.append(cluster_0['direction'].mean())\n",
    "mean_directions.append(cluster_1['direction'].mean())\n",
    "mean_directions.append(cluster_2['direction'].mean())\n",
    "mean_directions.append(cluster_3['direction'].mean())\n",
    "mean_directions.append(cluster_4['direction'].mean())\n",
    "mean_directions.append(cluster_5['direction'].mean())\n",
    "#mean_directions.append(34)\n"
   ]
  },
  {
   "cell_type": "code",
   "execution_count": 23,
   "metadata": {},
   "outputs": [],
   "source": [
    "scikit_cluster_means = pd.DataFrame()\n",
    "scikit_cluster_means['scikit_cluster'] = scikit_clusters\n",
    "scikit_cluster_means['distance'] = mean_distances\n",
    "scikit_cluster_means['direction'] = mean_directions"
   ]
  },
  {
   "cell_type": "code",
   "execution_count": 24,
   "metadata": {},
   "outputs": [
    {
     "data": {
      "text/html": [
       "<div>\n",
       "<style scoped>\n",
       "    .dataframe tbody tr th:only-of-type {\n",
       "        vertical-align: middle;\n",
       "    }\n",
       "\n",
       "    .dataframe tbody tr th {\n",
       "        vertical-align: top;\n",
       "    }\n",
       "\n",
       "    .dataframe thead th {\n",
       "        text-align: right;\n",
       "    }\n",
       "</style>\n",
       "<table border=\"1\" class=\"dataframe\">\n",
       "  <thead>\n",
       "    <tr style=\"text-align: right;\">\n",
       "      <th></th>\n",
       "      <th>scikit_cluster</th>\n",
       "      <th>distance</th>\n",
       "      <th>direction</th>\n",
       "    </tr>\n",
       "  </thead>\n",
       "  <tbody>\n",
       "    <tr>\n",
       "      <th>0</th>\n",
       "      <td>0</td>\n",
       "      <td>81.222079</td>\n",
       "      <td>4.562978</td>\n",
       "    </tr>\n",
       "    <tr>\n",
       "      <th>1</th>\n",
       "      <td>1</td>\n",
       "      <td>214.850510</td>\n",
       "      <td>-20.659016</td>\n",
       "    </tr>\n",
       "    <tr>\n",
       "      <th>2</th>\n",
       "      <td>2</td>\n",
       "      <td>292.516229</td>\n",
       "      <td>15.817127</td>\n",
       "    </tr>\n",
       "    <tr>\n",
       "      <th>3</th>\n",
       "      <td>3</td>\n",
       "      <td>38.829443</td>\n",
       "      <td>-34.606018</td>\n",
       "    </tr>\n",
       "    <tr>\n",
       "      <th>4</th>\n",
       "      <td>4</td>\n",
       "      <td>28.187412</td>\n",
       "      <td>-14.733002</td>\n",
       "    </tr>\n",
       "    <tr>\n",
       "      <th>5</th>\n",
       "      <td>5</td>\n",
       "      <td>329.382177</td>\n",
       "      <td>-3.055486</td>\n",
       "    </tr>\n",
       "  </tbody>\n",
       "</table>\n",
       "</div>"
      ],
      "text/plain": [
       "   scikit_cluster    distance  direction\n",
       "0               0   81.222079   4.562978\n",
       "1               1  214.850510 -20.659016\n",
       "2               2  292.516229  15.817127\n",
       "3               3   38.829443 -34.606018\n",
       "4               4   28.187412 -14.733002\n",
       "5               5  329.382177  -3.055486"
      ]
     },
     "execution_count": 24,
     "metadata": {},
     "output_type": "execute_result"
    }
   ],
   "source": [
    "scikit_cluster_means"
   ]
  },
  {
   "cell_type": "code",
   "execution_count": 25,
   "metadata": {},
   "outputs": [
    {
     "data": {
      "text/html": [
       "<div>\n",
       "<style scoped>\n",
       "    .dataframe tbody tr th:only-of-type {\n",
       "        vertical-align: middle;\n",
       "    }\n",
       "\n",
       "    .dataframe tbody tr th {\n",
       "        vertical-align: top;\n",
       "    }\n",
       "\n",
       "    .dataframe thead th {\n",
       "        text-align: right;\n",
       "    }\n",
       "</style>\n",
       "<table border=\"1\" class=\"dataframe\">\n",
       "  <thead>\n",
       "    <tr style=\"text-align: right;\">\n",
       "      <th></th>\n",
       "      <th>distance</th>\n",
       "      <th>direction</th>\n",
       "    </tr>\n",
       "  </thead>\n",
       "  <tbody>\n",
       "    <tr>\n",
       "      <th>count</th>\n",
       "      <td>78.000000</td>\n",
       "      <td>78.000000</td>\n",
       "    </tr>\n",
       "    <tr>\n",
       "      <th>mean</th>\n",
       "      <td>177.949749</td>\n",
       "      <td>-8.204741</td>\n",
       "    </tr>\n",
       "    <tr>\n",
       "      <th>std</th>\n",
       "      <td>128.636518</td>\n",
       "      <td>16.794998</td>\n",
       "    </tr>\n",
       "    <tr>\n",
       "      <th>min</th>\n",
       "      <td>5.593710</td>\n",
       "      <td>-43.743795</td>\n",
       "    </tr>\n",
       "    <tr>\n",
       "      <th>25%</th>\n",
       "      <td>51.407273</td>\n",
       "      <td>-19.128308</td>\n",
       "    </tr>\n",
       "    <tr>\n",
       "      <th>50%</th>\n",
       "      <td>181.151851</td>\n",
       "      <td>-10.154456</td>\n",
       "    </tr>\n",
       "    <tr>\n",
       "      <th>75%</th>\n",
       "      <td>311.914524</td>\n",
       "      <td>3.980446</td>\n",
       "    </tr>\n",
       "    <tr>\n",
       "      <th>max</th>\n",
       "      <td>383.645893</td>\n",
       "      <td>27.371540</td>\n",
       "    </tr>\n",
       "  </tbody>\n",
       "</table>\n",
       "</div>"
      ],
      "text/plain": [
       "         distance  direction\n",
       "count   78.000000  78.000000\n",
       "mean   177.949749  -8.204741\n",
       "std    128.636518  16.794998\n",
       "min      5.593710 -43.743795\n",
       "25%     51.407273 -19.128308\n",
       "50%    181.151851 -10.154456\n",
       "75%    311.914524   3.980446\n",
       "max    383.645893  27.371540"
      ]
     },
     "execution_count": 25,
     "metadata": {},
     "output_type": "execute_result"
    }
   ],
   "source": [
    "data.describe()"
   ]
  },
  {
   "cell_type": "code",
   "execution_count": 26,
   "metadata": {},
   "outputs": [],
   "source": [
    "scikit_cluster_means.to_csv('cluster_means.csv')"
   ]
  },
  {
   "cell_type": "code",
   "execution_count": 27,
   "metadata": {},
   "outputs": [],
   "source": [
    "Seymour_Bobby.to_csv('custom_clusters.csv')"
   ]
  },
  {
   "cell_type": "code",
   "execution_count": 28,
   "metadata": {},
   "outputs": [
    {
     "data": {
      "text/html": [
       "<div>\n",
       "<style scoped>\n",
       "    .dataframe tbody tr th:only-of-type {\n",
       "        vertical-align: middle;\n",
       "    }\n",
       "\n",
       "    .dataframe tbody tr th {\n",
       "        vertical-align: top;\n",
       "    }\n",
       "\n",
       "    .dataframe thead th {\n",
       "        text-align: right;\n",
       "    }\n",
       "</style>\n",
       "<table border=\"1\" class=\"dataframe\">\n",
       "  <thead>\n",
       "    <tr style=\"text-align: right;\">\n",
       "      <th></th>\n",
       "      <th>Unnamed: 0</th>\n",
       "      <th>batter_name</th>\n",
       "      <th>pitcher_handedness</th>\n",
       "      <th>batter_handedness</th>\n",
       "      <th>inning</th>\n",
       "      <th>outs</th>\n",
       "      <th>strikes</th>\n",
       "      <th>velocity</th>\n",
       "      <th>vertical_release_angle</th>\n",
       "      <th>horizontal_release_angle</th>\n",
       "      <th>...</th>\n",
       "      <th>pfxz</th>\n",
       "      <th>vx0</th>\n",
       "      <th>vy0</th>\n",
       "      <th>vz0</th>\n",
       "      <th>ax</th>\n",
       "      <th>ay</th>\n",
       "      <th>play_result</th>\n",
       "      <th>traditional_cluster</th>\n",
       "      <th>scikit_cluster</th>\n",
       "      <th>custom_cluster</th>\n",
       "    </tr>\n",
       "  </thead>\n",
       "  <tbody>\n",
       "    <tr>\n",
       "      <th>0</th>\n",
       "      <td>1749</td>\n",
       "      <td>Martin, Austin</td>\n",
       "      <td>1</td>\n",
       "      <td>1</td>\n",
       "      <td>7.0</td>\n",
       "      <td>0.0</td>\n",
       "      <td>2.0</td>\n",
       "      <td>86.288934</td>\n",
       "      <td>0.627089</td>\n",
       "      <td>-3.519084</td>\n",
       "      <td>...</td>\n",
       "      <td>3.859273</td>\n",
       "      <td>7.269059</td>\n",
       "      <td>-125.230646</td>\n",
       "      <td>0.384513</td>\n",
       "      <td>-13.018170</td>\n",
       "      <td>28.200498</td>\n",
       "      <td>1</td>\n",
       "      <td>0.0</td>\n",
       "      <td>0</td>\n",
       "      <td>0.0</td>\n",
       "    </tr>\n",
       "    <tr>\n",
       "      <th>1</th>\n",
       "      <td>1940</td>\n",
       "      <td>Martin, Austin</td>\n",
       "      <td>1</td>\n",
       "      <td>1</td>\n",
       "      <td>7.0</td>\n",
       "      <td>1.0</td>\n",
       "      <td>2.0</td>\n",
       "      <td>84.332604</td>\n",
       "      <td>-1.394514</td>\n",
       "      <td>-3.511450</td>\n",
       "      <td>...</td>\n",
       "      <td>5.295199</td>\n",
       "      <td>7.254627</td>\n",
       "      <td>-122.717318</td>\n",
       "      <td>-3.715640</td>\n",
       "      <td>-10.883066</td>\n",
       "      <td>23.958047</td>\n",
       "      <td>0</td>\n",
       "      <td>0.0</td>\n",
       "      <td>4</td>\n",
       "      <td>1.0</td>\n",
       "    </tr>\n",
       "    <tr>\n",
       "      <th>2</th>\n",
       "      <td>1945</td>\n",
       "      <td>Martin, Austin</td>\n",
       "      <td>1</td>\n",
       "      <td>1</td>\n",
       "      <td>9.0</td>\n",
       "      <td>2.0</td>\n",
       "      <td>2.0</td>\n",
       "      <td>90.950819</td>\n",
       "      <td>-1.959237</td>\n",
       "      <td>-0.198725</td>\n",
       "      <td>...</td>\n",
       "      <td>10.697284</td>\n",
       "      <td>0.403453</td>\n",
       "      <td>-132.485504</td>\n",
       "      <td>-4.934471</td>\n",
       "      <td>-2.087009</td>\n",
       "      <td>29.397472</td>\n",
       "      <td>0</td>\n",
       "      <td>5.0</td>\n",
       "      <td>3</td>\n",
       "      <td>2.0</td>\n",
       "    </tr>\n",
       "    <tr>\n",
       "      <th>3</th>\n",
       "      <td>1955</td>\n",
       "      <td>Martin, Austin</td>\n",
       "      <td>1</td>\n",
       "      <td>1</td>\n",
       "      <td>1.0</td>\n",
       "      <td>0.0</td>\n",
       "      <td>1.0</td>\n",
       "      <td>84.450564</td>\n",
       "      <td>-0.108523</td>\n",
       "      <td>-1.671080</td>\n",
       "      <td>...</td>\n",
       "      <td>2.706867</td>\n",
       "      <td>3.713712</td>\n",
       "      <td>-122.831265</td>\n",
       "      <td>-1.346401</td>\n",
       "      <td>2.565913</td>\n",
       "      <td>24.635446</td>\n",
       "      <td>0</td>\n",
       "      <td>0.0</td>\n",
       "      <td>2</td>\n",
       "      <td>3.0</td>\n",
       "    </tr>\n",
       "    <tr>\n",
       "      <th>4</th>\n",
       "      <td>1957</td>\n",
       "      <td>Martin, Austin</td>\n",
       "      <td>1</td>\n",
       "      <td>1</td>\n",
       "      <td>3.0</td>\n",
       "      <td>0.0</td>\n",
       "      <td>0.0</td>\n",
       "      <td>95.586680</td>\n",
       "      <td>-1.987383</td>\n",
       "      <td>-2.600693</td>\n",
       "      <td>...</td>\n",
       "      <td>10.051809</td>\n",
       "      <td>5.971916</td>\n",
       "      <td>-138.899409</td>\n",
       "      <td>-5.248074</td>\n",
       "      <td>-12.803702</td>\n",
       "      <td>35.391505</td>\n",
       "      <td>0</td>\n",
       "      <td>0.0</td>\n",
       "      <td>4</td>\n",
       "      <td>4.0</td>\n",
       "    </tr>\n",
       "  </tbody>\n",
       "</table>\n",
       "<p>5 rows × 44 columns</p>\n",
       "</div>"
      ],
      "text/plain": [
       "   Unnamed: 0     batter_name  pitcher_handedness  batter_handedness  inning  \\\n",
       "0        1749  Martin, Austin                   1                  1     7.0   \n",
       "1        1940  Martin, Austin                   1                  1     7.0   \n",
       "2        1945  Martin, Austin                   1                  1     9.0   \n",
       "3        1955  Martin, Austin                   1                  1     1.0   \n",
       "4        1957  Martin, Austin                   1                  1     3.0   \n",
       "\n",
       "   outs  strikes   velocity  vertical_release_angle  horizontal_release_angle  \\\n",
       "0   0.0      2.0  86.288934                0.627089                 -3.519084   \n",
       "1   1.0      2.0  84.332604               -1.394514                 -3.511450   \n",
       "2   2.0      2.0  90.950819               -1.959237                 -0.198725   \n",
       "3   0.0      1.0  84.450564               -0.108523                 -1.671080   \n",
       "4   0.0      0.0  95.586680               -1.987383                 -2.600693   \n",
       "\n",
       "   ...       pfxz       vx0         vy0       vz0         ax         ay  \\\n",
       "0  ...   3.859273  7.269059 -125.230646  0.384513 -13.018170  28.200498   \n",
       "1  ...   5.295199  7.254627 -122.717318 -3.715640 -10.883066  23.958047   \n",
       "2  ...  10.697284  0.403453 -132.485504 -4.934471  -2.087009  29.397472   \n",
       "3  ...   2.706867  3.713712 -122.831265 -1.346401   2.565913  24.635446   \n",
       "4  ...  10.051809  5.971916 -138.899409 -5.248074 -12.803702  35.391505   \n",
       "\n",
       "   play_result  traditional_cluster  scikit_cluster  custom_cluster  \n",
       "0            1                  0.0               0             0.0  \n",
       "1            0                  0.0               4             1.0  \n",
       "2            0                  5.0               3             2.0  \n",
       "3            0                  0.0               2             3.0  \n",
       "4            0                  0.0               4             4.0  \n",
       "\n",
       "[5 rows x 44 columns]"
      ]
     },
     "execution_count": 28,
     "metadata": {},
     "output_type": "execute_result"
    }
   ],
   "source": [
    "Seymour_Bobby.head()"
   ]
  },
  {
   "cell_type": "code",
   "execution_count": 29,
   "metadata": {},
   "outputs": [],
   "source": [
    "Seymour_Bobby.to_csv('clusters.csv')"
   ]
  },
  {
   "cell_type": "code",
   "execution_count": 30,
   "metadata": {},
   "outputs": [
    {
     "data": {
      "text/html": [
       "<div>\n",
       "<style scoped>\n",
       "    .dataframe tbody tr th:only-of-type {\n",
       "        vertical-align: middle;\n",
       "    }\n",
       "\n",
       "    .dataframe tbody tr th {\n",
       "        vertical-align: top;\n",
       "    }\n",
       "\n",
       "    .dataframe thead th {\n",
       "        text-align: right;\n",
       "    }\n",
       "</style>\n",
       "<table border=\"1\" class=\"dataframe\">\n",
       "  <thead>\n",
       "    <tr style=\"text-align: right;\">\n",
       "      <th></th>\n",
       "      <th>distance</th>\n",
       "      <th>direction</th>\n",
       "    </tr>\n",
       "  </thead>\n",
       "  <tbody>\n",
       "    <tr>\n",
       "      <th>0</th>\n",
       "      <td>189.332791</td>\n",
       "      <td>-2.798317</td>\n",
       "    </tr>\n",
       "    <tr>\n",
       "      <th>1</th>\n",
       "      <td>5.593710</td>\n",
       "      <td>-10.154456</td>\n",
       "    </tr>\n",
       "    <tr>\n",
       "      <th>2</th>\n",
       "      <td>70.185474</td>\n",
       "      <td>-40.734239</td>\n",
       "    </tr>\n",
       "    <tr>\n",
       "      <th>3</th>\n",
       "      <td>325.306079</td>\n",
       "      <td>27.371540</td>\n",
       "    </tr>\n",
       "    <tr>\n",
       "      <th>4</th>\n",
       "      <td>61.444774</td>\n",
       "      <td>-22.303853</td>\n",
       "    </tr>\n",
       "    <tr>\n",
       "      <th>...</th>\n",
       "      <td>...</td>\n",
       "      <td>...</td>\n",
       "    </tr>\n",
       "    <tr>\n",
       "      <th>73</th>\n",
       "      <td>6.000730</td>\n",
       "      <td>-41.798812</td>\n",
       "    </tr>\n",
       "    <tr>\n",
       "      <th>74</th>\n",
       "      <td>281.800418</td>\n",
       "      <td>9.373242</td>\n",
       "    </tr>\n",
       "    <tr>\n",
       "      <th>75</th>\n",
       "      <td>328.012851</td>\n",
       "      <td>-0.853940</td>\n",
       "    </tr>\n",
       "    <tr>\n",
       "      <th>76</th>\n",
       "      <td>5.593710</td>\n",
       "      <td>-10.154456</td>\n",
       "    </tr>\n",
       "    <tr>\n",
       "      <th>77</th>\n",
       "      <td>318.581758</td>\n",
       "      <td>-10.686395</td>\n",
       "    </tr>\n",
       "  </tbody>\n",
       "</table>\n",
       "<p>78 rows × 2 columns</p>\n",
       "</div>"
      ],
      "text/plain": [
       "      distance  direction\n",
       "0   189.332791  -2.798317\n",
       "1     5.593710 -10.154456\n",
       "2    70.185474 -40.734239\n",
       "3   325.306079  27.371540\n",
       "4    61.444774 -22.303853\n",
       "..         ...        ...\n",
       "73    6.000730 -41.798812\n",
       "74  281.800418   9.373242\n",
       "75  328.012851  -0.853940\n",
       "76    5.593710 -10.154456\n",
       "77  318.581758 -10.686395\n",
       "\n",
       "[78 rows x 2 columns]"
      ]
     },
     "execution_count": 30,
     "metadata": {},
     "output_type": "execute_result"
    }
   ],
   "source": [
    "data"
   ]
  },
  {
   "cell_type": "code",
   "execution_count": 31,
   "metadata": {},
   "outputs": [],
   "source": [
    "Seymour_Bobby = batter_dict['Martin, Austin']\n",
    "Seymour_Bobby_1B = Seymour_Bobby[Seymour_Bobby['traditional_cluster'] == 3] #Drop all to 1st"
   ]
  },
  {
   "cell_type": "code",
   "execution_count": 32,
   "metadata": {},
   "outputs": [],
   "source": [
    "Seymour_Bobby_1B.to_csv('Seymour_Bobby_1B.csv')"
   ]
  },
  {
   "cell_type": "code",
   "execution_count": 33,
   "metadata": {},
   "outputs": [
    {
     "data": {
      "text/html": [
       "<div>\n",
       "<style scoped>\n",
       "    .dataframe tbody tr th:only-of-type {\n",
       "        vertical-align: middle;\n",
       "    }\n",
       "\n",
       "    .dataframe tbody tr th {\n",
       "        vertical-align: top;\n",
       "    }\n",
       "\n",
       "    .dataframe thead th {\n",
       "        text-align: right;\n",
       "    }\n",
       "</style>\n",
       "<table border=\"1\" class=\"dataframe\">\n",
       "  <thead>\n",
       "    <tr style=\"text-align: right;\">\n",
       "      <th></th>\n",
       "      <th>Unnamed: 0</th>\n",
       "      <th>batter_name</th>\n",
       "      <th>pitcher_handedness</th>\n",
       "      <th>batter_handedness</th>\n",
       "      <th>inning</th>\n",
       "      <th>outs</th>\n",
       "      <th>strikes</th>\n",
       "      <th>velocity</th>\n",
       "      <th>vertical_release_angle</th>\n",
       "      <th>horizontal_release_angle</th>\n",
       "      <th>...</th>\n",
       "      <th>hang_time</th>\n",
       "      <th>pfxx</th>\n",
       "      <th>pfxz</th>\n",
       "      <th>vx0</th>\n",
       "      <th>vy0</th>\n",
       "      <th>vz0</th>\n",
       "      <th>ax</th>\n",
       "      <th>ay</th>\n",
       "      <th>play_result</th>\n",
       "      <th>traditional_cluster</th>\n",
       "    </tr>\n",
       "  </thead>\n",
       "  <tbody>\n",
       "  </tbody>\n",
       "</table>\n",
       "<p>0 rows × 42 columns</p>\n",
       "</div>"
      ],
      "text/plain": [
       "Empty DataFrame\n",
       "Columns: [Unnamed: 0, batter_name, pitcher_handedness, batter_handedness, inning, outs, strikes, velocity, vertical_release_angle, horizontal_release_angle, spin_rate, release_height, extension, vertical_break, induced_vertical_break, horizontal_break, height_at_plate, side_at_plate, zone_speed, vertical_approach_angle, horz_approach_angle, zone_time, exit_velocity, launch_angle, direction, hit_spin_rate, position_at_110x, position_at_110y, position_at_110z, distance, last_tracked_distance, bearing, hang_time, pfxx, pfxz, vx0, vy0, vz0, ax, ay, play_result, traditional_cluster]\n",
       "Index: []\n",
       "\n",
       "[0 rows x 42 columns]"
      ]
     },
     "execution_count": 33,
     "metadata": {},
     "output_type": "execute_result"
    }
   ],
   "source": [
    "Seymour_Bobby_1B.head()"
   ]
  },
  {
   "cell_type": "code",
   "execution_count": null,
   "metadata": {},
   "outputs": [],
   "source": []
  }
 ],
 "metadata": {
  "kernelspec": {
   "display_name": "Python 3",
   "language": "python",
   "name": "python3"
  },
  "language_info": {
   "codemirror_mode": {
    "name": "ipython",
    "version": 3
   },
   "file_extension": ".py",
   "mimetype": "text/x-python",
   "name": "python",
   "nbconvert_exporter": "python",
   "pygments_lexer": "ipython3",
   "version": "3.8.3"
  }
 },
 "nbformat": 4,
 "nbformat_minor": 4
}
